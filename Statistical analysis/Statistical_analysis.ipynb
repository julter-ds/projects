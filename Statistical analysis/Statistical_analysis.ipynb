{
 "cells": [
  {
   "cell_type": "markdown",
   "metadata": {},
   "source": [
    "# Defining the most efficient plan for the mobile network operator"
   ]
  },
  {
   "cell_type": "markdown",
   "metadata": {},
   "source": [
    "A mobile network operator offers two prepaid plans, Smart and Ultra. \n",
    "\n",
    "The sales department would like to know which of the plans is more profitable in order to adjust the advertising budget.\n",
    "\n",
    "The task is to carry out a preliminary analysis of the plans based on a relatively small client selection. \n",
    "It is also required to analyze clients' behavior and work out the most profitable prepaid plan.\n"
   ]
  },
  {
   "cell_type": "markdown",
   "metadata": {
    "toc": true
   },
   "source": [
    "<h1>Contents<span class=\"tocSkip\"></span></h1>\n",
    "<div class=\"toc\"><ul class=\"toc-item\"><li><span><a href=\"#Data-description\" data-toc-modified-id=\"Data-description-1\"><span class=\"toc-item-num\">1&nbsp;&nbsp;</span>Data description</a></span></li><li><span><a href=\"#Plans-description\" data-toc-modified-id=\"Plans-description-2\"><span class=\"toc-item-num\">2&nbsp;&nbsp;</span>Plans description</a></span></li><li><span><a href=\"#General-information\" data-toc-modified-id=\"General-information-3\"><span class=\"toc-item-num\">3&nbsp;&nbsp;</span>General information</a></span><ul class=\"toc-item\"><li><span><a href=\"#Summary\" data-toc-modified-id=\"Summary-3.1\"><span class=\"toc-item-num\">3.1&nbsp;&nbsp;</span>Summary</a></span></li></ul></li><li><span><a href=\"#Data-preparation\" data-toc-modified-id=\"Data-preparation-4\"><span class=\"toc-item-num\">4&nbsp;&nbsp;</span>Data preparation</a></span><ul class=\"toc-item\"><li><span><a href=\"#Transforming-the-types\" data-toc-modified-id=\"Transforming-the-types-4.1\"><span class=\"toc-item-num\">4.1&nbsp;&nbsp;</span>Transforming the types</a></span></li><li><span><a href=\"#Correcting-the-data-errors\" data-toc-modified-id=\"Correcting-the-data-errors-4.2\"><span class=\"toc-item-num\">4.2&nbsp;&nbsp;</span>Correcting the data errors</a></span></li><li><span><a href=\"#Adding-the-new-columns\" data-toc-modified-id=\"Adding-the-new-columns-4.3\"><span class=\"toc-item-num\">4.3&nbsp;&nbsp;</span>Adding the new columns</a></span></li><li><span><a href=\"#Calls-monthly-data-in-a-pivot-table\" data-toc-modified-id=\"Calls-monthly-data-in-a-pivot-table-4.4\"><span class=\"toc-item-num\">4.4&nbsp;&nbsp;</span>Calls monthly data in a pivot table</a></span></li><li><span><a href=\"#Sent-SMS-monthly-data-in-a-pivot-table\" data-toc-modified-id=\"Sent-SMS-monthly-data-in-a-pivot-table-4.5\"><span class=\"toc-item-num\">4.5&nbsp;&nbsp;</span>Sent SMS monthly data in a pivot table</a></span></li><li><span><a href=\"#Mobile-internet-usage-monthly-data-in-a-pivot-table\" data-toc-modified-id=\"Mobile-internet-usage-monthly-data-in-a-pivot-table-4.6\"><span class=\"toc-item-num\">4.6&nbsp;&nbsp;</span>Mobile internet usage monthly data in a pivot table</a></span></li><li><span><a href=\"#Monthly-revenue-per-user\" data-toc-modified-id=\"Monthly-revenue-per-user-4.7\"><span class=\"toc-item-num\">4.7&nbsp;&nbsp;</span>Monthly revenue per user</a></span></li><li><span><a href=\"#Summary\" data-toc-modified-id=\"Summary-4.8\"><span class=\"toc-item-num\">4.8&nbsp;&nbsp;</span>Summary</a></span></li></ul></li><li><span><a href=\"#Data-analysis\" data-toc-modified-id=\"Data-analysis-5\"><span class=\"toc-item-num\">5&nbsp;&nbsp;</span>Data analysis</a></span><ul class=\"toc-item\"><li><span><a href=\"#How-many-minutes-do-users-need-per-month?\" data-toc-modified-id=\"How-many-minutes-do-users-need-per-month?-5.1\"><span class=\"toc-item-num\">5.1&nbsp;&nbsp;</span>How many minutes do users need per month?</a></span><ul class=\"toc-item\"><li><span><a href=\"#&quot;Smart&quot;-plan\" data-toc-modified-id=\"&quot;Smart&quot;-plan-5.1.1\"><span class=\"toc-item-num\">5.1.1&nbsp;&nbsp;</span>\"Smart\" plan</a></span></li><li><span><a href=\"#&quot;Ultra&quot;-plan\" data-toc-modified-id=\"&quot;Ultra&quot;-plan-5.1.2\"><span class=\"toc-item-num\">5.1.2&nbsp;&nbsp;</span>\"Ultra\" plan</a></span></li></ul></li><li><span><a href=\"#How-many-SMS-do-users-need-per-month?\" data-toc-modified-id=\"How-many-SMS-do-users-need-per-month?-5.2\"><span class=\"toc-item-num\">5.2&nbsp;&nbsp;</span>How many SMS do users need per month?</a></span><ul class=\"toc-item\"><li><span><a href=\"#&quot;Smart&quot;-plan\" data-toc-modified-id=\"&quot;Smart&quot;-plan-5.2.1\"><span class=\"toc-item-num\">5.2.1&nbsp;&nbsp;</span>\"Smart\" plan</a></span></li><li><span><a href=\"#&quot;Ultra&quot;-plan\" data-toc-modified-id=\"&quot;Ultra&quot;-plan-5.2.2\"><span class=\"toc-item-num\">5.2.2&nbsp;&nbsp;</span>\"Ultra\" plan</a></span></li></ul></li><li><span><a href=\"#How-much-mobile-data-do-users-need-per-month?\" data-toc-modified-id=\"How-much-mobile-data-do-users-need-per-month?-5.3\"><span class=\"toc-item-num\">5.3&nbsp;&nbsp;</span>How much mobile data do users need per month?</a></span><ul class=\"toc-item\"><li><span><a href=\"#&quot;Smart&quot;-plan\" data-toc-modified-id=\"&quot;Smart&quot;-plan-5.3.1\"><span class=\"toc-item-num\">5.3.1&nbsp;&nbsp;</span>\"Smart\" plan</a></span></li><li><span><a href=\"#&quot;Ultra&quot;-plan\" data-toc-modified-id=\"&quot;Ultra&quot;-plan-5.3.2\"><span class=\"toc-item-num\">5.3.2&nbsp;&nbsp;</span>\"Ultra\" plan</a></span></li></ul></li><li><span><a href=\"#Summary\" data-toc-modified-id=\"Summary-5.4\"><span class=\"toc-item-num\">5.4&nbsp;&nbsp;</span>Summary</a></span></li></ul></li><li><span><a href=\"#Hypothesis-Testing\" data-toc-modified-id=\"Hypothesis-Testing-6\"><span class=\"toc-item-num\">6&nbsp;&nbsp;</span>Hypothesis Testing</a></span><ul class=\"toc-item\"><li><span><a href=\"#The-average-revenue-of-&quot;Ultra&quot;-and-&quot;Smart&quot;-plan-users-differ\" data-toc-modified-id=\"The-average-revenue-of-&quot;Ultra&quot;-and-&quot;Smart&quot;-plan-users-differ-6.1\"><span class=\"toc-item-num\">6.1&nbsp;&nbsp;</span>The average revenue of \"Ultra\" and \"Smart\" plan users differ</a></span></li><li><span><a href=\"#The-average-revenue-of-Moscow-users-differs-from-other-regions\" data-toc-modified-id=\"The-average-revenue-of-Moscow-users-differs-from-other-regions-6.2\"><span class=\"toc-item-num\">6.2&nbsp;&nbsp;</span>The average revenue of Moscow users differs from other regions</a></span></li><li><span><a href=\"#Summary\" data-toc-modified-id=\"Summary-6.3\"><span class=\"toc-item-num\">6.3&nbsp;&nbsp;</span>Summary</a></span></li></ul></li><li><span><a href=\"#General-conclusion\" data-toc-modified-id=\"General-conclusion-7\"><span class=\"toc-item-num\">7&nbsp;&nbsp;</span>General conclusion</a></span></li></ul></div>"
   ]
  },
  {
   "cell_type": "markdown",
   "metadata": {},
   "source": [
    "## Data description"
   ]
  },
  {
   "cell_type": "markdown",
   "metadata": {},
   "source": [
    "**Users** table:\n",
    "- user_id — unique user identifier\n",
    "- first_name — user's first name\n",
    "- last_name — user's last name\n",
    "- age — user's age in years\n",
    "- reg_date — subscription date (dd, mm, yy)\n",
    "- churn_date — subscription termination date (if empty the subscription is active)\n",
    "- city — the city of residence\n",
    "- tarif — the name of the plan\n"
   ]
  },
  {
   "cell_type": "markdown",
   "metadata": {},
   "source": [
    "**Calls** table:\n",
    "- id — unique call identifier\n",
    "- call_date — call date\n",
    "- duration — call duration (minutes)\n",
    "- user_id — the identifier of the user making a call"
   ]
  },
  {
   "cell_type": "markdown",
   "metadata": {},
   "source": [
    "**Messages** table:\n",
    "- id — unique SMS identifier\n",
    "- message_date — SMS date\n",
    "- user_id — the identifier of the user sending an SMS"
   ]
  },
  {
   "cell_type": "markdown",
   "metadata": {},
   "source": [
    "**Internet** table:\n",
    "- id — unique session id\n",
    "- mb_used — the volume of web traffic spent during a session (in megabytes)\n",
    "- session_date — web session date\n",
    "- user_id — user identifier"
   ]
  },
  {
   "cell_type": "markdown",
   "metadata": {},
   "source": [
    "**Tariffs** table:\n",
    "- tariff_name — prepaid plan name\n",
    "- rub_monthly_fee — monthly fee in roubles\n",
    "- minutes_included — the amount of minutes included in the package\n",
    "- messages_included — the amount of SMS included \n",
    "- mb_per_month_included — the amount of Mb included \n",
    "- rub_per_minute — the price per minute above the monthly limit \n",
    "- rub_per_message — the price per SMS above the limit \n",
    "- rub_per_gb — the price per 1Gb above the monthly limit "
   ]
  },
  {
   "cell_type": "markdown",
   "metadata": {},
   "source": [
    "## Plans description"
   ]
  },
  {
   "cell_type": "markdown",
   "metadata": {},
   "source": [
    "**Smart** plan\n",
    "\n",
    "- Monthly payment: 550 roubles\n",
    "- 500 minutes, 50 SMS and 15 Gb included\n",
    "- Charges above the limit:\n",
    " - per minute: 3 roubles\n",
    " - per SMS: 3 roubles\n",
    " - per 1 Gb: 200 roubles\n",
    "\n",
    "**Ultra** plan\n",
    "\n",
    "\n",
    "- Monthly payment: 1950 roubles\n",
    "- 3000 minutes, 1000 SMS и 30 Gb included\n",
    "- Charges above the limit:\n",
    " - per minute: 1 rouble\n",
    " - per SMS: 1 rouble\n",
    " - per 1 Gb: 150 roubles"
   ]
  },
  {
   "cell_type": "markdown",
   "metadata": {},
   "source": [
    "## General information"
   ]
  },
  {
   "cell_type": "code",
   "execution_count": 262,
   "metadata": {},
   "outputs": [],
   "source": [
    "from scipy import stats as st\n",
    "import pandas as pd\n",
    "import numpy as np\n",
    "import sys"
   ]
  },
  {
   "cell_type": "code",
   "execution_count": 263,
   "metadata": {},
   "outputs": [
    {
     "name": "stdout",
     "output_type": "stream",
     "text": [
      "<class 'pandas.core.frame.DataFrame'>\n",
      "RangeIndex: 500 entries, 0 to 499\n",
      "Data columns (total 8 columns):\n",
      " #   Column      Non-Null Count  Dtype \n",
      "---  ------      --------------  ----- \n",
      " 0   user_id     500 non-null    int64 \n",
      " 1   age         500 non-null    int64 \n",
      " 2   churn_date  38 non-null     object\n",
      " 3   city        500 non-null    object\n",
      " 4   first_name  500 non-null    object\n",
      " 5   last_name   500 non-null    object\n",
      " 6   reg_date    500 non-null    object\n",
      " 7   tariff      500 non-null    object\n",
      "dtypes: int64(2), object(6)\n",
      "memory usage: 31.4+ KB\n"
     ]
    },
    {
     "data": {
      "text/html": [
       "<div>\n",
       "<style scoped>\n",
       "    .dataframe tbody tr th:only-of-type {\n",
       "        vertical-align: middle;\n",
       "    }\n",
       "\n",
       "    .dataframe tbody tr th {\n",
       "        vertical-align: top;\n",
       "    }\n",
       "\n",
       "    .dataframe thead th {\n",
       "        text-align: right;\n",
       "    }\n",
       "</style>\n",
       "<table border=\"1\" class=\"dataframe\">\n",
       "  <thead>\n",
       "    <tr style=\"text-align: right;\">\n",
       "      <th></th>\n",
       "      <th>user_id</th>\n",
       "      <th>age</th>\n",
       "      <th>churn_date</th>\n",
       "      <th>city</th>\n",
       "      <th>first_name</th>\n",
       "      <th>last_name</th>\n",
       "      <th>reg_date</th>\n",
       "      <th>tariff</th>\n",
       "    </tr>\n",
       "  </thead>\n",
       "  <tbody>\n",
       "    <tr>\n",
       "      <th>0</th>\n",
       "      <td>1000</td>\n",
       "      <td>52</td>\n",
       "      <td>NaN</td>\n",
       "      <td>Краснодар</td>\n",
       "      <td>Рафаил</td>\n",
       "      <td>Верещагин</td>\n",
       "      <td>2018-05-25</td>\n",
       "      <td>ultra</td>\n",
       "    </tr>\n",
       "    <tr>\n",
       "      <th>1</th>\n",
       "      <td>1001</td>\n",
       "      <td>41</td>\n",
       "      <td>NaN</td>\n",
       "      <td>Москва</td>\n",
       "      <td>Иван</td>\n",
       "      <td>Ежов</td>\n",
       "      <td>2018-11-01</td>\n",
       "      <td>smart</td>\n",
       "    </tr>\n",
       "    <tr>\n",
       "      <th>2</th>\n",
       "      <td>1002</td>\n",
       "      <td>59</td>\n",
       "      <td>NaN</td>\n",
       "      <td>Стерлитамак</td>\n",
       "      <td>Евгений</td>\n",
       "      <td>Абрамович</td>\n",
       "      <td>2018-06-17</td>\n",
       "      <td>smart</td>\n",
       "    </tr>\n",
       "    <tr>\n",
       "      <th>3</th>\n",
       "      <td>1003</td>\n",
       "      <td>23</td>\n",
       "      <td>NaN</td>\n",
       "      <td>Москва</td>\n",
       "      <td>Белла</td>\n",
       "      <td>Белякова</td>\n",
       "      <td>2018-08-17</td>\n",
       "      <td>ultra</td>\n",
       "    </tr>\n",
       "    <tr>\n",
       "      <th>4</th>\n",
       "      <td>1004</td>\n",
       "      <td>68</td>\n",
       "      <td>NaN</td>\n",
       "      <td>Новокузнецк</td>\n",
       "      <td>Татьяна</td>\n",
       "      <td>Авдеенко</td>\n",
       "      <td>2018-05-14</td>\n",
       "      <td>ultra</td>\n",
       "    </tr>\n",
       "    <tr>\n",
       "      <th>5</th>\n",
       "      <td>1005</td>\n",
       "      <td>67</td>\n",
       "      <td>NaN</td>\n",
       "      <td>Набережные Челны</td>\n",
       "      <td>Афанасий</td>\n",
       "      <td>Горлов</td>\n",
       "      <td>2018-01-25</td>\n",
       "      <td>smart</td>\n",
       "    </tr>\n",
       "    <tr>\n",
       "      <th>6</th>\n",
       "      <td>1006</td>\n",
       "      <td>21</td>\n",
       "      <td>NaN</td>\n",
       "      <td>Ульяновск</td>\n",
       "      <td>Леонид</td>\n",
       "      <td>Ермолаев</td>\n",
       "      <td>2018-02-26</td>\n",
       "      <td>smart</td>\n",
       "    </tr>\n",
       "    <tr>\n",
       "      <th>7</th>\n",
       "      <td>1007</td>\n",
       "      <td>65</td>\n",
       "      <td>NaN</td>\n",
       "      <td>Москва</td>\n",
       "      <td>Юна</td>\n",
       "      <td>Березина</td>\n",
       "      <td>2018-04-19</td>\n",
       "      <td>smart</td>\n",
       "    </tr>\n",
       "    <tr>\n",
       "      <th>8</th>\n",
       "      <td>1008</td>\n",
       "      <td>63</td>\n",
       "      <td>NaN</td>\n",
       "      <td>Челябинск</td>\n",
       "      <td>Рустэм</td>\n",
       "      <td>Пономарёв</td>\n",
       "      <td>2018-12-19</td>\n",
       "      <td>smart</td>\n",
       "    </tr>\n",
       "    <tr>\n",
       "      <th>9</th>\n",
       "      <td>1009</td>\n",
       "      <td>24</td>\n",
       "      <td>NaN</td>\n",
       "      <td>Пермь</td>\n",
       "      <td>Василиса</td>\n",
       "      <td>Блинова</td>\n",
       "      <td>2018-03-22</td>\n",
       "      <td>smart</td>\n",
       "    </tr>\n",
       "  </tbody>\n",
       "</table>\n",
       "</div>"
      ],
      "text/plain": [
       "   user_id  age churn_date              city first_name  last_name  \\\n",
       "0     1000   52        NaN         Краснодар     Рафаил  Верещагин   \n",
       "1     1001   41        NaN            Москва       Иван       Ежов   \n",
       "2     1002   59        NaN       Стерлитамак    Евгений  Абрамович   \n",
       "3     1003   23        NaN            Москва      Белла   Белякова   \n",
       "4     1004   68        NaN       Новокузнецк    Татьяна   Авдеенко   \n",
       "5     1005   67        NaN  Набережные Челны   Афанасий     Горлов   \n",
       "6     1006   21        NaN         Ульяновск     Леонид   Ермолаев   \n",
       "7     1007   65        NaN            Москва        Юна   Березина   \n",
       "8     1008   63        NaN         Челябинск     Рустэм  Пономарёв   \n",
       "9     1009   24        NaN             Пермь   Василиса    Блинова   \n",
       "\n",
       "     reg_date tariff  \n",
       "0  2018-05-25  ultra  \n",
       "1  2018-11-01  smart  \n",
       "2  2018-06-17  smart  \n",
       "3  2018-08-17  ultra  \n",
       "4  2018-05-14  ultra  \n",
       "5  2018-01-25  smart  \n",
       "6  2018-02-26  smart  \n",
       "7  2018-04-19  smart  \n",
       "8  2018-12-19  smart  \n",
       "9  2018-03-22  smart  "
      ]
     },
     "execution_count": 263,
     "metadata": {},
     "output_type": "execute_result"
    }
   ],
   "source": [
    "users_data = pd.read_csv('https://code.s3.yandex.net/datasets/users.csv')\n",
    "users_data.info()\n",
    "users_data.head(10)"
   ]
  },
  {
   "cell_type": "code",
   "execution_count": 264,
   "metadata": {},
   "outputs": [
    {
     "name": "stdout",
     "output_type": "stream",
     "text": [
      "<class 'pandas.core.frame.DataFrame'>\n",
      "RangeIndex: 202607 entries, 0 to 202606\n",
      "Data columns (total 4 columns):\n",
      " #   Column     Non-Null Count   Dtype  \n",
      "---  ------     --------------   -----  \n",
      " 0   id         202607 non-null  object \n",
      " 1   call_date  202607 non-null  object \n",
      " 2   duration   202607 non-null  float64\n",
      " 3   user_id    202607 non-null  int64  \n",
      "dtypes: float64(1), int64(1), object(2)\n",
      "memory usage: 6.2+ MB\n"
     ]
    },
    {
     "data": {
      "text/html": [
       "<div>\n",
       "<style scoped>\n",
       "    .dataframe tbody tr th:only-of-type {\n",
       "        vertical-align: middle;\n",
       "    }\n",
       "\n",
       "    .dataframe tbody tr th {\n",
       "        vertical-align: top;\n",
       "    }\n",
       "\n",
       "    .dataframe thead th {\n",
       "        text-align: right;\n",
       "    }\n",
       "</style>\n",
       "<table border=\"1\" class=\"dataframe\">\n",
       "  <thead>\n",
       "    <tr style=\"text-align: right;\">\n",
       "      <th></th>\n",
       "      <th>id</th>\n",
       "      <th>call_date</th>\n",
       "      <th>duration</th>\n",
       "      <th>user_id</th>\n",
       "    </tr>\n",
       "  </thead>\n",
       "  <tbody>\n",
       "    <tr>\n",
       "      <th>0</th>\n",
       "      <td>1000_0</td>\n",
       "      <td>2018-07-25</td>\n",
       "      <td>0.00</td>\n",
       "      <td>1000</td>\n",
       "    </tr>\n",
       "    <tr>\n",
       "      <th>1</th>\n",
       "      <td>1000_1</td>\n",
       "      <td>2018-08-17</td>\n",
       "      <td>0.00</td>\n",
       "      <td>1000</td>\n",
       "    </tr>\n",
       "    <tr>\n",
       "      <th>2</th>\n",
       "      <td>1000_2</td>\n",
       "      <td>2018-06-11</td>\n",
       "      <td>2.85</td>\n",
       "      <td>1000</td>\n",
       "    </tr>\n",
       "    <tr>\n",
       "      <th>3</th>\n",
       "      <td>1000_3</td>\n",
       "      <td>2018-09-21</td>\n",
       "      <td>13.80</td>\n",
       "      <td>1000</td>\n",
       "    </tr>\n",
       "    <tr>\n",
       "      <th>4</th>\n",
       "      <td>1000_4</td>\n",
       "      <td>2018-12-15</td>\n",
       "      <td>5.18</td>\n",
       "      <td>1000</td>\n",
       "    </tr>\n",
       "    <tr>\n",
       "      <th>5</th>\n",
       "      <td>1000_5</td>\n",
       "      <td>2018-11-02</td>\n",
       "      <td>0.00</td>\n",
       "      <td>1000</td>\n",
       "    </tr>\n",
       "    <tr>\n",
       "      <th>6</th>\n",
       "      <td>1000_6</td>\n",
       "      <td>2018-10-18</td>\n",
       "      <td>0.00</td>\n",
       "      <td>1000</td>\n",
       "    </tr>\n",
       "    <tr>\n",
       "      <th>7</th>\n",
       "      <td>1000_7</td>\n",
       "      <td>2018-08-22</td>\n",
       "      <td>18.31</td>\n",
       "      <td>1000</td>\n",
       "    </tr>\n",
       "    <tr>\n",
       "      <th>8</th>\n",
       "      <td>1000_8</td>\n",
       "      <td>2018-09-15</td>\n",
       "      <td>18.44</td>\n",
       "      <td>1000</td>\n",
       "    </tr>\n",
       "    <tr>\n",
       "      <th>9</th>\n",
       "      <td>1000_9</td>\n",
       "      <td>2018-08-15</td>\n",
       "      <td>0.00</td>\n",
       "      <td>1000</td>\n",
       "    </tr>\n",
       "  </tbody>\n",
       "</table>\n",
       "</div>"
      ],
      "text/plain": [
       "       id   call_date  duration  user_id\n",
       "0  1000_0  2018-07-25      0.00     1000\n",
       "1  1000_1  2018-08-17      0.00     1000\n",
       "2  1000_2  2018-06-11      2.85     1000\n",
       "3  1000_3  2018-09-21     13.80     1000\n",
       "4  1000_4  2018-12-15      5.18     1000\n",
       "5  1000_5  2018-11-02      0.00     1000\n",
       "6  1000_6  2018-10-18      0.00     1000\n",
       "7  1000_7  2018-08-22     18.31     1000\n",
       "8  1000_8  2018-09-15     18.44     1000\n",
       "9  1000_9  2018-08-15      0.00     1000"
      ]
     },
     "execution_count": 264,
     "metadata": {},
     "output_type": "execute_result"
    }
   ],
   "source": [
    "calls_data = pd.read_csv('https://code.s3.yandex.net/datasets/calls.csv')\n",
    "calls_data.info()\n",
    "calls_data.head(10)"
   ]
  },
  {
   "cell_type": "code",
   "execution_count": 265,
   "metadata": {},
   "outputs": [
    {
     "name": "stdout",
     "output_type": "stream",
     "text": [
      "<class 'pandas.core.frame.DataFrame'>\n",
      "RangeIndex: 149396 entries, 0 to 149395\n",
      "Data columns (total 5 columns):\n",
      " #   Column        Non-Null Count   Dtype  \n",
      "---  ------        --------------   -----  \n",
      " 0   Unnamed: 0    149396 non-null  int64  \n",
      " 1   id            149396 non-null  object \n",
      " 2   mb_used       149396 non-null  float64\n",
      " 3   session_date  149396 non-null  object \n",
      " 4   user_id       149396 non-null  int64  \n",
      "dtypes: float64(1), int64(2), object(2)\n",
      "memory usage: 5.7+ MB\n"
     ]
    },
    {
     "data": {
      "text/html": [
       "<div>\n",
       "<style scoped>\n",
       "    .dataframe tbody tr th:only-of-type {\n",
       "        vertical-align: middle;\n",
       "    }\n",
       "\n",
       "    .dataframe tbody tr th {\n",
       "        vertical-align: top;\n",
       "    }\n",
       "\n",
       "    .dataframe thead th {\n",
       "        text-align: right;\n",
       "    }\n",
       "</style>\n",
       "<table border=\"1\" class=\"dataframe\">\n",
       "  <thead>\n",
       "    <tr style=\"text-align: right;\">\n",
       "      <th></th>\n",
       "      <th>Unnamed: 0</th>\n",
       "      <th>id</th>\n",
       "      <th>mb_used</th>\n",
       "      <th>session_date</th>\n",
       "      <th>user_id</th>\n",
       "    </tr>\n",
       "  </thead>\n",
       "  <tbody>\n",
       "    <tr>\n",
       "      <th>0</th>\n",
       "      <td>0</td>\n",
       "      <td>1000_0</td>\n",
       "      <td>112.95</td>\n",
       "      <td>2018-11-25</td>\n",
       "      <td>1000</td>\n",
       "    </tr>\n",
       "    <tr>\n",
       "      <th>1</th>\n",
       "      <td>1</td>\n",
       "      <td>1000_1</td>\n",
       "      <td>1052.81</td>\n",
       "      <td>2018-09-07</td>\n",
       "      <td>1000</td>\n",
       "    </tr>\n",
       "    <tr>\n",
       "      <th>2</th>\n",
       "      <td>2</td>\n",
       "      <td>1000_2</td>\n",
       "      <td>1197.26</td>\n",
       "      <td>2018-06-25</td>\n",
       "      <td>1000</td>\n",
       "    </tr>\n",
       "    <tr>\n",
       "      <th>3</th>\n",
       "      <td>3</td>\n",
       "      <td>1000_3</td>\n",
       "      <td>550.27</td>\n",
       "      <td>2018-08-22</td>\n",
       "      <td>1000</td>\n",
       "    </tr>\n",
       "    <tr>\n",
       "      <th>4</th>\n",
       "      <td>4</td>\n",
       "      <td>1000_4</td>\n",
       "      <td>302.56</td>\n",
       "      <td>2018-09-24</td>\n",
       "      <td>1000</td>\n",
       "    </tr>\n",
       "    <tr>\n",
       "      <th>5</th>\n",
       "      <td>5</td>\n",
       "      <td>1000_5</td>\n",
       "      <td>399.97</td>\n",
       "      <td>2018-10-02</td>\n",
       "      <td>1000</td>\n",
       "    </tr>\n",
       "    <tr>\n",
       "      <th>6</th>\n",
       "      <td>6</td>\n",
       "      <td>1000_6</td>\n",
       "      <td>540.08</td>\n",
       "      <td>2018-09-07</td>\n",
       "      <td>1000</td>\n",
       "    </tr>\n",
       "    <tr>\n",
       "      <th>7</th>\n",
       "      <td>7</td>\n",
       "      <td>1000_7</td>\n",
       "      <td>415.70</td>\n",
       "      <td>2018-07-11</td>\n",
       "      <td>1000</td>\n",
       "    </tr>\n",
       "    <tr>\n",
       "      <th>8</th>\n",
       "      <td>8</td>\n",
       "      <td>1000_8</td>\n",
       "      <td>505.40</td>\n",
       "      <td>2018-10-08</td>\n",
       "      <td>1000</td>\n",
       "    </tr>\n",
       "    <tr>\n",
       "      <th>9</th>\n",
       "      <td>9</td>\n",
       "      <td>1000_9</td>\n",
       "      <td>345.54</td>\n",
       "      <td>2018-09-03</td>\n",
       "      <td>1000</td>\n",
       "    </tr>\n",
       "  </tbody>\n",
       "</table>\n",
       "</div>"
      ],
      "text/plain": [
       "   Unnamed: 0      id  mb_used session_date  user_id\n",
       "0           0  1000_0   112.95   2018-11-25     1000\n",
       "1           1  1000_1  1052.81   2018-09-07     1000\n",
       "2           2  1000_2  1197.26   2018-06-25     1000\n",
       "3           3  1000_3   550.27   2018-08-22     1000\n",
       "4           4  1000_4   302.56   2018-09-24     1000\n",
       "5           5  1000_5   399.97   2018-10-02     1000\n",
       "6           6  1000_6   540.08   2018-09-07     1000\n",
       "7           7  1000_7   415.70   2018-07-11     1000\n",
       "8           8  1000_8   505.40   2018-10-08     1000\n",
       "9           9  1000_9   345.54   2018-09-03     1000"
      ]
     },
     "execution_count": 265,
     "metadata": {},
     "output_type": "execute_result"
    }
   ],
   "source": [
    "internet_data = pd.read_csv('https://code.s3.yandex.net/datasets/internet.csv')\n",
    "internet_data.info()\n",
    "internet_data.head(10)"
   ]
  },
  {
   "cell_type": "code",
   "execution_count": 266,
   "metadata": {},
   "outputs": [
    {
     "name": "stdout",
     "output_type": "stream",
     "text": [
      "<class 'pandas.core.frame.DataFrame'>\n",
      "RangeIndex: 123036 entries, 0 to 123035\n",
      "Data columns (total 3 columns):\n",
      " #   Column        Non-Null Count   Dtype \n",
      "---  ------        --------------   ----- \n",
      " 0   id            123036 non-null  object\n",
      " 1   message_date  123036 non-null  object\n",
      " 2   user_id       123036 non-null  int64 \n",
      "dtypes: int64(1), object(2)\n",
      "memory usage: 2.8+ MB\n"
     ]
    },
    {
     "data": {
      "text/html": [
       "<div>\n",
       "<style scoped>\n",
       "    .dataframe tbody tr th:only-of-type {\n",
       "        vertical-align: middle;\n",
       "    }\n",
       "\n",
       "    .dataframe tbody tr th {\n",
       "        vertical-align: top;\n",
       "    }\n",
       "\n",
       "    .dataframe thead th {\n",
       "        text-align: right;\n",
       "    }\n",
       "</style>\n",
       "<table border=\"1\" class=\"dataframe\">\n",
       "  <thead>\n",
       "    <tr style=\"text-align: right;\">\n",
       "      <th></th>\n",
       "      <th>id</th>\n",
       "      <th>message_date</th>\n",
       "      <th>user_id</th>\n",
       "    </tr>\n",
       "  </thead>\n",
       "  <tbody>\n",
       "    <tr>\n",
       "      <th>0</th>\n",
       "      <td>1000_0</td>\n",
       "      <td>2018-06-27</td>\n",
       "      <td>1000</td>\n",
       "    </tr>\n",
       "    <tr>\n",
       "      <th>1</th>\n",
       "      <td>1000_1</td>\n",
       "      <td>2018-10-08</td>\n",
       "      <td>1000</td>\n",
       "    </tr>\n",
       "    <tr>\n",
       "      <th>2</th>\n",
       "      <td>1000_2</td>\n",
       "      <td>2018-08-04</td>\n",
       "      <td>1000</td>\n",
       "    </tr>\n",
       "    <tr>\n",
       "      <th>3</th>\n",
       "      <td>1000_3</td>\n",
       "      <td>2018-06-16</td>\n",
       "      <td>1000</td>\n",
       "    </tr>\n",
       "    <tr>\n",
       "      <th>4</th>\n",
       "      <td>1000_4</td>\n",
       "      <td>2018-12-05</td>\n",
       "      <td>1000</td>\n",
       "    </tr>\n",
       "    <tr>\n",
       "      <th>5</th>\n",
       "      <td>1000_5</td>\n",
       "      <td>2018-06-20</td>\n",
       "      <td>1000</td>\n",
       "    </tr>\n",
       "    <tr>\n",
       "      <th>6</th>\n",
       "      <td>1000_6</td>\n",
       "      <td>2018-11-19</td>\n",
       "      <td>1000</td>\n",
       "    </tr>\n",
       "    <tr>\n",
       "      <th>7</th>\n",
       "      <td>1000_7</td>\n",
       "      <td>2018-10-29</td>\n",
       "      <td>1000</td>\n",
       "    </tr>\n",
       "    <tr>\n",
       "      <th>8</th>\n",
       "      <td>1000_8</td>\n",
       "      <td>2018-06-25</td>\n",
       "      <td>1000</td>\n",
       "    </tr>\n",
       "    <tr>\n",
       "      <th>9</th>\n",
       "      <td>1000_9</td>\n",
       "      <td>2018-12-18</td>\n",
       "      <td>1000</td>\n",
       "    </tr>\n",
       "  </tbody>\n",
       "</table>\n",
       "</div>"
      ],
      "text/plain": [
       "       id message_date  user_id\n",
       "0  1000_0   2018-06-27     1000\n",
       "1  1000_1   2018-10-08     1000\n",
       "2  1000_2   2018-08-04     1000\n",
       "3  1000_3   2018-06-16     1000\n",
       "4  1000_4   2018-12-05     1000\n",
       "5  1000_5   2018-06-20     1000\n",
       "6  1000_6   2018-11-19     1000\n",
       "7  1000_7   2018-10-29     1000\n",
       "8  1000_8   2018-06-25     1000\n",
       "9  1000_9   2018-12-18     1000"
      ]
     },
     "execution_count": 266,
     "metadata": {},
     "output_type": "execute_result"
    }
   ],
   "source": [
    "messages_data = pd.read_csv('https://code.s3.yandex.net/datasets/messages.csv')\n",
    "messages_data.info()\n",
    "messages_data.head(10)"
   ]
  },
  {
   "cell_type": "code",
   "execution_count": 267,
   "metadata": {},
   "outputs": [
    {
     "name": "stdout",
     "output_type": "stream",
     "text": [
      "<class 'pandas.core.frame.DataFrame'>\n",
      "RangeIndex: 2 entries, 0 to 1\n",
      "Data columns (total 8 columns):\n",
      " #   Column                 Non-Null Count  Dtype \n",
      "---  ------                 --------------  ----- \n",
      " 0   messages_included      2 non-null      int64 \n",
      " 1   mb_per_month_included  2 non-null      int64 \n",
      " 2   minutes_included       2 non-null      int64 \n",
      " 3   rub_monthly_fee        2 non-null      int64 \n",
      " 4   rub_per_gb             2 non-null      int64 \n",
      " 5   rub_per_message        2 non-null      int64 \n",
      " 6   rub_per_minute         2 non-null      int64 \n",
      " 7   tariff_name            2 non-null      object\n",
      "dtypes: int64(7), object(1)\n",
      "memory usage: 256.0+ bytes\n"
     ]
    },
    {
     "data": {
      "text/html": [
       "<div>\n",
       "<style scoped>\n",
       "    .dataframe tbody tr th:only-of-type {\n",
       "        vertical-align: middle;\n",
       "    }\n",
       "\n",
       "    .dataframe tbody tr th {\n",
       "        vertical-align: top;\n",
       "    }\n",
       "\n",
       "    .dataframe thead th {\n",
       "        text-align: right;\n",
       "    }\n",
       "</style>\n",
       "<table border=\"1\" class=\"dataframe\">\n",
       "  <thead>\n",
       "    <tr style=\"text-align: right;\">\n",
       "      <th></th>\n",
       "      <th>messages_included</th>\n",
       "      <th>mb_per_month_included</th>\n",
       "      <th>minutes_included</th>\n",
       "      <th>rub_monthly_fee</th>\n",
       "      <th>rub_per_gb</th>\n",
       "      <th>rub_per_message</th>\n",
       "      <th>rub_per_minute</th>\n",
       "      <th>tariff_name</th>\n",
       "    </tr>\n",
       "  </thead>\n",
       "  <tbody>\n",
       "    <tr>\n",
       "      <th>0</th>\n",
       "      <td>50</td>\n",
       "      <td>15360</td>\n",
       "      <td>500</td>\n",
       "      <td>550</td>\n",
       "      <td>200</td>\n",
       "      <td>3</td>\n",
       "      <td>3</td>\n",
       "      <td>smart</td>\n",
       "    </tr>\n",
       "    <tr>\n",
       "      <th>1</th>\n",
       "      <td>1000</td>\n",
       "      <td>30720</td>\n",
       "      <td>3000</td>\n",
       "      <td>1950</td>\n",
       "      <td>150</td>\n",
       "      <td>1</td>\n",
       "      <td>1</td>\n",
       "      <td>ultra</td>\n",
       "    </tr>\n",
       "  </tbody>\n",
       "</table>\n",
       "</div>"
      ],
      "text/plain": [
       "   messages_included  mb_per_month_included  minutes_included  \\\n",
       "0                 50                  15360               500   \n",
       "1               1000                  30720              3000   \n",
       "\n",
       "   rub_monthly_fee  rub_per_gb  rub_per_message  rub_per_minute tariff_name  \n",
       "0              550         200                3               3       smart  \n",
       "1             1950         150                1               1       ultra  "
      ]
     },
     "execution_count": 267,
     "metadata": {},
     "output_type": "execute_result"
    }
   ],
   "source": [
    "tariffs_data = pd.read_csv('https://code.s3.yandex.net/datasets/tariffs.csv')\n",
    "tariffs_data.info()\n",
    "tariffs_data.head()"
   ]
  },
  {
   "cell_type": "markdown",
   "metadata": {},
   "source": [
    "### Summary"
   ]
  },
  {
   "cell_type": "markdown",
   "metadata": {},
   "source": [
    "1. There are missing values in **Users** table, in **churn_date** field. The data is missing, because the user has stopped using the plan. There are no missing data in other tables."
   ]
  },
  {
   "cell_type": "markdown",
   "metadata": {},
   "source": [
    "2. For further analysis, **duration** column from **Calls_data** dataframe and **mb_used** from **Internet_data** dataframe will be used. For the data to be analyzed correctly, the type should be changed to integer, and the values need to be rounded."
   ]
  },
  {
   "cell_type": "markdown",
   "metadata": {},
   "source": [
    "3. There is **Unnamed:0** column in **Internet_data** dataframe, probably it duplicates the index. It needs to be checked and corrected."
   ]
  },
  {
   "cell_type": "markdown",
   "metadata": {},
   "source": [
    "4. The dataframes contain dates columns with object types. But they don't need to be changed to extract the month data."
   ]
  },
  {
   "cell_type": "markdown",
   "metadata": {},
   "source": [
    "## Data preparation"
   ]
  },
  {
   "cell_type": "markdown",
   "metadata": {},
   "source": [
    "### Transforming the types"
   ]
  },
  {
   "cell_type": "markdown",
   "metadata": {},
   "source": [
    "The operator is rounding up the minutes in his monthly bills.\n",
    "The calls duration data needs to be transformed accordingly:"
   ]
  },
  {
   "cell_type": "code",
   "execution_count": 268,
   "metadata": {
    "scrolled": true
   },
   "outputs": [
    {
     "data": {
      "text/plain": [
       "<bound method NDFrame.sample of               id   call_date  duration  user_id\n",
       "0         1000_0  2018-07-25         0     1000\n",
       "1         1000_1  2018-08-17         0     1000\n",
       "2         1000_2  2018-06-11         3     1000\n",
       "3         1000_3  2018-09-21        14     1000\n",
       "4         1000_4  2018-12-15         6     1000\n",
       "...          ...         ...       ...      ...\n",
       "202602  1499_215  2018-12-26         1     1499\n",
       "202603  1499_216  2018-10-18        19     1499\n",
       "202604  1499_217  2018-11-10        11     1499\n",
       "202605  1499_218  2018-10-06         5     1499\n",
       "202606  1499_219  2018-12-14        20     1499\n",
       "\n",
       "[202607 rows x 4 columns]>"
      ]
     },
     "execution_count": 268,
     "metadata": {},
     "output_type": "execute_result"
    }
   ],
   "source": [
    "calls_data['duration']=np.ceil(calls_data['duration']).astype('int')\n",
    "calls_data.sample"
   ]
  },
  {
   "cell_type": "markdown",
   "metadata": {},
   "source": [
    "### Correcting the data errors"
   ]
  },
  {
   "cell_type": "markdown",
   "metadata": {},
   "source": [
    "Checking that **Unnamed: 0** column doesn't contain any values that are not equal to the index:"
   ]
  },
  {
   "cell_type": "code",
   "execution_count": 269,
   "metadata": {},
   "outputs": [
    {
     "data": {
      "text/html": [
       "<div>\n",
       "<style scoped>\n",
       "    .dataframe tbody tr th:only-of-type {\n",
       "        vertical-align: middle;\n",
       "    }\n",
       "\n",
       "    .dataframe tbody tr th {\n",
       "        vertical-align: top;\n",
       "    }\n",
       "\n",
       "    .dataframe thead th {\n",
       "        text-align: right;\n",
       "    }\n",
       "</style>\n",
       "<table border=\"1\" class=\"dataframe\">\n",
       "  <thead>\n",
       "    <tr style=\"text-align: right;\">\n",
       "      <th></th>\n",
       "      <th>Unnamed: 0</th>\n",
       "      <th>id</th>\n",
       "      <th>mb_used</th>\n",
       "      <th>session_date</th>\n",
       "      <th>user_id</th>\n",
       "    </tr>\n",
       "  </thead>\n",
       "  <tbody>\n",
       "  </tbody>\n",
       "</table>\n",
       "</div>"
      ],
      "text/plain": [
       "Empty DataFrame\n",
       "Columns: [Unnamed: 0, id, mb_used, session_date, user_id]\n",
       "Index: []"
      ]
     },
     "execution_count": 269,
     "metadata": {},
     "output_type": "execute_result"
    }
   ],
   "source": [
    "internet_data[internet_data['Unnamed: 0']!=internet_data.index]"
   ]
  },
  {
   "cell_type": "markdown",
   "metadata": {},
   "source": [
    "Dropping **Unnamed: 0** as a duplicate:"
   ]
  },
  {
   "cell_type": "code",
   "execution_count": 270,
   "metadata": {},
   "outputs": [
    {
     "data": {
      "text/html": [
       "<div>\n",
       "<style scoped>\n",
       "    .dataframe tbody tr th:only-of-type {\n",
       "        vertical-align: middle;\n",
       "    }\n",
       "\n",
       "    .dataframe tbody tr th {\n",
       "        vertical-align: top;\n",
       "    }\n",
       "\n",
       "    .dataframe thead th {\n",
       "        text-align: right;\n",
       "    }\n",
       "</style>\n",
       "<table border=\"1\" class=\"dataframe\">\n",
       "  <thead>\n",
       "    <tr style=\"text-align: right;\">\n",
       "      <th></th>\n",
       "      <th>id</th>\n",
       "      <th>mb_used</th>\n",
       "      <th>session_date</th>\n",
       "      <th>user_id</th>\n",
       "    </tr>\n",
       "  </thead>\n",
       "  <tbody>\n",
       "    <tr>\n",
       "      <th>0</th>\n",
       "      <td>1000_0</td>\n",
       "      <td>112.95</td>\n",
       "      <td>2018-11-25</td>\n",
       "      <td>1000</td>\n",
       "    </tr>\n",
       "    <tr>\n",
       "      <th>1</th>\n",
       "      <td>1000_1</td>\n",
       "      <td>1052.81</td>\n",
       "      <td>2018-09-07</td>\n",
       "      <td>1000</td>\n",
       "    </tr>\n",
       "    <tr>\n",
       "      <th>2</th>\n",
       "      <td>1000_2</td>\n",
       "      <td>1197.26</td>\n",
       "      <td>2018-06-25</td>\n",
       "      <td>1000</td>\n",
       "    </tr>\n",
       "    <tr>\n",
       "      <th>3</th>\n",
       "      <td>1000_3</td>\n",
       "      <td>550.27</td>\n",
       "      <td>2018-08-22</td>\n",
       "      <td>1000</td>\n",
       "    </tr>\n",
       "    <tr>\n",
       "      <th>4</th>\n",
       "      <td>1000_4</td>\n",
       "      <td>302.56</td>\n",
       "      <td>2018-09-24</td>\n",
       "      <td>1000</td>\n",
       "    </tr>\n",
       "    <tr>\n",
       "      <th>...</th>\n",
       "      <td>...</td>\n",
       "      <td>...</td>\n",
       "      <td>...</td>\n",
       "      <td>...</td>\n",
       "    </tr>\n",
       "    <tr>\n",
       "      <th>149391</th>\n",
       "      <td>1499_152</td>\n",
       "      <td>318.90</td>\n",
       "      <td>2018-10-03</td>\n",
       "      <td>1499</td>\n",
       "    </tr>\n",
       "    <tr>\n",
       "      <th>149392</th>\n",
       "      <td>1499_153</td>\n",
       "      <td>490.13</td>\n",
       "      <td>2018-12-14</td>\n",
       "      <td>1499</td>\n",
       "    </tr>\n",
       "    <tr>\n",
       "      <th>149393</th>\n",
       "      <td>1499_154</td>\n",
       "      <td>0.00</td>\n",
       "      <td>2018-10-27</td>\n",
       "      <td>1499</td>\n",
       "    </tr>\n",
       "    <tr>\n",
       "      <th>149394</th>\n",
       "      <td>1499_155</td>\n",
       "      <td>1246.32</td>\n",
       "      <td>2018-11-26</td>\n",
       "      <td>1499</td>\n",
       "    </tr>\n",
       "    <tr>\n",
       "      <th>149395</th>\n",
       "      <td>1499_156</td>\n",
       "      <td>544.37</td>\n",
       "      <td>2018-10-26</td>\n",
       "      <td>1499</td>\n",
       "    </tr>\n",
       "  </tbody>\n",
       "</table>\n",
       "<p>149396 rows × 4 columns</p>\n",
       "</div>"
      ],
      "text/plain": [
       "              id  mb_used session_date  user_id\n",
       "0         1000_0   112.95   2018-11-25     1000\n",
       "1         1000_1  1052.81   2018-09-07     1000\n",
       "2         1000_2  1197.26   2018-06-25     1000\n",
       "3         1000_3   550.27   2018-08-22     1000\n",
       "4         1000_4   302.56   2018-09-24     1000\n",
       "...          ...      ...          ...      ...\n",
       "149391  1499_152   318.90   2018-10-03     1499\n",
       "149392  1499_153   490.13   2018-12-14     1499\n",
       "149393  1499_154     0.00   2018-10-27     1499\n",
       "149394  1499_155  1246.32   2018-11-26     1499\n",
       "149395  1499_156   544.37   2018-10-26     1499\n",
       "\n",
       "[149396 rows x 4 columns]"
      ]
     },
     "execution_count": 270,
     "metadata": {},
     "output_type": "execute_result"
    }
   ],
   "source": [
    "internet_data.drop(columns='Unnamed: 0',axis=1)"
   ]
  },
  {
   "cell_type": "markdown",
   "metadata": {},
   "source": [
    "Checking the uniqueness of the users' data in the dataset. There might be users who have used both plans sequentially:"
   ]
  },
  {
   "cell_type": "code",
   "execution_count": 271,
   "metadata": {},
   "outputs": [
    {
     "data": {
      "text/plain": [
       "500"
      ]
     },
     "execution_count": 271,
     "metadata": {},
     "output_type": "execute_result"
    }
   ],
   "source": [
    "len(users_data['user_id'].unique())"
   ]
  },
  {
   "cell_type": "markdown",
   "metadata": {},
   "source": [
    "All user ids are unique."
   ]
  },
  {
   "cell_type": "markdown",
   "metadata": {},
   "source": [
    "### Adding the new columns"
   ]
  },
  {
   "cell_type": "markdown",
   "metadata": {},
   "source": [
    "Creating the column containing the number of the month for each dataframe:"
   ]
  },
  {
   "cell_type": "code",
   "execution_count": 272,
   "metadata": {},
   "outputs": [],
   "source": [
    "calls_data['month'] = pd.DatetimeIndex(calls_data['call_date']).month\n",
    "messages_data['month'] = pd.DatetimeIndex(messages_data['message_date']).month\n",
    "internet_data['month'] = pd.DatetimeIndex(internet_data['session_date']).month"
   ]
  },
  {
   "cell_type": "markdown",
   "metadata": {},
   "source": [
    "### Calls monthly data in a pivot table"
   ]
  },
  {
   "cell_type": "markdown",
   "metadata": {},
   "source": [
    "Creating a pivot table containing calls duration data for each user:"
   ]
  },
  {
   "cell_type": "code",
   "execution_count": 273,
   "metadata": {
    "scrolled": true
   },
   "outputs": [
    {
     "data": {
      "text/html": [
       "<div>\n",
       "<style scoped>\n",
       "    .dataframe tbody tr th:only-of-type {\n",
       "        vertical-align: middle;\n",
       "    }\n",
       "\n",
       "    .dataframe tbody tr th {\n",
       "        vertical-align: top;\n",
       "    }\n",
       "\n",
       "    .dataframe thead th {\n",
       "        text-align: right;\n",
       "    }\n",
       "</style>\n",
       "<table border=\"1\" class=\"dataframe\">\n",
       "  <thead>\n",
       "    <tr style=\"text-align: right;\">\n",
       "      <th></th>\n",
       "      <th></th>\n",
       "      <th>calls_duration</th>\n",
       "    </tr>\n",
       "    <tr>\n",
       "      <th>user_id</th>\n",
       "      <th>month</th>\n",
       "      <th></th>\n",
       "    </tr>\n",
       "  </thead>\n",
       "  <tbody>\n",
       "    <tr>\n",
       "      <th rowspan=\"8\" valign=\"top\">1000</th>\n",
       "      <th>5</th>\n",
       "      <td>159</td>\n",
       "    </tr>\n",
       "    <tr>\n",
       "      <th>6</th>\n",
       "      <td>172</td>\n",
       "    </tr>\n",
       "    <tr>\n",
       "      <th>7</th>\n",
       "      <td>340</td>\n",
       "    </tr>\n",
       "    <tr>\n",
       "      <th>8</th>\n",
       "      <td>408</td>\n",
       "    </tr>\n",
       "    <tr>\n",
       "      <th>9</th>\n",
       "      <td>466</td>\n",
       "    </tr>\n",
       "    <tr>\n",
       "      <th>10</th>\n",
       "      <td>350</td>\n",
       "    </tr>\n",
       "    <tr>\n",
       "      <th>11</th>\n",
       "      <td>338</td>\n",
       "    </tr>\n",
       "    <tr>\n",
       "      <th>12</th>\n",
       "      <td>333</td>\n",
       "    </tr>\n",
       "    <tr>\n",
       "      <th rowspan=\"2\" valign=\"top\">1001</th>\n",
       "      <th>11</th>\n",
       "      <td>430</td>\n",
       "    </tr>\n",
       "    <tr>\n",
       "      <th>12</th>\n",
       "      <td>414</td>\n",
       "    </tr>\n",
       "  </tbody>\n",
       "</table>\n",
       "</div>"
      ],
      "text/plain": [
       "               calls_duration\n",
       "user_id month                \n",
       "1000    5                 159\n",
       "        6                 172\n",
       "        7                 340\n",
       "        8                 408\n",
       "        9                 466\n",
       "        10                350\n",
       "        11                338\n",
       "        12                333\n",
       "1001    11                430\n",
       "        12                414"
      ]
     },
     "execution_count": 273,
     "metadata": {},
     "output_type": "execute_result"
    }
   ],
   "source": [
    "month_calls_sum = calls_data.pivot_table(index=['user_id','month'], values='duration',  aggfunc='sum')\n",
    "month_calls_sum = month_calls_sum.fillna(0).astype('int')\n",
    "month_calls_sum.columns=['calls_duration']\n",
    "month_calls_sum.head(10)"
   ]
  },
  {
   "cell_type": "markdown",
   "metadata": {},
   "source": [
    "Creating a pivot table containing calls quantity data for each user:"
   ]
  },
  {
   "cell_type": "code",
   "execution_count": 274,
   "metadata": {
    "scrolled": true
   },
   "outputs": [
    {
     "data": {
      "text/html": [
       "<div>\n",
       "<style scoped>\n",
       "    .dataframe tbody tr th:only-of-type {\n",
       "        vertical-align: middle;\n",
       "    }\n",
       "\n",
       "    .dataframe tbody tr th {\n",
       "        vertical-align: top;\n",
       "    }\n",
       "\n",
       "    .dataframe thead th {\n",
       "        text-align: right;\n",
       "    }\n",
       "</style>\n",
       "<table border=\"1\" class=\"dataframe\">\n",
       "  <thead>\n",
       "    <tr style=\"text-align: right;\">\n",
       "      <th></th>\n",
       "      <th></th>\n",
       "      <th>calls_count</th>\n",
       "    </tr>\n",
       "    <tr>\n",
       "      <th>user_id</th>\n",
       "      <th>month</th>\n",
       "      <th></th>\n",
       "    </tr>\n",
       "  </thead>\n",
       "  <tbody>\n",
       "    <tr>\n",
       "      <th rowspan=\"8\" valign=\"top\">1000</th>\n",
       "      <th>5</th>\n",
       "      <td>22</td>\n",
       "    </tr>\n",
       "    <tr>\n",
       "      <th>6</th>\n",
       "      <td>43</td>\n",
       "    </tr>\n",
       "    <tr>\n",
       "      <th>7</th>\n",
       "      <td>47</td>\n",
       "    </tr>\n",
       "    <tr>\n",
       "      <th>8</th>\n",
       "      <td>52</td>\n",
       "    </tr>\n",
       "    <tr>\n",
       "      <th>9</th>\n",
       "      <td>58</td>\n",
       "    </tr>\n",
       "    <tr>\n",
       "      <th>10</th>\n",
       "      <td>57</td>\n",
       "    </tr>\n",
       "    <tr>\n",
       "      <th>11</th>\n",
       "      <td>43</td>\n",
       "    </tr>\n",
       "    <tr>\n",
       "      <th>12</th>\n",
       "      <td>46</td>\n",
       "    </tr>\n",
       "    <tr>\n",
       "      <th rowspan=\"2\" valign=\"top\">1001</th>\n",
       "      <th>11</th>\n",
       "      <td>59</td>\n",
       "    </tr>\n",
       "    <tr>\n",
       "      <th>12</th>\n",
       "      <td>63</td>\n",
       "    </tr>\n",
       "  </tbody>\n",
       "</table>\n",
       "</div>"
      ],
      "text/plain": [
       "               calls_count\n",
       "user_id month             \n",
       "1000    5               22\n",
       "        6               43\n",
       "        7               47\n",
       "        8               52\n",
       "        9               58\n",
       "        10              57\n",
       "        11              43\n",
       "        12              46\n",
       "1001    11              59\n",
       "        12              63"
      ]
     },
     "execution_count": 274,
     "metadata": {},
     "output_type": "execute_result"
    }
   ],
   "source": [
    "month_calls_count = calls_data.pivot_table(index=['user_id','month'], values='duration', aggfunc='count')\n",
    "month_calls_count=month_calls_count.fillna(0).astype('int')\n",
    "month_calls_count.columns=['calls_count']\n",
    "month_calls_count.head(10)"
   ]
  },
  {
   "cell_type": "markdown",
   "metadata": {},
   "source": [
    "### Sent SMS monthly data in a pivot table"
   ]
  },
  {
   "cell_type": "markdown",
   "metadata": {},
   "source": [
    "Creating a pivot table containing sent SMS quantity data for each user:"
   ]
  },
  {
   "cell_type": "code",
   "execution_count": 275,
   "metadata": {},
   "outputs": [
    {
     "data": {
      "text/html": [
       "<div>\n",
       "<style scoped>\n",
       "    .dataframe tbody tr th:only-of-type {\n",
       "        vertical-align: middle;\n",
       "    }\n",
       "\n",
       "    .dataframe tbody tr th {\n",
       "        vertical-align: top;\n",
       "    }\n",
       "\n",
       "    .dataframe thead th {\n",
       "        text-align: right;\n",
       "    }\n",
       "</style>\n",
       "<table border=\"1\" class=\"dataframe\">\n",
       "  <thead>\n",
       "    <tr style=\"text-align: right;\">\n",
       "      <th></th>\n",
       "      <th></th>\n",
       "      <th>sms_count</th>\n",
       "    </tr>\n",
       "    <tr>\n",
       "      <th>user_id</th>\n",
       "      <th>month</th>\n",
       "      <th></th>\n",
       "    </tr>\n",
       "  </thead>\n",
       "  <tbody>\n",
       "    <tr>\n",
       "      <th>1403</th>\n",
       "      <th>5</th>\n",
       "      <td>18</td>\n",
       "    </tr>\n",
       "    <tr>\n",
       "      <th>1295</th>\n",
       "      <th>9</th>\n",
       "      <td>32</td>\n",
       "    </tr>\n",
       "    <tr>\n",
       "      <th>1403</th>\n",
       "      <th>12</th>\n",
       "      <td>48</td>\n",
       "    </tr>\n",
       "    <tr>\n",
       "      <th>1414</th>\n",
       "      <th>8</th>\n",
       "      <td>38</td>\n",
       "    </tr>\n",
       "    <tr>\n",
       "      <th>1041</th>\n",
       "      <th>12</th>\n",
       "      <td>26</td>\n",
       "    </tr>\n",
       "    <tr>\n",
       "      <th>1194</th>\n",
       "      <th>12</th>\n",
       "      <td>54</td>\n",
       "    </tr>\n",
       "    <tr>\n",
       "      <th>1142</th>\n",
       "      <th>11</th>\n",
       "      <td>43</td>\n",
       "    </tr>\n",
       "    <tr>\n",
       "      <th>1417</th>\n",
       "      <th>7</th>\n",
       "      <td>29</td>\n",
       "    </tr>\n",
       "    <tr>\n",
       "      <th>1199</th>\n",
       "      <th>12</th>\n",
       "      <td>66</td>\n",
       "    </tr>\n",
       "    <tr>\n",
       "      <th>1104</th>\n",
       "      <th>7</th>\n",
       "      <td>91</td>\n",
       "    </tr>\n",
       "  </tbody>\n",
       "</table>\n",
       "</div>"
      ],
      "text/plain": [
       "               sms_count\n",
       "user_id month           \n",
       "1403    5             18\n",
       "1295    9             32\n",
       "1403    12            48\n",
       "1414    8             38\n",
       "1041    12            26\n",
       "1194    12            54\n",
       "1142    11            43\n",
       "1417    7             29\n",
       "1199    12            66\n",
       "1104    7             91"
      ]
     },
     "execution_count": 275,
     "metadata": {},
     "output_type": "execute_result"
    }
   ],
   "source": [
    "month_sms_count = messages_data.pivot_table(index=['user_id','month'], values='id',  aggfunc='count')\n",
    "month_sms_count.columns = ['sms_count']\n",
    "month_sms_count.sample(10)"
   ]
  },
  {
   "cell_type": "markdown",
   "metadata": {},
   "source": [
    "### Mobile internet usage monthly data in a pivot table"
   ]
  },
  {
   "cell_type": "code",
   "execution_count": 276,
   "metadata": {
    "scrolled": true
   },
   "outputs": [
    {
     "data": {
      "text/html": [
       "<div>\n",
       "<style scoped>\n",
       "    .dataframe tbody tr th:only-of-type {\n",
       "        vertical-align: middle;\n",
       "    }\n",
       "\n",
       "    .dataframe tbody tr th {\n",
       "        vertical-align: top;\n",
       "    }\n",
       "\n",
       "    .dataframe thead th {\n",
       "        text-align: right;\n",
       "    }\n",
       "</style>\n",
       "<table border=\"1\" class=\"dataframe\">\n",
       "  <thead>\n",
       "    <tr style=\"text-align: right;\">\n",
       "      <th></th>\n",
       "      <th></th>\n",
       "      <th>gb_amount</th>\n",
       "    </tr>\n",
       "    <tr>\n",
       "      <th>user_id</th>\n",
       "      <th>month</th>\n",
       "      <th></th>\n",
       "    </tr>\n",
       "  </thead>\n",
       "  <tbody>\n",
       "    <tr>\n",
       "      <th rowspan=\"5\" valign=\"top\">1000</th>\n",
       "      <th>5</th>\n",
       "      <td>3.0</td>\n",
       "    </tr>\n",
       "    <tr>\n",
       "      <th>6</th>\n",
       "      <td>23.0</td>\n",
       "    </tr>\n",
       "    <tr>\n",
       "      <th>7</th>\n",
       "      <td>14.0</td>\n",
       "    </tr>\n",
       "    <tr>\n",
       "      <th>8</th>\n",
       "      <td>14.0</td>\n",
       "    </tr>\n",
       "    <tr>\n",
       "      <th>9</th>\n",
       "      <td>15.0</td>\n",
       "    </tr>\n",
       "  </tbody>\n",
       "</table>\n",
       "</div>"
      ],
      "text/plain": [
       "               gb_amount\n",
       "user_id month           \n",
       "1000    5            3.0\n",
       "        6           23.0\n",
       "        7           14.0\n",
       "        8           14.0\n",
       "        9           15.0"
      ]
     },
     "execution_count": 276,
     "metadata": {},
     "output_type": "execute_result"
    }
   ],
   "source": [
    "month_internet_data = internet_data.pivot_table(index=['user_id','month'], values='mb_used', aggfunc='sum')\n",
    "\n",
    "# Rounding up to Gb as per mobile network operator charging rules\n",
    "month_internet_data=np.ceil(month_internet_data/1024) \n",
    "month_internet_data.columns = ['gb_amount']\n",
    "month_internet_data.head()"
   ]
  },
  {
   "cell_type": "markdown",
   "metadata": {},
   "source": [
    "### Monthly revenue per user"
   ]
  },
  {
   "cell_type": "markdown",
   "metadata": {},
   "source": [
    "Merging monthly data with calls, SMS and mobile internet usage:"
   ]
  },
  {
   "cell_type": "code",
   "execution_count": 277,
   "metadata": {},
   "outputs": [
    {
     "name": "stdout",
     "output_type": "stream",
     "text": [
      "<class 'pandas.core.frame.DataFrame'>\n",
      "MultiIndex: 3214 entries, (1000, 5) to (1476, 4)\n",
      "Data columns (total 4 columns):\n",
      " #   Column          Non-Null Count  Dtype  \n",
      "---  ------          --------------  -----  \n",
      " 0   calls_duration  3174 non-null   float64\n",
      " 1   calls_count     3174 non-null   float64\n",
      " 2   sms_count       3214 non-null   int64  \n",
      " 3   gb_amount       3214 non-null   int64  \n",
      "dtypes: float64(2), int64(2)\n",
      "memory usage: 114.0 KB\n"
     ]
    }
   ],
   "source": [
    "pivot_data = month_calls_sum.join(month_calls_count, on=['user_id','month'], how='outer')\n",
    "pivot_data = pivot_data.join(month_sms_count, on=['user_id','month'], how='outer')\n",
    "pivot_data = pivot_data.join(month_internet_data, on=['user_id','month'], how='outer')\n",
    "\n",
    "# Aligning the column types for missing values\n",
    "\n",
    "pivot_data['sms_count'] = pivot_data['sms_count'].fillna(0).astype('int')\n",
    "pivot_data['gb_amount'] = pivot_data['gb_amount'].fillna(0).astype('int')\n",
    "pivot_data.info()"
   ]
  },
  {
   "cell_type": "markdown",
   "metadata": {},
   "source": [
    "Adding plan (tariff) data for each user:"
   ]
  },
  {
   "cell_type": "code",
   "execution_count": 278,
   "metadata": {},
   "outputs": [
    {
     "data": {
      "text/html": [
       "<div>\n",
       "<style scoped>\n",
       "    .dataframe tbody tr th:only-of-type {\n",
       "        vertical-align: middle;\n",
       "    }\n",
       "\n",
       "    .dataframe tbody tr th {\n",
       "        vertical-align: top;\n",
       "    }\n",
       "\n",
       "    .dataframe thead th {\n",
       "        text-align: right;\n",
       "    }\n",
       "</style>\n",
       "<table border=\"1\" class=\"dataframe\">\n",
       "  <thead>\n",
       "    <tr style=\"text-align: right;\">\n",
       "      <th></th>\n",
       "      <th>user_id</th>\n",
       "      <th>calls_duration</th>\n",
       "      <th>calls_count</th>\n",
       "      <th>sms_count</th>\n",
       "      <th>gb_amount</th>\n",
       "      <th>tariff</th>\n",
       "    </tr>\n",
       "  </thead>\n",
       "  <tbody>\n",
       "    <tr>\n",
       "      <th>0</th>\n",
       "      <td>1000</td>\n",
       "      <td>159.0</td>\n",
       "      <td>22.0</td>\n",
       "      <td>22</td>\n",
       "      <td>3</td>\n",
       "      <td>ultra</td>\n",
       "    </tr>\n",
       "    <tr>\n",
       "      <th>1</th>\n",
       "      <td>1000</td>\n",
       "      <td>172.0</td>\n",
       "      <td>43.0</td>\n",
       "      <td>60</td>\n",
       "      <td>23</td>\n",
       "      <td>ultra</td>\n",
       "    </tr>\n",
       "    <tr>\n",
       "      <th>2</th>\n",
       "      <td>1000</td>\n",
       "      <td>340.0</td>\n",
       "      <td>47.0</td>\n",
       "      <td>75</td>\n",
       "      <td>14</td>\n",
       "      <td>ultra</td>\n",
       "    </tr>\n",
       "    <tr>\n",
       "      <th>3</th>\n",
       "      <td>1000</td>\n",
       "      <td>408.0</td>\n",
       "      <td>52.0</td>\n",
       "      <td>81</td>\n",
       "      <td>14</td>\n",
       "      <td>ultra</td>\n",
       "    </tr>\n",
       "    <tr>\n",
       "      <th>4</th>\n",
       "      <td>1000</td>\n",
       "      <td>466.0</td>\n",
       "      <td>58.0</td>\n",
       "      <td>57</td>\n",
       "      <td>15</td>\n",
       "      <td>ultra</td>\n",
       "    </tr>\n",
       "    <tr>\n",
       "      <th>...</th>\n",
       "      <td>...</td>\n",
       "      <td>...</td>\n",
       "      <td>...</td>\n",
       "      <td>...</td>\n",
       "      <td>...</td>\n",
       "      <td>...</td>\n",
       "    </tr>\n",
       "    <tr>\n",
       "      <th>3209</th>\n",
       "      <td>1489</td>\n",
       "      <td>NaN</td>\n",
       "      <td>NaN</td>\n",
       "      <td>17</td>\n",
       "      <td>11</td>\n",
       "      <td>smart</td>\n",
       "    </tr>\n",
       "    <tr>\n",
       "      <th>3210</th>\n",
       "      <td>1489</td>\n",
       "      <td>NaN</td>\n",
       "      <td>NaN</td>\n",
       "      <td>32</td>\n",
       "      <td>17</td>\n",
       "      <td>smart</td>\n",
       "    </tr>\n",
       "    <tr>\n",
       "      <th>3211</th>\n",
       "      <td>1489</td>\n",
       "      <td>NaN</td>\n",
       "      <td>NaN</td>\n",
       "      <td>21</td>\n",
       "      <td>20</td>\n",
       "      <td>smart</td>\n",
       "    </tr>\n",
       "    <tr>\n",
       "      <th>3212</th>\n",
       "      <td>1489</td>\n",
       "      <td>NaN</td>\n",
       "      <td>NaN</td>\n",
       "      <td>20</td>\n",
       "      <td>18</td>\n",
       "      <td>smart</td>\n",
       "    </tr>\n",
       "    <tr>\n",
       "      <th>3213</th>\n",
       "      <td>1489</td>\n",
       "      <td>NaN</td>\n",
       "      <td>NaN</td>\n",
       "      <td>35</td>\n",
       "      <td>17</td>\n",
       "      <td>smart</td>\n",
       "    </tr>\n",
       "  </tbody>\n",
       "</table>\n",
       "<p>3214 rows × 6 columns</p>\n",
       "</div>"
      ],
      "text/plain": [
       "      user_id  calls_duration  calls_count  sms_count  gb_amount tariff\n",
       "0        1000           159.0         22.0         22          3  ultra\n",
       "1        1000           172.0         43.0         60         23  ultra\n",
       "2        1000           340.0         47.0         75         14  ultra\n",
       "3        1000           408.0         52.0         81         14  ultra\n",
       "4        1000           466.0         58.0         57         15  ultra\n",
       "...       ...             ...          ...        ...        ...    ...\n",
       "3209     1489             NaN          NaN         17         11  smart\n",
       "3210     1489             NaN          NaN         32         17  smart\n",
       "3211     1489             NaN          NaN         21         20  smart\n",
       "3212     1489             NaN          NaN         20         18  smart\n",
       "3213     1489             NaN          NaN         35         17  smart\n",
       "\n",
       "[3214 rows x 6 columns]"
      ]
     },
     "execution_count": 278,
     "metadata": {},
     "output_type": "execute_result"
    }
   ],
   "source": [
    "pivot_data = pivot_data.merge(users_data[['user_id','tariff']], left_on='user_id', right_on='user_id')\n",
    "pivot_data"
   ]
  },
  {
   "cell_type": "markdown",
   "metadata": {},
   "source": [
    "Adding plan limits data:"
   ]
  },
  {
   "cell_type": "code",
   "execution_count": 279,
   "metadata": {},
   "outputs": [
    {
     "data": {
      "text/html": [
       "<div>\n",
       "<style scoped>\n",
       "    .dataframe tbody tr th:only-of-type {\n",
       "        vertical-align: middle;\n",
       "    }\n",
       "\n",
       "    .dataframe tbody tr th {\n",
       "        vertical-align: top;\n",
       "    }\n",
       "\n",
       "    .dataframe thead th {\n",
       "        text-align: right;\n",
       "    }\n",
       "</style>\n",
       "<table border=\"1\" class=\"dataframe\">\n",
       "  <thead>\n",
       "    <tr style=\"text-align: right;\">\n",
       "      <th></th>\n",
       "      <th>user_id</th>\n",
       "      <th>calls_duration</th>\n",
       "      <th>calls_count</th>\n",
       "      <th>sms_count</th>\n",
       "      <th>gb_amount</th>\n",
       "      <th>tariff</th>\n",
       "      <th>messages_included</th>\n",
       "      <th>mb_per_month_included</th>\n",
       "      <th>minutes_included</th>\n",
       "      <th>rub_monthly_fee</th>\n",
       "      <th>rub_per_gb</th>\n",
       "      <th>rub_per_message</th>\n",
       "      <th>rub_per_minute</th>\n",
       "      <th>tariff_name</th>\n",
       "    </tr>\n",
       "  </thead>\n",
       "  <tbody>\n",
       "    <tr>\n",
       "      <th>0</th>\n",
       "      <td>1000</td>\n",
       "      <td>159.0</td>\n",
       "      <td>22.0</td>\n",
       "      <td>22</td>\n",
       "      <td>3</td>\n",
       "      <td>ultra</td>\n",
       "      <td>1000</td>\n",
       "      <td>30720</td>\n",
       "      <td>3000</td>\n",
       "      <td>1950</td>\n",
       "      <td>150</td>\n",
       "      <td>1</td>\n",
       "      <td>1</td>\n",
       "      <td>ultra</td>\n",
       "    </tr>\n",
       "    <tr>\n",
       "      <th>1</th>\n",
       "      <td>1000</td>\n",
       "      <td>172.0</td>\n",
       "      <td>43.0</td>\n",
       "      <td>60</td>\n",
       "      <td>23</td>\n",
       "      <td>ultra</td>\n",
       "      <td>1000</td>\n",
       "      <td>30720</td>\n",
       "      <td>3000</td>\n",
       "      <td>1950</td>\n",
       "      <td>150</td>\n",
       "      <td>1</td>\n",
       "      <td>1</td>\n",
       "      <td>ultra</td>\n",
       "    </tr>\n",
       "    <tr>\n",
       "      <th>2</th>\n",
       "      <td>1000</td>\n",
       "      <td>340.0</td>\n",
       "      <td>47.0</td>\n",
       "      <td>75</td>\n",
       "      <td>14</td>\n",
       "      <td>ultra</td>\n",
       "      <td>1000</td>\n",
       "      <td>30720</td>\n",
       "      <td>3000</td>\n",
       "      <td>1950</td>\n",
       "      <td>150</td>\n",
       "      <td>1</td>\n",
       "      <td>1</td>\n",
       "      <td>ultra</td>\n",
       "    </tr>\n",
       "    <tr>\n",
       "      <th>3</th>\n",
       "      <td>1000</td>\n",
       "      <td>408.0</td>\n",
       "      <td>52.0</td>\n",
       "      <td>81</td>\n",
       "      <td>14</td>\n",
       "      <td>ultra</td>\n",
       "      <td>1000</td>\n",
       "      <td>30720</td>\n",
       "      <td>3000</td>\n",
       "      <td>1950</td>\n",
       "      <td>150</td>\n",
       "      <td>1</td>\n",
       "      <td>1</td>\n",
       "      <td>ultra</td>\n",
       "    </tr>\n",
       "    <tr>\n",
       "      <th>4</th>\n",
       "      <td>1000</td>\n",
       "      <td>466.0</td>\n",
       "      <td>58.0</td>\n",
       "      <td>57</td>\n",
       "      <td>15</td>\n",
       "      <td>ultra</td>\n",
       "      <td>1000</td>\n",
       "      <td>30720</td>\n",
       "      <td>3000</td>\n",
       "      <td>1950</td>\n",
       "      <td>150</td>\n",
       "      <td>1</td>\n",
       "      <td>1</td>\n",
       "      <td>ultra</td>\n",
       "    </tr>\n",
       "    <tr>\n",
       "      <th>...</th>\n",
       "      <td>...</td>\n",
       "      <td>...</td>\n",
       "      <td>...</td>\n",
       "      <td>...</td>\n",
       "      <td>...</td>\n",
       "      <td>...</td>\n",
       "      <td>...</td>\n",
       "      <td>...</td>\n",
       "      <td>...</td>\n",
       "      <td>...</td>\n",
       "      <td>...</td>\n",
       "      <td>...</td>\n",
       "      <td>...</td>\n",
       "      <td>...</td>\n",
       "    </tr>\n",
       "    <tr>\n",
       "      <th>3209</th>\n",
       "      <td>1489</td>\n",
       "      <td>NaN</td>\n",
       "      <td>NaN</td>\n",
       "      <td>17</td>\n",
       "      <td>11</td>\n",
       "      <td>smart</td>\n",
       "      <td>50</td>\n",
       "      <td>15360</td>\n",
       "      <td>500</td>\n",
       "      <td>550</td>\n",
       "      <td>200</td>\n",
       "      <td>3</td>\n",
       "      <td>3</td>\n",
       "      <td>smart</td>\n",
       "    </tr>\n",
       "    <tr>\n",
       "      <th>3210</th>\n",
       "      <td>1489</td>\n",
       "      <td>NaN</td>\n",
       "      <td>NaN</td>\n",
       "      <td>32</td>\n",
       "      <td>17</td>\n",
       "      <td>smart</td>\n",
       "      <td>50</td>\n",
       "      <td>15360</td>\n",
       "      <td>500</td>\n",
       "      <td>550</td>\n",
       "      <td>200</td>\n",
       "      <td>3</td>\n",
       "      <td>3</td>\n",
       "      <td>smart</td>\n",
       "    </tr>\n",
       "    <tr>\n",
       "      <th>3211</th>\n",
       "      <td>1489</td>\n",
       "      <td>NaN</td>\n",
       "      <td>NaN</td>\n",
       "      <td>21</td>\n",
       "      <td>20</td>\n",
       "      <td>smart</td>\n",
       "      <td>50</td>\n",
       "      <td>15360</td>\n",
       "      <td>500</td>\n",
       "      <td>550</td>\n",
       "      <td>200</td>\n",
       "      <td>3</td>\n",
       "      <td>3</td>\n",
       "      <td>smart</td>\n",
       "    </tr>\n",
       "    <tr>\n",
       "      <th>3212</th>\n",
       "      <td>1489</td>\n",
       "      <td>NaN</td>\n",
       "      <td>NaN</td>\n",
       "      <td>20</td>\n",
       "      <td>18</td>\n",
       "      <td>smart</td>\n",
       "      <td>50</td>\n",
       "      <td>15360</td>\n",
       "      <td>500</td>\n",
       "      <td>550</td>\n",
       "      <td>200</td>\n",
       "      <td>3</td>\n",
       "      <td>3</td>\n",
       "      <td>smart</td>\n",
       "    </tr>\n",
       "    <tr>\n",
       "      <th>3213</th>\n",
       "      <td>1489</td>\n",
       "      <td>NaN</td>\n",
       "      <td>NaN</td>\n",
       "      <td>35</td>\n",
       "      <td>17</td>\n",
       "      <td>smart</td>\n",
       "      <td>50</td>\n",
       "      <td>15360</td>\n",
       "      <td>500</td>\n",
       "      <td>550</td>\n",
       "      <td>200</td>\n",
       "      <td>3</td>\n",
       "      <td>3</td>\n",
       "      <td>smart</td>\n",
       "    </tr>\n",
       "  </tbody>\n",
       "</table>\n",
       "<p>3214 rows × 14 columns</p>\n",
       "</div>"
      ],
      "text/plain": [
       "      user_id  calls_duration  calls_count  sms_count  gb_amount tariff  \\\n",
       "0        1000           159.0         22.0         22          3  ultra   \n",
       "1        1000           172.0         43.0         60         23  ultra   \n",
       "2        1000           340.0         47.0         75         14  ultra   \n",
       "3        1000           408.0         52.0         81         14  ultra   \n",
       "4        1000           466.0         58.0         57         15  ultra   \n",
       "...       ...             ...          ...        ...        ...    ...   \n",
       "3209     1489             NaN          NaN         17         11  smart   \n",
       "3210     1489             NaN          NaN         32         17  smart   \n",
       "3211     1489             NaN          NaN         21         20  smart   \n",
       "3212     1489             NaN          NaN         20         18  smart   \n",
       "3213     1489             NaN          NaN         35         17  smart   \n",
       "\n",
       "      messages_included  mb_per_month_included  minutes_included  \\\n",
       "0                  1000                  30720              3000   \n",
       "1                  1000                  30720              3000   \n",
       "2                  1000                  30720              3000   \n",
       "3                  1000                  30720              3000   \n",
       "4                  1000                  30720              3000   \n",
       "...                 ...                    ...               ...   \n",
       "3209                 50                  15360               500   \n",
       "3210                 50                  15360               500   \n",
       "3211                 50                  15360               500   \n",
       "3212                 50                  15360               500   \n",
       "3213                 50                  15360               500   \n",
       "\n",
       "      rub_monthly_fee  rub_per_gb  rub_per_message  rub_per_minute tariff_name  \n",
       "0                1950         150                1               1       ultra  \n",
       "1                1950         150                1               1       ultra  \n",
       "2                1950         150                1               1       ultra  \n",
       "3                1950         150                1               1       ultra  \n",
       "4                1950         150                1               1       ultra  \n",
       "...               ...         ...              ...             ...         ...  \n",
       "3209              550         200                3               3       smart  \n",
       "3210              550         200                3               3       smart  \n",
       "3211              550         200                3               3       smart  \n",
       "3212              550         200                3               3       smart  \n",
       "3213              550         200                3               3       smart  \n",
       "\n",
       "[3214 rows x 14 columns]"
      ]
     },
     "execution_count": 279,
     "metadata": {},
     "output_type": "execute_result"
    }
   ],
   "source": [
    "pivot_data = pivot_data.merge(tariffs_data, left_on='tariff',right_on='tariff_name')\n",
    "pivot_data"
   ]
  },
  {
   "cell_type": "markdown",
   "metadata": {},
   "source": [
    "Calculating the amount of minutes, messages and mobile internet usage exceding the limit for each user. \n",
    "\n",
    "\n",
    "If the limit was not exceeded, there's a zero value for this user. "
   ]
  },
  {
   "cell_type": "code",
   "execution_count": 280,
   "metadata": {},
   "outputs": [],
   "source": [
    "pivot_data['profit'] = (\n",
    "    pivot_data['rub_monthly_fee'] \n",
    "    + np.clip((pivot_data['calls_duration'] - pivot_data['minutes_included']),0,sys.maxsize) \n",
    "    * pivot_data['rub_per_minute']\n",
    "    + np.clip((pivot_data['gb_amount']*1024 - pivot_data['mb_per_month_included']),0,sys.maxsize)\n",
    "    / 1024 \n",
    "    * pivot_data['rub_per_gb']\n",
    "    + np.clip((pivot_data['sms_count'] - pivot_data['messages_included']),0,sys.maxsize)\n",
    "    * pivot_data['rub_per_message']\n",
    ")"
   ]
  },
  {
   "cell_type": "code",
   "execution_count": 281,
   "metadata": {
    "scrolled": true
   },
   "outputs": [
    {
     "data": {
      "text/plain": [
       "count    3174.000000\n",
       "mean     1524.622243\n",
       "std       800.439524\n",
       "min       550.000000\n",
       "25%       750.000000\n",
       "50%      1623.000000\n",
       "75%      1950.000000\n",
       "max      6770.000000\n",
       "Name: profit, dtype: float64"
      ]
     },
     "execution_count": 281,
     "metadata": {},
     "output_type": "execute_result"
    }
   ],
   "source": [
    "pivot_data['profit'].describe()"
   ]
  },
  {
   "cell_type": "markdown",
   "metadata": {},
   "source": [
    "Making a box and whisker plot:"
   ]
  },
  {
   "cell_type": "code",
   "execution_count": 282,
   "metadata": {},
   "outputs": [
    {
     "data": {
      "text/plain": [
       "<matplotlib.axes._subplots.AxesSubplot at 0x138e74190>"
      ]
     },
     "execution_count": 282,
     "metadata": {},
     "output_type": "execute_result"
    },
    {
     "data": {
      "image/png": "[encoded data removed]",
      "text/plain": [
       "<Figure size 432x288 with 1 Axes>"
      ]
     },
     "metadata": {
      "needs_background": "light"
     },
     "output_type": "display_data"
    }
   ],
   "source": [
    "pivot_data.boxplot('profit')"
   ]
  },
  {
   "cell_type": "markdown",
   "metadata": {},
   "source": [
    "The main part of the selection is between 750 and 1950 roubles - that's the Ultra plan cost.\n",
    "\n",
    "Minimum is equal to 550 roubles - that's the Smart plan cost, maximum = 6770 roubles."
   ]
  },
  {
   "cell_type": "markdown",
   "metadata": {},
   "source": [
    "### Summary"
   ]
  },
  {
   "cell_type": "markdown",
   "metadata": {},
   "source": [
    "The data were prepared for analysis.\n",
    "\n",
    "\n",
    "The pivot tables were created for monthly minutes, SMS, and mobile internet usage per user.\n",
    "\n",
    "\n",
    "The monthly revenue per user was calculated based on the plan package limits and exceedances."
   ]
  },
  {
   "cell_type": "markdown",
   "metadata": {},
   "source": [
    "## Data analysis"
   ]
  },
  {
   "cell_type": "markdown",
   "metadata": {},
   "source": [
    "### How many minutes do users need per month?"
   ]
  },
  {
   "cell_type": "markdown",
   "metadata": {},
   "source": [
    "Creating two data slices:"
   ]
  },
  {
   "cell_type": "code",
   "execution_count": 283,
   "metadata": {},
   "outputs": [],
   "source": [
    "smart_data=pivot_data[pivot_data['tariff']=='smart']"
   ]
  },
  {
   "cell_type": "code",
   "execution_count": 284,
   "metadata": {},
   "outputs": [],
   "source": [
    "ultra_data=pivot_data[pivot_data['tariff']=='ultra']"
   ]
  },
  {
   "cell_type": "markdown",
   "metadata": {},
   "source": [
    "#### \"Smart\" plan"
   ]
  },
  {
   "cell_type": "code",
   "execution_count": 285,
   "metadata": {},
   "outputs": [
    {
     "data": {
      "text/plain": [
       "count    2223.000000\n",
       "mean      419.062978\n",
       "std       189.325618\n",
       "min         0.000000\n",
       "25%       285.000000\n",
       "50%       423.000000\n",
       "75%       545.500000\n",
       "max      1435.000000\n",
       "Name: calls_duration, dtype: float64"
      ]
     },
     "execution_count": 285,
     "metadata": {},
     "output_type": "execute_result"
    }
   ],
   "source": [
    "smart_data['calls_duration'].describe()"
   ]
  },
  {
   "cell_type": "code",
   "execution_count": 286,
   "metadata": {},
   "outputs": [
    {
     "data": {
      "text/plain": [
       "<matplotlib.axes._subplots.AxesSubplot at 0x136e9b880>"
      ]
     },
     "execution_count": 286,
     "metadata": {},
     "output_type": "execute_result"
    },
    {
     "data": {
      "image/png": "[encoded data removed]",
      "text/plain": [
       "<Figure size 432x288 with 1 Axes>"
      ]
     },
     "metadata": {
      "needs_background": "light"
     },
     "output_type": "display_data"
    }
   ],
   "source": [
    "smart_data.boxplot('calls_duration')"
   ]
  },
  {
   "cell_type": "markdown",
   "metadata": {},
   "source": [
    "Most users need from 285 to 545 minutes per month. These numbers are out of Smart package limits.\n",
    "\n",
    "The mean value is equal to 419, median = 423, both are within the Smart package.\n",
    "\n",
    "Making a histogram:"
   ]
  },
  {
   "cell_type": "code",
   "execution_count": 287,
   "metadata": {},
   "outputs": [
    {
     "data": {
      "text/plain": [
       "array([[<matplotlib.axes._subplots.AxesSubplot object at 0x138e11880>]],\n",
       "      dtype=object)"
      ]
     },
     "execution_count": 287,
     "metadata": {},
     "output_type": "execute_result"
    },
    {
     "data": {
      "image/png": "[encoded data removed]",
      "text/plain": [
       "<Figure size 432x288 with 1 Axes>"
      ]
     },
     "metadata": {
      "needs_background": "light"
     },
     "output_type": "display_data"
    }
   ],
   "source": [
    "smart_data.hist('calls_duration')"
   ]
  },
  {
   "cell_type": "markdown",
   "metadata": {},
   "source": [
    "The distribution is similar to the Poisson distribution. We have a rather sharp rise on the left (from 0 to 590) and a more gentle decrease on the right.\n",
    "\n",
    "Rare users of the \"Smart\" plan have a need to talk three times more than the package allows.\n",
    "\n",
    "Most users are satisfied with 500 minutes.\n",
    "Although there is a number of users for whom the package is not sufficient.\n",
    "\n",
    "\n",
    "The maximum is equal to 1435. This user might be more comfortable with the \"Ultra\" plan."
   ]
  },
  {
   "cell_type": "markdown",
   "metadata": {},
   "source": [
    "#### \"Ultra\" plan"
   ]
  },
  {
   "cell_type": "code",
   "execution_count": 288,
   "metadata": {},
   "outputs": [
    {
     "data": {
      "text/plain": [
       "count     951.000000\n",
       "mean      545.451104\n",
       "std       306.925754\n",
       "min         0.000000\n",
       "25%       310.000000\n",
       "50%       528.000000\n",
       "75%       756.500000\n",
       "max      1673.000000\n",
       "Name: calls_duration, dtype: float64"
      ]
     },
     "execution_count": 288,
     "metadata": {},
     "output_type": "execute_result"
    }
   ],
   "source": [
    "ultra_data['calls_duration'].describe()"
   ]
  },
  {
   "cell_type": "code",
   "execution_count": 289,
   "metadata": {},
   "outputs": [
    {
     "data": {
      "text/plain": [
       "<matplotlib.axes._subplots.AxesSubplot at 0x139308670>"
      ]
     },
     "execution_count": 289,
     "metadata": {},
     "output_type": "execute_result"
    },
    {
     "data": {
      "image/png": "[encoded data removed]",
      "text/plain": [
       "<Figure size 432x288 with 1 Axes>"
      ]
     },
     "metadata": {
      "needs_background": "light"
     },
     "output_type": "display_data"
    }
   ],
   "source": [
    "ultra_data.boxplot('calls_duration')"
   ]
  },
  {
   "cell_type": "markdown",
   "metadata": {},
   "source": [
    "Most users with the \"Ultra\" plan have more than enough minutes included in the package.\n",
    "\n",
    "The overall majority of the users spend from 310 to 756 minutes per month. The mean value is 545, and the median is 528.\n",
    "\n",
    "The average user of the \"Ultra\" plan would be satisfied with the \"Smart\" plan package limit. \n",
    "\n",
    "The maximum is 1673, and it is also more than covered by the package limit."
   ]
  },
  {
   "cell_type": "code",
   "execution_count": 290,
   "metadata": {},
   "outputs": [
    {
     "data": {
      "text/plain": [
       "array([[<matplotlib.axes._subplots.AxesSubplot object at 0x139f03a30>]],\n",
       "      dtype=object)"
      ]
     },
     "execution_count": 290,
     "metadata": {},
     "output_type": "execute_result"
    },
    {
     "data": {
      "image/png": "[encoded data removed]",
      "text/plain": [
       "<Figure size 432x288 with 1 Axes>"
      ]
     },
     "metadata": {
      "needs_background": "light"
     },
     "output_type": "display_data"
    }
   ],
   "source": [
    "ultra_data.hist('calls_duration')"
   ]
  },
  {
   "cell_type": "markdown",
   "metadata": {},
   "source": [
    "The distribution, which is also close to the Poisson distribution, shows that 800 minutes would be enough for most users.\n",
    "\n",
    "If the limit is reduced 30%, it will still cover the needs of all users."
   ]
  },
  {
   "cell_type": "markdown",
   "metadata": {},
   "source": [
    "### How many SMS do users need per month?"
   ]
  },
  {
   "cell_type": "markdown",
   "metadata": {},
   "source": [
    "#### \"Smart\" plan"
   ]
  },
  {
   "cell_type": "code",
   "execution_count": 291,
   "metadata": {},
   "outputs": [
    {
     "data": {
      "text/plain": [
       "count    2229.000000\n",
       "mean       33.384029\n",
       "std        28.227876\n",
       "min         0.000000\n",
       "25%        10.000000\n",
       "50%        28.000000\n",
       "75%        51.000000\n",
       "max       143.000000\n",
       "Name: sms_count, dtype: float64"
      ]
     },
     "execution_count": 291,
     "metadata": {},
     "output_type": "execute_result"
    }
   ],
   "source": [
    "smart_data['sms_count'].describe()"
   ]
  },
  {
   "cell_type": "code",
   "execution_count": 292,
   "metadata": {},
   "outputs": [
    {
     "data": {
      "text/plain": [
       "<matplotlib.axes._subplots.AxesSubplot at 0x13a1fcdc0>"
      ]
     },
     "execution_count": 292,
     "metadata": {},
     "output_type": "execute_result"
    },
    {
     "data": {
      "image/png": "[encoded data removed]",
      "text/plain": [
       "<Figure size 432x288 with 1 Axes>"
      ]
     },
     "metadata": {
      "needs_background": "light"
     },
     "output_type": "display_data"
    }
   ],
   "source": [
    "smart_data.boxplot('sms_count')"
   ]
  },
  {
   "cell_type": "markdown",
   "metadata": {},
   "source": [
    "Based on the box and whisker plot and data description, most \"Smart\" plan users send between 10 and 51 SMS per month.\n",
    "\n",
    "The average number is 33, and the median is 28. These values are close.\n",
    "The maximum number of SMS sent is 143.\n",
    "\n",
    "The \"Smart\" plan includes 50 messages, which means the package limit covers the needs of most users.\n",
    "\n",
    "Building a distribution for the selection:"
   ]
  },
  {
   "cell_type": "code",
   "execution_count": 293,
   "metadata": {},
   "outputs": [
    {
     "data": {
      "text/plain": [
       "array([[<matplotlib.axes._subplots.AxesSubplot object at 0x13a2b9730>]],\n",
       "      dtype=object)"
      ]
     },
     "execution_count": 293,
     "metadata": {},
     "output_type": "execute_result"
    },
    {
     "data": {
      "image/png": "[encoded data removed]",
      "text/plain": [
       "<Figure size 432x288 with 1 Axes>"
      ]
     },
     "metadata": {
      "needs_background": "light"
     },
     "output_type": "display_data"
    }
   ],
   "source": [
    "smart_data.hist('sms_count')"
   ]
  },
  {
   "cell_type": "markdown",
   "metadata": {},
   "source": [
    "There's a big spike from 0 to 15 SMS on the plot and a negative dependence.\n",
    "\n",
    "Many users send a few SMS.\n",
    "But there are a small number of users who send many SMS."
   ]
  },
  {
   "cell_type": "markdown",
   "metadata": {},
   "source": [
    "#### \"Ultra\" plan"
   ]
  },
  {
   "cell_type": "code",
   "execution_count": 294,
   "metadata": {},
   "outputs": [
    {
     "data": {
      "text/plain": [
       "count    985.000000\n",
       "mean      49.363452\n",
       "std       47.804457\n",
       "min        0.000000\n",
       "25%        6.000000\n",
       "50%       38.000000\n",
       "75%       79.000000\n",
       "max      224.000000\n",
       "Name: sms_count, dtype: float64"
      ]
     },
     "execution_count": 294,
     "metadata": {},
     "output_type": "execute_result"
    }
   ],
   "source": [
    "ultra_data['sms_count'].describe()"
   ]
  },
  {
   "cell_type": "code",
   "execution_count": 295,
   "metadata": {},
   "outputs": [
    {
     "data": {
      "text/plain": [
       "<matplotlib.axes._subplots.AxesSubplot at 0x13a396d90>"
      ]
     },
     "execution_count": 295,
     "metadata": {},
     "output_type": "execute_result"
    },
    {
     "data": {
      "image/png": "[encoded data removed]",
      "text/plain": [
       "<Figure size 432x288 with 1 Axes>"
      ]
     },
     "metadata": {
      "needs_background": "light"
     },
     "output_type": "display_data"
    }
   ],
   "source": [
    "ultra_data.boxplot('sms_count')"
   ]
  },
  {
   "cell_type": "markdown",
   "metadata": {},
   "source": [
    "The majority of the users with the \"Ultra\" plan send from 6 to 79 SMS. \n",
    "The package includes 1000 messages, which is more than enough for the average user.\n",
    "\n",
    "If the limit is reduced to 250 SMS, it will still cover the maximum number of sent SMS."
   ]
  },
  {
   "cell_type": "code",
   "execution_count": 296,
   "metadata": {},
   "outputs": [
    {
     "data": {
      "text/plain": [
       "array([[<matplotlib.axes._subplots.AxesSubplot object at 0x13a683160>]],\n",
       "      dtype=object)"
      ]
     },
     "execution_count": 296,
     "metadata": {},
     "output_type": "execute_result"
    },
    {
     "data": {
      "image/png": "[encoded data removed]",
      "text/plain": [
       "<Figure size 432x288 with 1 Axes>"
      ]
     },
     "metadata": {
      "needs_background": "light"
     },
     "output_type": "display_data"
    }
   ],
   "source": [
    "ultra_data.hist('sms_count')"
   ]
  },
  {
   "cell_type": "markdown",
   "metadata": {},
   "source": [
    "The distribution is regressive. \n",
    "Same as for the Smart plan, a considerable number of users send a few SMS, and a small number of users send many SMS."
   ]
  },
  {
   "cell_type": "markdown",
   "metadata": {},
   "source": [
    "### How much mobile data do users need per month?"
   ]
  },
  {
   "cell_type": "markdown",
   "metadata": {},
   "source": [
    "#### \"Smart\" plan"
   ]
  },
  {
   "cell_type": "code",
   "execution_count": 297,
   "metadata": {},
   "outputs": [
    {
     "data": {
      "text/plain": [
       "count    2229.000000\n",
       "mean       16.328847\n",
       "std         5.747061\n",
       "min         0.000000\n",
       "25%        13.000000\n",
       "50%        17.000000\n",
       "75%        20.000000\n",
       "max        38.000000\n",
       "Name: gb_amount, dtype: float64"
      ]
     },
     "execution_count": 297,
     "metadata": {},
     "output_type": "execute_result"
    }
   ],
   "source": [
    "smart_data['gb_amount'].describe()"
   ]
  },
  {
   "cell_type": "code",
   "execution_count": 298,
   "metadata": {},
   "outputs": [
    {
     "data": {
      "text/plain": [
       "<matplotlib.axes._subplots.AxesSubplot at 0x13b9d17f0>"
      ]
     },
     "execution_count": 298,
     "metadata": {},
     "output_type": "execute_result"
    },
    {
     "data": {
      "image/png": "[encoded data removed]",
      "text/plain": [
       "<Figure size 432x288 with 1 Axes>"
      ]
     },
     "metadata": {
      "needs_background": "light"
     },
     "output_type": "display_data"
    }
   ],
   "source": [
    "smart_data.boxplot('gb_amount')"
   ]
  },
  {
   "cell_type": "markdown",
   "metadata": {},
   "source": [
    "Most users with the \"Smart\" plan spend between 13 and 20 GB per month.\n",
    "Average value - 16.3 GB, median - 17 GB.\n",
    "\n",
    "\n",
    "Building a histogram:"
   ]
  },
  {
   "cell_type": "code",
   "execution_count": 299,
   "metadata": {},
   "outputs": [
    {
     "data": {
      "text/plain": [
       "array([[<matplotlib.axes._subplots.AxesSubplot object at 0x13a66fa00>]],\n",
       "      dtype=object)"
      ]
     },
     "execution_count": 299,
     "metadata": {},
     "output_type": "execute_result"
    },
    {
     "data": {
      "image/png": "[encoded data removed]",
      "text/plain": [
       "<Figure size 432x288 with 1 Axes>"
      ]
     },
     "metadata": {
      "needs_background": "light"
     },
     "output_type": "display_data"
    }
   ],
   "source": [
    "smart_data.hist('gb_amount')"
   ]
  },
  {
   "cell_type": "markdown",
   "metadata": {},
   "source": [
    "The distribution is close to normal: the values are equally distributed around the maximum value. There's a fairly wide range from 13 to 23 GB in the center.\n",
    "\n",
    "The \"Smart\" plan includes up to 15 GB, which means many users often exceed the package limits and overpay."
   ]
  },
  {
   "cell_type": "markdown",
   "metadata": {},
   "source": [
    "#### \"Ultra\" plan"
   ]
  },
  {
   "cell_type": "code",
   "execution_count": 300,
   "metadata": {},
   "outputs": [
    {
     "data": {
      "text/plain": [
       "count    985.000000\n",
       "mean      19.494416\n",
       "std        9.853511\n",
       "min        0.000000\n",
       "25%       12.000000\n",
       "50%       19.000000\n",
       "75%       27.000000\n",
       "max       49.000000\n",
       "Name: gb_amount, dtype: float64"
      ]
     },
     "execution_count": 300,
     "metadata": {},
     "output_type": "execute_result"
    }
   ],
   "source": [
    "ultra_data['gb_amount'].describe()"
   ]
  },
  {
   "cell_type": "code",
   "execution_count": 301,
   "metadata": {},
   "outputs": [
    {
     "data": {
      "text/plain": [
       "<matplotlib.axes._subplots.AxesSubplot at 0x13bb41910>"
      ]
     },
     "execution_count": 301,
     "metadata": {},
     "output_type": "execute_result"
    },
    {
     "data": {
      "image/png": "[encoded data removed]",
      "text/plain": [
       "<Figure size 432x288 with 1 Axes>"
      ]
     },
     "metadata": {
      "needs_background": "light"
     },
     "output_type": "display_data"
    }
   ],
   "source": [
    "ultra_data.boxplot('gb_amount')"
   ]
  },
  {
   "cell_type": "markdown",
   "metadata": {},
   "source": [
    "Most users with the \"Ultra\" plan spend between 12 and 27 GB. \n",
    "\n",
    "The maximum number is 49. The Ultra plan includes up to 30 GB. So the average user is satisfied with the limit."
   ]
  },
  {
   "cell_type": "code",
   "execution_count": 302,
   "metadata": {},
   "outputs": [
    {
     "data": {
      "text/plain": [
       "array([[<matplotlib.axes._subplots.AxesSubplot object at 0x13bc1b070>]],\n",
       "      dtype=object)"
      ]
     },
     "execution_count": 302,
     "metadata": {},
     "output_type": "execute_result"
    },
    {
     "data": {
      "image/png": "[encoded data removed]",
      "text/plain": [
       "<Figure size 432x288 with 1 Axes>"
      ]
     },
     "metadata": {
      "needs_background": "light"
     },
     "output_type": "display_data"
    }
   ],
   "source": [
    "ultra_data.hist('gb_amount')"
   ]
  },
  {
   "cell_type": "markdown",
   "metadata": {},
   "source": [
    "There's a distribution close to Poisson's on the histogram.\n",
    "\n",
    "\n",
    "Most users are satisfied with the plan, and only several users overpay for the mobile internet."
   ]
  },
  {
   "cell_type": "markdown",
   "metadata": {},
   "source": [
    "### Summary"
   ]
  },
  {
   "cell_type": "markdown",
   "metadata": {},
   "source": [
    "1. Most \"Smart\" plan users need between 285 and 545 minutes per month. For more than 33% of users in the selection, the included amount of minutes is not enough, and they overpay.\n",
    "\n",
    "2. The average \"Ultra\" plan users need from 310 to 756 minutes per month. The plan covers the needs of all users in the selection. The limit could be reduced to at least 2000 minutes a month and will still cover their needs.\n",
    "\n",
    "3. The \"Smart\" plan includes 50 SMS, and the average user sends from 10 to 51 SMS per month. The package limit covers the needs of the majority of users.\n",
    "\n",
    "4. Most users with the \"Ultra\" plan send from 6 to 79 SMS. The limit fully covers even the maximum number of SMS.\n",
    "The package includes 1000 messages, and the maximum in the selection is 250 SMS. The limit could be reduced to at least 500 SMS.\n",
    "\n",
    "5. The average user with the \"Smart\" plan spends between 13 and 20 GB per month. The package limit does not always cover their requests.\n",
    "\n",
    "6. The average user with the \"Ultra\" plan needs from 12 to 27 GB, which means the package limit is reasonable."
   ]
  },
  {
   "cell_type": "markdown",
   "metadata": {},
   "source": [
    "## Hypothesis Testing"
   ]
  },
  {
   "cell_type": "markdown",
   "metadata": {},
   "source": [
    "### The average revenue of \"Ultra\" and \"Smart\" plan users differ"
   ]
  },
  {
   "cell_type": "markdown",
   "metadata": {},
   "source": [
    "The null hypothesis is the equality of the average revenue of the \"Ultra\" and \"Smart\" plan users.\n",
    "\n",
    "\n",
    "\"The average revenue of the \"Ultra\" and \"Smart\" plan users differ\" - is the alternative hypothesis."
   ]
  },
  {
   "cell_type": "markdown",
   "metadata": {},
   "source": [
    "Checking the size of two selections:"
   ]
  },
  {
   "cell_type": "code",
   "execution_count": 303,
   "metadata": {},
   "outputs": [
    {
     "data": {
      "text/plain": [
       "2223"
      ]
     },
     "execution_count": 303,
     "metadata": {},
     "output_type": "execute_result"
    }
   ],
   "source": [
    "smart_profit = pivot_data.query('tariff_name==\"smart\"')['profit'].dropna()\n",
    "len(smart_profit)"
   ]
  },
  {
   "cell_type": "code",
   "execution_count": 304,
   "metadata": {},
   "outputs": [
    {
     "data": {
      "text/plain": [
       "951"
      ]
     },
     "execution_count": 304,
     "metadata": {},
     "output_type": "execute_result"
    }
   ],
   "source": [
    "ultra_profit = pivot_data.query('tariff_name==\"ultra\"')['profit'].dropna()\n",
    "len(ultra_profit)"
   ]
  },
  {
   "cell_type": "markdown",
   "metadata": {},
   "source": [
    "The selections are large enough to test the hypotheses.\n",
    "\n",
    "\n",
    "Checking whether the variances in our selections are equal:"
   ]
  },
  {
   "cell_type": "code",
   "execution_count": 305,
   "metadata": {},
   "outputs": [
    {
     "data": {
      "text/plain": [
       "670957.3328782315"
      ]
     },
     "execution_count": 305,
     "metadata": {},
     "output_type": "execute_result"
    }
   ],
   "source": [
    "smart_profit.var()"
   ]
  },
  {
   "cell_type": "code",
   "execution_count": 306,
   "metadata": {},
   "outputs": [
    {
     "data": {
      "text/plain": [
       "143962.09530134674"
      ]
     },
     "execution_count": 306,
     "metadata": {},
     "output_type": "execute_result"
    }
   ],
   "source": [
    "ultra_profit.var()"
   ]
  },
  {
   "cell_type": "markdown",
   "metadata": {},
   "source": [
    "Testing the hypotheses with non-equal variances parameter."
   ]
  },
  {
   "cell_type": "code",
   "execution_count": 307,
   "metadata": {},
   "outputs": [
    {
     "name": "stdout",
     "output_type": "stream",
     "text": [
      "p-значение:  3.155173205867294e-245\n",
      "The null hypothesis was rejected\n"
     ]
    }
   ],
   "source": [
    "alpha = .05 \n",
    "\n",
    "results = st.ttest_ind(\n",
    "    smart_profit, \n",
    "    ultra_profit,\n",
    "    equal_var = False) \n",
    "\n",
    "print('p-значение: ', results.pvalue) \n",
    "\n",
    "if results.pvalue < alpha: \n",
    "    print(\"The null hypothesis was rejected\")\n",
    "else:\n",
    "    print(\"Failed to reject the null hypothesis\")"
   ]
  },
  {
   "cell_type": "markdown",
   "metadata": {},
   "source": [
    "According to the test results, the null hypothesis (the equality of the average revenue of \"Smart\" and \"Ultra\" plans users) was rejected.\n",
    "\n",
    "It looks very probable since the monthly costs of these plans are very different."
   ]
  },
  {
   "cell_type": "code",
   "execution_count": 308,
   "metadata": {},
   "outputs": [
    {
     "data": {
      "text/plain": [
       "1290.8911381016644"
      ]
     },
     "execution_count": 308,
     "metadata": {},
     "output_type": "execute_result"
    }
   ],
   "source": [
    "smart_profit.mean()"
   ]
  },
  {
   "cell_type": "code",
   "execution_count": 309,
   "metadata": {},
   "outputs": [
    {
     "data": {
      "text/plain": [
       "2070.9779179810726"
      ]
     },
     "execution_count": 309,
     "metadata": {},
     "output_type": "execute_result"
    }
   ],
   "source": [
    "ultra_profit.mean()"
   ]
  },
  {
   "cell_type": "markdown",
   "metadata": {},
   "source": [
    "The average value for the two selections is 1.6 times as different."
   ]
  },
  {
   "cell_type": "markdown",
   "metadata": {},
   "source": [
    "### The average revenue of Moscow users differs from other regions"
   ]
  },
  {
   "cell_type": "markdown",
   "metadata": {},
   "source": [
    "Adding city column to the pivot table:"
   ]
  },
  {
   "cell_type": "code",
   "execution_count": 310,
   "metadata": {},
   "outputs": [],
   "source": [
    "pivot_data=pivot_data.merge(users_data[['user_id','city']], left_on='user_id', right_on='user_id')"
   ]
  },
  {
   "cell_type": "markdown",
   "metadata": {},
   "source": [
    "Checking the size of the two selections:"
   ]
  },
  {
   "cell_type": "code",
   "execution_count": 311,
   "metadata": {},
   "outputs": [
    {
     "data": {
      "text/plain": [
       "610"
      ]
     },
     "execution_count": 311,
     "metadata": {},
     "output_type": "execute_result"
    }
   ],
   "source": [
    "moscow_profit = pivot_data.query('city==\"Москва\"')['profit'].dropna()\n",
    "len(moscow_profit)"
   ]
  },
  {
   "cell_type": "code",
   "execution_count": 312,
   "metadata": {},
   "outputs": [
    {
     "data": {
      "text/plain": [
       "2564"
      ]
     },
     "execution_count": 312,
     "metadata": {},
     "output_type": "execute_result"
    }
   ],
   "source": [
    "region_profit = pivot_data.query('city!=\"Москва\"')['profit'].dropna()\n",
    "len(region_profit)"
   ]
  },
  {
   "cell_type": "markdown",
   "metadata": {},
   "source": [
    "The selections are large enough. \n",
    "\n",
    "The null hypothesis is: \"Average revenue in Moscow and in other cities are equal\"\n",
    "\n",
    "The alternative hypothesis is: \"Average revenue in Moscow and in other cities differ\""
   ]
  },
  {
   "cell_type": "code",
   "execution_count": 313,
   "metadata": {},
   "outputs": [
    {
     "name": "stdout",
     "output_type": "stream",
     "text": [
      "p-значение:  0.4619932225305272\n",
      "Failed to reject the null hypothesis\n"
     ]
    }
   ],
   "source": [
    "alpha = 0.05\n",
    "\n",
    "results = st.ttest_ind(\n",
    "    moscow_profit, \n",
    "    region_profit) \n",
    "\n",
    "print('p-значение: ', results.pvalue) \n",
    "\n",
    "if results.pvalue < alpha: \n",
    "    print(\"The null hypothesis was rejected\")\n",
    "else:\n",
    "    print(\"Failed to reject the null hypothesis\")"
   ]
  },
  {
   "cell_type": "markdown",
   "metadata": {},
   "source": [
    "The probability that average revenue in Moscow is equal to revenue within other cities is higher than the level of significance.\n",
    "\n",
    "That is probable since there are many regions where people can to spend as much as in Moscow."
   ]
  },
  {
   "cell_type": "markdown",
   "metadata": {},
   "source": [
    "### Summary"
   ]
  },
  {
   "cell_type": "markdown",
   "metadata": {},
   "source": [
    "Two hypotheses were tested using the methods of statistical analysis:\n",
    "- the average revenue of \"Ultra\" and \"Smart\" plan users differ\n",
    "- the average revenue of Moscow users differs from other regions\n",
    "\n",
    "The first hypothesis wasn't rejected and the second one was rejected. There's a significant probability, that the revenue in Moscow and other regions don't differ."
   ]
  },
  {
   "cell_type": "markdown",
   "metadata": {},
   "source": [
    "##  General conclusion"
   ]
  },
  {
   "cell_type": "markdown",
   "metadata": {},
   "source": [
    "- The data was prepared, and the duplicates were deleted. A pivot table was created with monthly data for each user, containing information on minutes spent, the number of calls, Internet usage, and the number of sent SMS.\n",
    "\n",
    "\n",
    "- For each user within the selection, the monthly revenue was calculated, taking into account the provided limits of the plan. For the most part, the monthly revenue is within the range of 750 - 1950 rubles.\n",
    "\n",
    "\n",
    "- Most users with the \"Smart\" plan need from 285 to 545 minutes, which means that the \"Smart\" package limits are correct. \n",
    "\n",
    "\n",
    "- A large number of users with the \"Smart\" plan send a small number of SMS (from 10 to 51), and a small number of users send a large number of SMS (the maximum is 143). On average, users send 33 SMS per month. The maximum number of SMS is 143. Thus, the \"Smart\" plan covers the needs of the average user with the number of SMSes included.\n",
    "\n",
    "\n",
    "- The average user of the \"Smart\" plan spends from 13 to 20 GB per month, the average value is 16.3. That is, on average, users of the \"Smart\" plan pay extra monthly for the traffic.\n",
    "\n",
    "\n",
    "- The average user with the \"Ultra\" plan needs from 310 to 765 minutes. Based on the distribution, it can be concluded that the limits of the \"Ultra\" plan cover the needs of users in excess since the maximum number of minutes spent is 1673. The limit can be reduced by 30%, and it will still cover the needs of all users.\n",
    "\n",
    "\n",
    "- The average user with the \"Ultra\" plan sends from 6 to 79 SMS per month, the maximum number is 224. On the \"Ultra\" plan, users have 4 times more SMS than they need. The limit can be reduced at least in a half.\n",
    "\n",
    "\n",
    "- Most \"Ultra\" plan users spend between 12 and 27 GB per month. The average value is 19.49 GB. The average values are within the limits of the package provided by the plan, but there are also those who are not satisfied with the limit.\n",
    "\n",
    "\n",
    "- The probability of two hypotheses was tested: \"The average revenue of \"Ultra\" and \"Smart\" plan users differ\" and \"The average revenue of Moscow users differs from other regions\". The probability of the first hypothesis is very high, the probability of the second hypothesis, on the contrary, is very low."
   ]
  },
  {
   "cell_type": "code",
   "execution_count": null,
   "metadata": {},
   "outputs": [],
   "source": []
  }
 ],
 "metadata": {
  "ExecuteTimeLog": [
   {
    "duration": 535,
    "start_time": "2022-02-07T11:55:53.335Z"
   },
   {
    "duration": 1422,
    "start_time": "2022-02-07T11:55:53.872Z"
   },
   {
    "duration": -32,
    "start_time": "2022-02-07T11:55:55.328Z"
   },
   {
    "duration": -39,
    "start_time": "2022-02-07T11:55:55.336Z"
   },
   {
    "duration": -51,
    "start_time": "2022-02-07T11:55:55.349Z"
   },
   {
    "duration": -59,
    "start_time": "2022-02-07T11:55:55.358Z"
   },
   {
    "duration": -66,
    "start_time": "2022-02-07T11:55:55.365Z"
   },
   {
    "duration": -72,
    "start_time": "2022-02-07T11:55:55.372Z"
   },
   {
    "duration": -74,
    "start_time": "2022-02-07T11:55:55.375Z"
   },
   {
    "duration": -78,
    "start_time": "2022-02-07T11:55:55.380Z"
   },
   {
    "duration": -83,
    "start_time": "2022-02-07T11:55:55.386Z"
   },
   {
    "duration": -87,
    "start_time": "2022-02-07T11:55:55.391Z"
   },
   {
    "duration": -90,
    "start_time": "2022-02-07T11:55:55.395Z"
   },
   {
    "duration": -98,
    "start_time": "2022-02-07T11:55:55.404Z"
   },
   {
    "duration": 3,
    "start_time": "2022-02-07T11:58:01.310Z"
   },
   {
    "duration": 1287,
    "start_time": "2022-02-07T11:58:01.315Z"
   },
   {
    "duration": -109,
    "start_time": "2022-02-07T11:58:02.714Z"
   },
   {
    "duration": -111,
    "start_time": "2022-02-07T11:58:02.717Z"
   },
   {
    "duration": -111,
    "start_time": "2022-02-07T11:58:02.718Z"
   },
   {
    "duration": -111,
    "start_time": "2022-02-07T11:58:02.720Z"
   },
   {
    "duration": -119,
    "start_time": "2022-02-07T11:58:02.729Z"
   },
   {
    "duration": -121,
    "start_time": "2022-02-07T11:58:02.733Z"
   },
   {
    "duration": -122,
    "start_time": "2022-02-07T11:58:02.735Z"
   },
   {
    "duration": -124,
    "start_time": "2022-02-07T11:58:02.738Z"
   },
   {
    "duration": -128,
    "start_time": "2022-02-07T11:58:02.744Z"
   },
   {
    "duration": -130,
    "start_time": "2022-02-07T11:58:02.747Z"
   },
   {
    "duration": -131,
    "start_time": "2022-02-07T11:58:02.749Z"
   },
   {
    "duration": -131,
    "start_time": "2022-02-07T11:58:02.751Z"
   },
   {
    "duration": 30,
    "start_time": "2022-02-07T12:02:44.484Z"
   },
   {
    "duration": 2,
    "start_time": "2022-02-07T12:02:49.471Z"
   },
   {
    "duration": 176,
    "start_time": "2022-02-07T12:02:49.477Z"
   },
   {
    "duration": 149,
    "start_time": "2022-02-07T12:02:49.656Z"
   },
   {
    "duration": 95,
    "start_time": "2022-02-07T12:02:49.813Z"
   },
   {
    "duration": 22,
    "start_time": "2022-02-07T12:02:49.910Z"
   },
   {
    "duration": 12,
    "start_time": "2022-02-07T12:02:49.933Z"
   },
   {
    "duration": 15,
    "start_time": "2022-02-07T12:02:49.947Z"
   },
   {
    "duration": 139,
    "start_time": "2022-02-07T12:02:49.964Z"
   },
   {
    "duration": 44,
    "start_time": "2022-02-07T12:02:50.105Z"
   },
   {
    "duration": 34,
    "start_time": "2022-02-07T12:02:50.151Z"
   },
   {
    "duration": 56,
    "start_time": "2022-02-07T12:02:50.187Z"
   },
   {
    "duration": 38,
    "start_time": "2022-02-07T12:02:50.245Z"
   },
   {
    "duration": 11,
    "start_time": "2022-02-07T12:02:50.285Z"
   },
   {
    "duration": 3,
    "start_time": "2022-02-07T12:02:50.313Z"
   },
   {
    "duration": 56,
    "start_time": "2022-02-07T12:53:22.882Z"
   },
   {
    "duration": 198,
    "start_time": "2022-02-07T12:53:27.006Z"
   },
   {
    "duration": 2,
    "start_time": "2022-02-07T12:53:37.715Z"
   },
   {
    "duration": 167,
    "start_time": "2022-02-07T12:53:37.719Z"
   },
   {
    "duration": 141,
    "start_time": "2022-02-07T12:53:37.888Z"
   },
   {
    "duration": 99,
    "start_time": "2022-02-07T12:53:38.031Z"
   },
   {
    "duration": 24,
    "start_time": "2022-02-07T12:53:38.132Z"
   },
   {
    "duration": 13,
    "start_time": "2022-02-07T12:53:38.158Z"
   },
   {
    "duration": 14,
    "start_time": "2022-02-07T12:53:38.173Z"
   },
   {
    "duration": 139,
    "start_time": "2022-02-07T12:53:38.189Z"
   },
   {
    "duration": 38,
    "start_time": "2022-02-07T12:53:38.329Z"
   },
   {
    "duration": 44,
    "start_time": "2022-02-07T12:53:38.369Z"
   },
   {
    "duration": 32,
    "start_time": "2022-02-07T12:53:38.414Z"
   },
   {
    "duration": 34,
    "start_time": "2022-02-07T12:53:38.448Z"
   },
   {
    "duration": 193,
    "start_time": "2022-02-07T12:53:38.484Z"
   },
   {
    "duration": -27,
    "start_time": "2022-02-07T12:53:38.707Z"
   },
   {
    "duration": 185,
    "start_time": "2022-02-07T12:54:08.730Z"
   },
   {
    "duration": 32,
    "start_time": "2022-02-07T13:23:34.238Z"
   },
   {
    "duration": 3,
    "start_time": "2022-02-07T14:38:43.925Z"
   },
   {
    "duration": 80,
    "start_time": "2022-02-07T14:38:43.930Z"
   },
   {
    "duration": -187,
    "start_time": "2022-02-07T14:38:44.199Z"
   },
   {
    "duration": -196,
    "start_time": "2022-02-07T14:38:44.209Z"
   },
   {
    "duration": -201,
    "start_time": "2022-02-07T14:38:44.215Z"
   },
   {
    "duration": -205,
    "start_time": "2022-02-07T14:38:44.220Z"
   },
   {
    "duration": -211,
    "start_time": "2022-02-07T14:38:44.227Z"
   },
   {
    "duration": -229,
    "start_time": "2022-02-07T14:38:44.246Z"
   },
   {
    "duration": -294,
    "start_time": "2022-02-07T14:38:44.312Z"
   },
   {
    "duration": -324,
    "start_time": "2022-02-07T14:38:44.343Z"
   },
   {
    "duration": 28,
    "start_time": "2022-02-07T14:38:44.089Z"
   },
   {
    "duration": 33,
    "start_time": "2022-02-07T14:38:44.119Z"
   },
   {
    "duration": 33,
    "start_time": "2022-02-07T14:38:44.154Z"
   },
   {
    "duration": 209,
    "start_time": "2022-02-07T14:38:44.189Z"
   },
   {
    "duration": -194,
    "start_time": "2022-02-07T14:38:44.594Z"
   },
   {
    "duration": 36,
    "start_time": "2022-02-07T14:38:57.561Z"
   },
   {
    "duration": 3,
    "start_time": "2022-02-07T14:39:10.657Z"
   },
   {
    "duration": 33,
    "start_time": "2022-02-07T14:39:10.664Z"
   },
   {
    "duration": 159,
    "start_time": "2022-02-07T14:39:10.699Z"
   },
   {
    "duration": 139,
    "start_time": "2022-02-07T14:39:10.860Z"
   },
   {
    "duration": 95,
    "start_time": "2022-02-07T14:39:11.001Z"
   },
   {
    "duration": 23,
    "start_time": "2022-02-07T14:39:11.098Z"
   },
   {
    "duration": 13,
    "start_time": "2022-02-07T14:39:11.123Z"
   },
   {
    "duration": 15,
    "start_time": "2022-02-07T14:39:11.138Z"
   },
   {
    "duration": 139,
    "start_time": "2022-02-07T14:39:11.156Z"
   },
   {
    "duration": 48,
    "start_time": "2022-02-07T14:39:11.298Z"
   },
   {
    "duration": 40,
    "start_time": "2022-02-07T14:39:11.349Z"
   },
   {
    "duration": 51,
    "start_time": "2022-02-07T14:39:11.391Z"
   },
   {
    "duration": 39,
    "start_time": "2022-02-07T14:39:11.443Z"
   },
   {
    "duration": 200,
    "start_time": "2022-02-07T14:39:11.484Z"
   },
   {
    "duration": -54,
    "start_time": "2022-02-07T14:39:11.740Z"
   },
   {
    "duration": 190,
    "start_time": "2022-02-07T14:41:24.036Z"
   },
   {
    "duration": 202,
    "start_time": "2022-02-07T14:41:27.181Z"
   },
   {
    "duration": 193,
    "start_time": "2022-02-07T14:41:36.584Z"
   },
   {
    "duration": 193,
    "start_time": "2022-02-07T14:41:41.509Z"
   },
   {
    "duration": 276,
    "start_time": "2022-02-07T14:42:10.705Z"
   },
   {
    "duration": 7,
    "start_time": "2022-02-07T14:42:14.767Z"
   },
   {
    "duration": 6,
    "start_time": "2022-02-07T14:42:30.020Z"
   },
   {
    "duration": 171,
    "start_time": "2022-02-07T14:42:37.242Z"
   },
   {
    "duration": 211,
    "start_time": "2022-02-07T14:42:52.746Z"
   },
   {
    "duration": 5,
    "start_time": "2022-02-07T14:42:56.112Z"
   },
   {
    "duration": 197,
    "start_time": "2022-02-07T14:52:46.728Z"
   },
   {
    "duration": 191,
    "start_time": "2022-02-07T14:53:00.563Z"
   },
   {
    "duration": 4,
    "start_time": "2022-02-07T14:53:12.521Z"
   },
   {
    "duration": 506,
    "start_time": "2022-02-07T14:55:46.385Z"
   },
   {
    "duration": 27,
    "start_time": "2022-02-07T14:55:50.635Z"
   },
   {
    "duration": 28,
    "start_time": "2022-02-07T14:56:05.256Z"
   },
   {
    "duration": 787,
    "start_time": "2022-02-07T14:57:07.524Z"
   },
   {
    "duration": 24,
    "start_time": "2022-02-07T14:57:25.044Z"
   },
   {
    "duration": 29,
    "start_time": "2022-02-07T14:57:40.683Z"
   },
   {
    "duration": 25,
    "start_time": "2022-02-07T14:58:33.701Z"
   },
   {
    "duration": 27,
    "start_time": "2022-02-07T14:58:42.356Z"
   },
   {
    "duration": 26,
    "start_time": "2022-02-07T14:58:54.375Z"
   },
   {
    "duration": 496,
    "start_time": "2022-02-07T14:59:39.060Z"
   },
   {
    "duration": 509,
    "start_time": "2022-02-07T14:59:45.322Z"
   },
   {
    "duration": 26,
    "start_time": "2022-02-07T14:59:55.712Z"
   },
   {
    "duration": 192,
    "start_time": "2022-02-07T15:01:11.160Z"
   },
   {
    "duration": 33,
    "start_time": "2022-02-07T15:01:37.655Z"
   },
   {
    "duration": 210,
    "start_time": "2022-02-07T15:02:29.118Z"
   },
   {
    "duration": 196,
    "start_time": "2022-02-07T15:03:00.093Z"
   },
   {
    "duration": 205,
    "start_time": "2022-02-07T15:06:00.636Z"
   },
   {
    "duration": 32,
    "start_time": "2022-02-07T15:06:42.025Z"
   },
   {
    "duration": 2,
    "start_time": "2022-02-07T15:06:45.375Z"
   },
   {
    "duration": 35,
    "start_time": "2022-02-07T15:06:45.380Z"
   },
   {
    "duration": 168,
    "start_time": "2022-02-07T15:06:45.417Z"
   },
   {
    "duration": 149,
    "start_time": "2022-02-07T15:06:45.587Z"
   },
   {
    "duration": 103,
    "start_time": "2022-02-07T15:06:45.738Z"
   },
   {
    "duration": 23,
    "start_time": "2022-02-07T15:06:45.843Z"
   },
   {
    "duration": 11,
    "start_time": "2022-02-07T15:06:45.868Z"
   },
   {
    "duration": 32,
    "start_time": "2022-02-07T15:06:45.881Z"
   },
   {
    "duration": 4,
    "start_time": "2022-02-07T15:06:45.915Z"
   },
   {
    "duration": 131,
    "start_time": "2022-02-07T15:06:45.922Z"
   },
   {
    "duration": 33,
    "start_time": "2022-02-07T15:06:46.055Z"
   },
   {
    "duration": 40,
    "start_time": "2022-02-07T15:06:46.090Z"
   },
   {
    "duration": 29,
    "start_time": "2022-02-07T15:06:46.131Z"
   },
   {
    "duration": 51,
    "start_time": "2022-02-07T15:06:46.162Z"
   },
   {
    "duration": 264,
    "start_time": "2022-02-07T15:06:46.215Z"
   },
   {
    "duration": -91,
    "start_time": "2022-02-07T15:06:46.571Z"
   },
   {
    "duration": 5,
    "start_time": "2022-02-07T15:07:17.088Z"
   },
   {
    "duration": 211,
    "start_time": "2022-02-07T15:07:42.360Z"
   },
   {
    "duration": 5,
    "start_time": "2022-02-07T15:08:02.837Z"
   },
   {
    "duration": 8,
    "start_time": "2022-02-07T15:08:27.535Z"
   },
   {
    "duration": 10,
    "start_time": "2022-02-07T15:09:16.238Z"
   },
   {
    "duration": 17,
    "start_time": "2022-02-07T15:09:39.567Z"
   },
   {
    "duration": 214,
    "start_time": "2022-02-07T15:10:58.041Z"
   },
   {
    "duration": 19,
    "start_time": "2022-02-07T16:17:22.492Z"
   },
   {
    "duration": 27,
    "start_time": "2022-02-07T16:18:20.546Z"
   },
   {
    "duration": 59,
    "start_time": "2022-02-07T16:18:59.957Z"
   },
   {
    "duration": 18,
    "start_time": "2022-02-07T16:19:09.101Z"
   },
   {
    "duration": 18,
    "start_time": "2022-02-07T16:19:40.790Z"
   },
   {
    "duration": 272,
    "start_time": "2022-02-07T16:23:34.870Z"
   },
   {
    "duration": 34,
    "start_time": "2022-02-07T16:24:10.433Z"
   },
   {
    "duration": 382,
    "start_time": "2022-02-07T16:24:28.947Z"
   },
   {
    "duration": 340,
    "start_time": "2022-02-07T16:24:40.927Z"
   },
   {
    "duration": 325,
    "start_time": "2022-02-07T16:25:03.574Z"
   },
   {
    "duration": 174,
    "start_time": "2022-02-07T16:25:22.685Z"
   },
   {
    "duration": 239,
    "start_time": "2022-02-07T16:30:31.935Z"
   },
   {
    "duration": 12,
    "start_time": "2022-02-07T20:56:19.443Z"
   },
   {
    "duration": 4773,
    "start_time": "2022-02-07T21:02:47.852Z"
   },
   {
    "duration": 50,
    "start_time": "2022-02-07T21:03:11.293Z"
   },
   {
    "duration": 2,
    "start_time": "2022-02-07T21:03:17.093Z"
   },
   {
    "duration": 52,
    "start_time": "2022-02-07T21:03:17.097Z"
   },
   {
    "duration": 168,
    "start_time": "2022-02-07T21:03:17.151Z"
   },
   {
    "duration": 153,
    "start_time": "2022-02-07T21:03:17.322Z"
   },
   {
    "duration": 97,
    "start_time": "2022-02-07T21:03:17.476Z"
   },
   {
    "duration": 22,
    "start_time": "2022-02-07T21:03:17.575Z"
   },
   {
    "duration": 19,
    "start_time": "2022-02-07T21:03:17.598Z"
   },
   {
    "duration": 14,
    "start_time": "2022-02-07T21:03:17.619Z"
   },
   {
    "duration": 4,
    "start_time": "2022-02-07T21:03:17.635Z"
   },
   {
    "duration": 139,
    "start_time": "2022-02-07T21:03:17.641Z"
   },
   {
    "duration": 40,
    "start_time": "2022-02-07T21:03:17.781Z"
   },
   {
    "duration": 23,
    "start_time": "2022-02-07T21:03:17.822Z"
   },
   {
    "duration": 28,
    "start_time": "2022-02-07T21:03:17.846Z"
   },
   {
    "duration": 45,
    "start_time": "2022-02-07T21:03:17.875Z"
   },
   {
    "duration": 17,
    "start_time": "2022-02-07T21:03:17.921Z"
   },
   {
    "duration": 12,
    "start_time": "2022-02-07T21:03:17.939Z"
   },
   {
    "duration": 6,
    "start_time": "2022-02-07T21:03:17.953Z"
   },
   {
    "duration": 20,
    "start_time": "2022-02-07T21:06:20.062Z"
   },
   {
    "duration": 5036,
    "start_time": "2022-02-07T21:20:29.666Z"
   },
   {
    "duration": 4704,
    "start_time": "2022-02-07T21:21:32.560Z"
   },
   {
    "duration": 4992,
    "start_time": "2022-02-07T21:21:37.641Z"
   },
   {
    "duration": 10,
    "start_time": "2022-02-07T21:22:45.801Z"
   },
   {
    "duration": 61,
    "start_time": "2022-02-07T21:23:03.332Z"
   },
   {
    "duration": 210,
    "start_time": "2022-02-07T21:23:10.995Z"
   },
   {
    "duration": 22,
    "start_time": "2022-02-07T21:26:17.512Z"
   },
   {
    "duration": 269,
    "start_time": "2022-02-07T21:36:45.013Z"
   },
   {
    "duration": 211,
    "start_time": "2022-02-07T21:36:53.741Z"
   },
   {
    "duration": 3,
    "start_time": "2022-02-07T21:37:14.254Z"
   },
   {
    "duration": 51,
    "start_time": "2022-02-07T21:37:14.259Z"
   },
   {
    "duration": 168,
    "start_time": "2022-02-07T21:37:14.312Z"
   },
   {
    "duration": 148,
    "start_time": "2022-02-07T21:37:14.483Z"
   },
   {
    "duration": 106,
    "start_time": "2022-02-07T21:37:14.633Z"
   },
   {
    "duration": 23,
    "start_time": "2022-02-07T21:37:14.741Z"
   },
   {
    "duration": 13,
    "start_time": "2022-02-07T21:37:14.766Z"
   },
   {
    "duration": 13,
    "start_time": "2022-02-07T21:37:14.781Z"
   },
   {
    "duration": 4,
    "start_time": "2022-02-07T21:37:14.812Z"
   },
   {
    "duration": 124,
    "start_time": "2022-02-07T21:37:14.817Z"
   },
   {
    "duration": 33,
    "start_time": "2022-02-07T21:37:14.942Z"
   },
   {
    "duration": 39,
    "start_time": "2022-02-07T21:37:14.976Z"
   },
   {
    "duration": 29,
    "start_time": "2022-02-07T21:37:15.017Z"
   },
   {
    "duration": 26,
    "start_time": "2022-02-07T21:37:15.048Z"
   },
   {
    "duration": 38,
    "start_time": "2022-02-07T21:37:15.076Z"
   },
   {
    "duration": 2,
    "start_time": "2022-02-07T21:37:15.115Z"
   },
   {
    "duration": 215,
    "start_time": "2022-02-07T21:37:15.119Z"
   },
   {
    "duration": 13,
    "start_time": "2022-02-07T21:37:32.112Z"
   },
   {
    "duration": 206,
    "start_time": "2022-02-07T21:37:42.474Z"
   },
   {
    "duration": 196,
    "start_time": "2022-02-07T21:37:57.589Z"
   },
   {
    "duration": 6023,
    "start_time": "2022-02-07T21:39:13.406Z"
   },
   {
    "duration": 194,
    "start_time": "2022-02-07T21:39:42.342Z"
   },
   {
    "duration": 16,
    "start_time": "2022-02-07T21:40:55.988Z"
   },
   {
    "duration": 2,
    "start_time": "2022-02-07T21:41:12.763Z"
   },
   {
    "duration": 17,
    "start_time": "2022-02-07T21:41:13.232Z"
   },
   {
    "duration": 18,
    "start_time": "2022-02-07T21:41:49.306Z"
   },
   {
    "duration": 200,
    "start_time": "2022-02-07T21:48:09.600Z"
   },
   {
    "duration": 7,
    "start_time": "2022-02-07T21:48:38.216Z"
   },
   {
    "duration": 29,
    "start_time": "2022-02-07T21:48:45.916Z"
   },
   {
    "duration": 3,
    "start_time": "2022-02-07T21:49:14.250Z"
   },
   {
    "duration": 44,
    "start_time": "2022-02-07T21:49:14.255Z"
   },
   {
    "duration": 160,
    "start_time": "2022-02-07T21:49:14.301Z"
   },
   {
    "duration": 156,
    "start_time": "2022-02-07T21:49:14.463Z"
   },
   {
    "duration": 102,
    "start_time": "2022-02-07T21:49:14.621Z"
   },
   {
    "duration": 26,
    "start_time": "2022-02-07T21:49:14.724Z"
   },
   {
    "duration": 12,
    "start_time": "2022-02-07T21:49:14.752Z"
   },
   {
    "duration": 16,
    "start_time": "2022-02-07T21:49:14.766Z"
   },
   {
    "duration": 4,
    "start_time": "2022-02-07T21:49:14.783Z"
   },
   {
    "duration": 152,
    "start_time": "2022-02-07T21:49:14.788Z"
   },
   {
    "duration": 35,
    "start_time": "2022-02-07T21:49:14.942Z"
   },
   {
    "duration": 38,
    "start_time": "2022-02-07T21:49:14.978Z"
   },
   {
    "duration": 30,
    "start_time": "2022-02-07T21:49:15.017Z"
   },
   {
    "duration": 29,
    "start_time": "2022-02-07T21:49:15.049Z"
   },
   {
    "duration": 44,
    "start_time": "2022-02-07T21:49:15.080Z"
   },
   {
    "duration": 22,
    "start_time": "2022-02-07T21:49:15.126Z"
   },
   {
    "duration": 19,
    "start_time": "2022-02-07T21:49:15.150Z"
   },
   {
    "duration": 566,
    "start_time": "2022-02-08T09:46:08.610Z"
   },
   {
    "duration": 747,
    "start_time": "2022-02-08T09:46:31.712Z"
   },
   {
    "duration": 61,
    "start_time": "2022-02-08T09:46:32.462Z"
   },
   {
    "duration": 243,
    "start_time": "2022-02-08T09:46:32.527Z"
   },
   {
    "duration": 207,
    "start_time": "2022-02-08T09:46:32.773Z"
   },
   {
    "duration": 138,
    "start_time": "2022-02-08T09:46:32.984Z"
   },
   {
    "duration": 30,
    "start_time": "2022-02-08T09:46:33.124Z"
   },
   {
    "duration": 16,
    "start_time": "2022-02-08T09:46:33.160Z"
   },
   {
    "duration": 23,
    "start_time": "2022-02-08T09:46:33.179Z"
   },
   {
    "duration": 5,
    "start_time": "2022-02-08T09:46:33.205Z"
   },
   {
    "duration": 203,
    "start_time": "2022-02-08T09:46:33.213Z"
   },
   {
    "duration": 63,
    "start_time": "2022-02-08T09:46:33.418Z"
   },
   {
    "duration": 40,
    "start_time": "2022-02-08T09:46:33.483Z"
   },
   {
    "duration": 69,
    "start_time": "2022-02-08T09:46:33.525Z"
   },
   {
    "duration": 45,
    "start_time": "2022-02-08T09:46:33.596Z"
   },
   {
    "duration": 35,
    "start_time": "2022-02-08T09:46:33.643Z"
   },
   {
    "duration": 27,
    "start_time": "2022-02-08T09:46:33.681Z"
   },
   {
    "duration": 56,
    "start_time": "2022-02-08T09:46:33.711Z"
   },
   {
    "duration": 29,
    "start_time": "2022-02-08T09:46:33.770Z"
   },
   {
    "duration": 408,
    "start_time": "2022-02-08T09:47:47.774Z"
   },
   {
    "duration": 411,
    "start_time": "2022-02-08T09:49:44.331Z"
   },
   {
    "duration": 605,
    "start_time": "2022-02-08T09:51:51.050Z"
   },
   {
    "duration": 32,
    "start_time": "2022-02-08T09:53:26.172Z"
   },
   {
    "duration": 37,
    "start_time": "2022-02-08T09:59:50.338Z"
   },
   {
    "duration": 181,
    "start_time": "2022-02-08T10:01:02.831Z"
   },
   {
    "duration": 189,
    "start_time": "2022-02-08T10:03:30.402Z"
   },
   {
    "duration": 3,
    "start_time": "2022-02-08T10:15:22.885Z"
   },
   {
    "duration": 51,
    "start_time": "2022-02-08T10:15:22.891Z"
   },
   {
    "duration": 222,
    "start_time": "2022-02-08T10:15:22.945Z"
   },
   {
    "duration": 190,
    "start_time": "2022-02-08T10:15:23.170Z"
   },
   {
    "duration": 132,
    "start_time": "2022-02-08T10:15:23.362Z"
   },
   {
    "duration": 31,
    "start_time": "2022-02-08T10:15:23.496Z"
   },
   {
    "duration": 30,
    "start_time": "2022-02-08T10:15:23.530Z"
   },
   {
    "duration": 23,
    "start_time": "2022-02-08T10:15:23.563Z"
   },
   {
    "duration": 7,
    "start_time": "2022-02-08T10:15:23.589Z"
   },
   {
    "duration": 203,
    "start_time": "2022-02-08T10:15:23.599Z"
   },
   {
    "duration": 58,
    "start_time": "2022-02-08T10:15:23.805Z"
   },
   {
    "duration": 40,
    "start_time": "2022-02-08T10:15:23.866Z"
   },
   {
    "duration": 72,
    "start_time": "2022-02-08T10:15:23.909Z"
   },
   {
    "duration": 41,
    "start_time": "2022-02-08T10:15:23.983Z"
   },
   {
    "duration": 52,
    "start_time": "2022-02-08T10:15:24.026Z"
   },
   {
    "duration": 23,
    "start_time": "2022-02-08T10:15:24.080Z"
   },
   {
    "duration": 27,
    "start_time": "2022-02-08T10:15:24.106Z"
   },
   {
    "duration": 119,
    "start_time": "2022-02-08T10:15:24.160Z"
   },
   {
    "duration": 353,
    "start_time": "2022-02-08T10:17:41.411Z"
   },
   {
    "duration": 395,
    "start_time": "2022-02-08T10:18:24.723Z"
   },
   {
    "duration": 119,
    "start_time": "2022-02-08T10:19:12.710Z"
   },
   {
    "duration": 118,
    "start_time": "2022-02-08T10:19:21.876Z"
   },
   {
    "duration": 181,
    "start_time": "2022-02-08T10:20:35.625Z"
   },
   {
    "duration": 227,
    "start_time": "2022-02-08T10:26:38.984Z"
   },
   {
    "duration": 113,
    "start_time": "2022-02-08T10:28:25.247Z"
   },
   {
    "duration": 162,
    "start_time": "2022-02-08T10:28:56.585Z"
   },
   {
    "duration": 206,
    "start_time": "2022-02-08T10:29:21.583Z"
   },
   {
    "duration": 427,
    "start_time": "2022-02-08T10:29:42.758Z"
   },
   {
    "duration": 3,
    "start_time": "2022-02-08T10:30:23.684Z"
   },
   {
    "duration": 55,
    "start_time": "2022-02-08T10:30:23.690Z"
   },
   {
    "duration": 221,
    "start_time": "2022-02-08T10:30:23.748Z"
   },
   {
    "duration": 264,
    "start_time": "2022-02-08T10:30:23.972Z"
   },
   {
    "duration": 135,
    "start_time": "2022-02-08T10:30:24.238Z"
   },
   {
    "duration": 32,
    "start_time": "2022-02-08T10:30:24.376Z"
   },
   {
    "duration": 17,
    "start_time": "2022-02-08T10:30:24.411Z"
   },
   {
    "duration": 45,
    "start_time": "2022-02-08T10:30:24.431Z"
   },
   {
    "duration": 8,
    "start_time": "2022-02-08T10:30:24.481Z"
   },
   {
    "duration": 186,
    "start_time": "2022-02-08T10:30:24.491Z"
   },
   {
    "duration": 43,
    "start_time": "2022-02-08T10:30:24.680Z"
   },
   {
    "duration": 52,
    "start_time": "2022-02-08T10:30:24.725Z"
   },
   {
    "duration": 38,
    "start_time": "2022-02-08T10:30:24.779Z"
   },
   {
    "duration": 56,
    "start_time": "2022-02-08T10:30:24.819Z"
   },
   {
    "duration": 26,
    "start_time": "2022-02-08T10:30:24.877Z"
   },
   {
    "duration": 22,
    "start_time": "2022-02-08T10:30:24.906Z"
   },
   {
    "duration": 57,
    "start_time": "2022-02-08T10:30:24.931Z"
   },
   {
    "duration": 415,
    "start_time": "2022-02-08T10:30:24.990Z"
   },
   {
    "duration": 122,
    "start_time": "2022-02-08T10:45:01.465Z"
   },
   {
    "duration": 157,
    "start_time": "2022-02-08T10:45:11.484Z"
   },
   {
    "duration": 124,
    "start_time": "2022-02-08T10:45:33.345Z"
   },
   {
    "duration": 10,
    "start_time": "2022-02-08T10:45:42.028Z"
   },
   {
    "duration": 8,
    "start_time": "2022-02-08T10:45:58.493Z"
   },
   {
    "duration": 377,
    "start_time": "2022-02-08T10:47:24.429Z"
   },
   {
    "duration": 13,
    "start_time": "2022-02-08T10:47:44.878Z"
   },
   {
    "duration": 16,
    "start_time": "2022-02-08T10:48:45.328Z"
   },
   {
    "duration": 43,
    "start_time": "2022-02-08T10:49:41.232Z"
   },
   {
    "duration": 33,
    "start_time": "2022-02-08T10:53:41.122Z"
   },
   {
    "duration": 16,
    "start_time": "2022-02-08T10:54:25.472Z"
   },
   {
    "duration": 3,
    "start_time": "2022-02-08T10:55:15.860Z"
   },
   {
    "duration": 52,
    "start_time": "2022-02-08T10:55:15.865Z"
   },
   {
    "duration": 295,
    "start_time": "2022-02-08T10:55:15.920Z"
   },
   {
    "duration": 264,
    "start_time": "2022-02-08T10:55:16.218Z"
   },
   {
    "duration": 153,
    "start_time": "2022-02-08T10:55:16.484Z"
   },
   {
    "duration": 32,
    "start_time": "2022-02-08T10:55:16.640Z"
   },
   {
    "duration": 19,
    "start_time": "2022-02-08T10:55:16.674Z"
   },
   {
    "duration": 22,
    "start_time": "2022-02-08T10:55:16.695Z"
   },
   {
    "duration": 40,
    "start_time": "2022-02-08T10:55:16.721Z"
   },
   {
    "duration": 172,
    "start_time": "2022-02-08T10:55:16.764Z"
   },
   {
    "duration": 51,
    "start_time": "2022-02-08T10:55:16.938Z"
   },
   {
    "duration": 32,
    "start_time": "2022-02-08T10:55:16.992Z"
   },
   {
    "duration": 56,
    "start_time": "2022-02-08T10:55:17.027Z"
   },
   {
    "duration": 34,
    "start_time": "2022-02-08T10:55:17.085Z"
   },
   {
    "duration": 50,
    "start_time": "2022-02-08T10:55:17.122Z"
   },
   {
    "duration": 24,
    "start_time": "2022-02-08T10:55:17.174Z"
   },
   {
    "duration": 28,
    "start_time": "2022-02-08T10:55:17.200Z"
   },
   {
    "duration": 39,
    "start_time": "2022-02-08T10:55:17.231Z"
   },
   {
    "duration": 33,
    "start_time": "2022-02-08T10:55:17.273Z"
   },
   {
    "duration": 4,
    "start_time": "2022-02-08T10:55:59.269Z"
   },
   {
    "duration": 50,
    "start_time": "2022-02-08T10:55:59.276Z"
   },
   {
    "duration": 223,
    "start_time": "2022-02-08T10:55:59.419Z"
   },
   {
    "duration": 202,
    "start_time": "2022-02-08T10:55:59.645Z"
   },
   {
    "duration": 148,
    "start_time": "2022-02-08T10:55:59.850Z"
   },
   {
    "duration": 32,
    "start_time": "2022-02-08T10:56:00.001Z"
   },
   {
    "duration": 30,
    "start_time": "2022-02-08T10:56:00.035Z"
   },
   {
    "duration": 22,
    "start_time": "2022-02-08T10:56:00.067Z"
   },
   {
    "duration": 13,
    "start_time": "2022-02-08T10:56:00.091Z"
   },
   {
    "duration": 192,
    "start_time": "2022-02-08T10:56:00.107Z"
   },
   {
    "duration": 42,
    "start_time": "2022-02-08T10:56:00.302Z"
   },
   {
    "duration": 42,
    "start_time": "2022-02-08T10:56:00.347Z"
   },
   {
    "duration": 39,
    "start_time": "2022-02-08T10:56:00.391Z"
   },
   {
    "duration": 59,
    "start_time": "2022-02-08T10:56:00.433Z"
   },
   {
    "duration": 26,
    "start_time": "2022-02-08T10:56:00.494Z"
   },
   {
    "duration": 52,
    "start_time": "2022-02-08T10:56:00.522Z"
   },
   {
    "duration": 32,
    "start_time": "2022-02-08T10:56:00.576Z"
   },
   {
    "duration": 14,
    "start_time": "2022-02-08T10:56:00.610Z"
   },
   {
    "duration": 58,
    "start_time": "2022-02-08T10:56:00.627Z"
   },
   {
    "duration": 3,
    "start_time": "2022-02-08T10:56:56.269Z"
   },
   {
    "duration": 57,
    "start_time": "2022-02-08T10:56:56.275Z"
   },
   {
    "duration": 226,
    "start_time": "2022-02-08T10:56:56.405Z"
   },
   {
    "duration": 198,
    "start_time": "2022-02-08T10:56:56.634Z"
   },
   {
    "duration": 141,
    "start_time": "2022-02-08T10:56:56.835Z"
   },
   {
    "duration": 31,
    "start_time": "2022-02-08T10:56:56.978Z"
   },
   {
    "duration": 16,
    "start_time": "2022-02-08T10:56:57.012Z"
   },
   {
    "duration": 44,
    "start_time": "2022-02-08T10:56:57.031Z"
   },
   {
    "duration": 7,
    "start_time": "2022-02-08T10:56:57.078Z"
   },
   {
    "duration": 194,
    "start_time": "2022-02-08T10:56:57.088Z"
   },
   {
    "duration": 43,
    "start_time": "2022-02-08T10:56:57.288Z"
   },
   {
    "duration": 54,
    "start_time": "2022-02-08T10:56:57.334Z"
   },
   {
    "duration": 40,
    "start_time": "2022-02-08T10:56:57.391Z"
   },
   {
    "duration": 57,
    "start_time": "2022-02-08T10:56:57.433Z"
   },
   {
    "duration": 26,
    "start_time": "2022-02-08T10:56:57.492Z"
   },
   {
    "duration": 52,
    "start_time": "2022-02-08T10:56:57.521Z"
   },
   {
    "duration": 31,
    "start_time": "2022-02-08T10:56:57.576Z"
   },
   {
    "duration": 16,
    "start_time": "2022-02-08T10:56:57.610Z"
   },
   {
    "duration": 53,
    "start_time": "2022-02-08T10:56:57.628Z"
   },
   {
    "duration": 117,
    "start_time": "2022-02-08T10:56:57.684Z"
   },
   {
    "duration": 678,
    "start_time": "2022-02-08T10:57:43.117Z"
   },
   {
    "duration": 6,
    "start_time": "2022-02-08T10:58:02.694Z"
   },
   {
    "duration": 6,
    "start_time": "2022-02-08T11:01:38.758Z"
   },
   {
    "duration": 15,
    "start_time": "2022-02-08T11:02:17.870Z"
   },
   {
    "duration": 32,
    "start_time": "2022-02-08T11:02:31.076Z"
   },
   {
    "duration": 413,
    "start_time": "2022-02-08T11:05:46.734Z"
   },
   {
    "duration": 385,
    "start_time": "2022-02-08T11:06:17.779Z"
   },
   {
    "duration": 328,
    "start_time": "2022-02-08T11:06:38.727Z"
   },
   {
    "duration": 316,
    "start_time": "2022-02-08T11:06:43.656Z"
   },
   {
    "duration": 446,
    "start_time": "2022-02-08T11:08:54.893Z"
   },
   {
    "duration": 229,
    "start_time": "2022-02-08T11:09:10.819Z"
   },
   {
    "duration": 355,
    "start_time": "2022-02-08T11:10:15.462Z"
   },
   {
    "duration": 11,
    "start_time": "2022-02-08T11:10:21.892Z"
   },
   {
    "duration": 10,
    "start_time": "2022-02-08T11:17:48.172Z"
   },
   {
    "duration": 357,
    "start_time": "2022-02-08T11:31:18.499Z"
   },
   {
    "duration": 230,
    "start_time": "2022-02-08T11:31:28.356Z"
   },
   {
    "duration": 154,
    "start_time": "2022-02-08T11:33:27.773Z"
   },
   {
    "duration": 333,
    "start_time": "2022-02-08T11:37:30.749Z"
   },
   {
    "duration": 312,
    "start_time": "2022-02-08T11:44:11.210Z"
   },
   {
    "duration": 25,
    "start_time": "2022-02-08T11:44:25.683Z"
   },
   {
    "duration": 11,
    "start_time": "2022-02-08T12:20:59.990Z"
   },
   {
    "duration": 202,
    "start_time": "2022-02-08T12:21:22.429Z"
   },
   {
    "duration": 303,
    "start_time": "2022-02-08T13:54:44.656Z"
   },
   {
    "duration": 124,
    "start_time": "2022-02-08T13:57:39.224Z"
   },
   {
    "duration": 128,
    "start_time": "2022-02-08T14:08:36.282Z"
   },
   {
    "duration": 11,
    "start_time": "2022-02-08T14:11:23.284Z"
   },
   {
    "duration": 334,
    "start_time": "2022-02-08T14:11:46.458Z"
   },
   {
    "duration": 287,
    "start_time": "2022-02-08T14:28:23.936Z"
   },
   {
    "duration": 119,
    "start_time": "2022-02-08T15:50:50.843Z"
   },
   {
    "duration": 360,
    "start_time": "2022-02-08T16:14:39.477Z"
   },
   {
    "duration": 616,
    "start_time": "2022-02-08T16:14:53.317Z"
   },
   {
    "duration": 48,
    "start_time": "2022-02-08T16:14:53.935Z"
   },
   {
    "duration": 266,
    "start_time": "2022-02-08T16:14:53.986Z"
   },
   {
    "duration": 288,
    "start_time": "2022-02-08T16:14:54.259Z"
   },
   {
    "duration": 135,
    "start_time": "2022-02-08T16:14:54.559Z"
   },
   {
    "duration": 31,
    "start_time": "2022-02-08T16:14:54.696Z"
   },
   {
    "duration": 30,
    "start_time": "2022-02-08T16:14:54.730Z"
   },
   {
    "duration": 21,
    "start_time": "2022-02-08T16:14:54.764Z"
   },
   {
    "duration": 5,
    "start_time": "2022-02-08T16:14:54.788Z"
   },
   {
    "duration": 208,
    "start_time": "2022-02-08T16:14:54.797Z"
   },
   {
    "duration": 52,
    "start_time": "2022-02-08T16:14:55.008Z"
   },
   {
    "duration": 33,
    "start_time": "2022-02-08T16:14:55.063Z"
   },
   {
    "duration": 62,
    "start_time": "2022-02-08T16:14:55.098Z"
   },
   {
    "duration": 37,
    "start_time": "2022-02-08T16:14:55.163Z"
   },
   {
    "duration": 30,
    "start_time": "2022-02-08T16:14:55.203Z"
   },
   {
    "duration": 27,
    "start_time": "2022-02-08T16:14:55.260Z"
   },
   {
    "duration": 44,
    "start_time": "2022-02-08T16:14:55.290Z"
   },
   {
    "duration": 22,
    "start_time": "2022-02-08T16:14:55.360Z"
   },
   {
    "duration": 15,
    "start_time": "2022-02-08T16:14:55.385Z"
   },
   {
    "duration": 297,
    "start_time": "2022-02-08T16:14:55.403Z"
   },
   {
    "duration": 14,
    "start_time": "2022-02-08T16:14:55.703Z"
   },
   {
    "duration": 241,
    "start_time": "2022-02-08T16:14:55.720Z"
   },
   {
    "duration": 427,
    "start_time": "2022-02-08T16:14:55.965Z"
   },
   {
    "duration": 10,
    "start_time": "2022-02-08T16:14:56.395Z"
   },
   {
    "duration": 224,
    "start_time": "2022-02-08T16:14:56.407Z"
   },
   {
    "duration": 296,
    "start_time": "2022-02-08T16:14:56.634Z"
   },
   {
    "duration": 26,
    "start_time": "2022-02-08T16:14:56.933Z"
   },
   {
    "duration": 213,
    "start_time": "2022-02-08T16:14:56.961Z"
   },
   {
    "duration": 282,
    "start_time": "2022-02-08T16:14:57.177Z"
   },
   {
    "duration": 405,
    "start_time": "2022-02-08T16:14:57.462Z"
   },
   {
    "duration": 532,
    "start_time": "2022-02-08T16:15:19.785Z"
   },
   {
    "duration": 583,
    "start_time": "2022-02-08T16:16:10.448Z"
   },
   {
    "duration": 469,
    "start_time": "2022-02-08T16:16:20.184Z"
   },
   {
    "duration": 610,
    "start_time": "2022-02-08T16:16:37.665Z"
   },
   {
    "duration": 8,
    "start_time": "2022-02-08T16:17:11.694Z"
   },
   {
    "duration": 9,
    "start_time": "2022-02-08T16:17:19.982Z"
   },
   {
    "duration": 11,
    "start_time": "2022-02-08T16:17:30.737Z"
   },
   {
    "duration": 12,
    "start_time": "2022-02-08T16:18:07.464Z"
   },
   {
    "duration": 352,
    "start_time": "2022-02-08T16:18:47.148Z"
   },
   {
    "duration": 10,
    "start_time": "2022-02-08T16:18:50.805Z"
   },
   {
    "duration": 466,
    "start_time": "2022-02-08T16:18:51.225Z"
   },
   {
    "duration": 7,
    "start_time": "2022-02-08T16:19:25.906Z"
   },
   {
    "duration": 12,
    "start_time": "2022-02-08T16:23:08.660Z"
   },
   {
    "duration": 11,
    "start_time": "2022-02-08T16:23:58.476Z"
   },
   {
    "duration": 10,
    "start_time": "2022-02-08T16:23:58.952Z"
   },
   {
    "duration": 6,
    "start_time": "2022-02-08T16:29:18.256Z"
   },
   {
    "duration": 8,
    "start_time": "2022-02-08T16:29:26.632Z"
   },
   {
    "duration": 7,
    "start_time": "2022-02-08T16:29:33.433Z"
   },
   {
    "duration": 10,
    "start_time": "2022-02-08T16:31:45.129Z"
   },
   {
    "duration": 8,
    "start_time": "2022-02-08T16:31:53.698Z"
   },
   {
    "duration": 9,
    "start_time": "2022-02-08T16:33:49.051Z"
   },
   {
    "duration": 14,
    "start_time": "2022-02-08T16:34:20.725Z"
   },
   {
    "duration": 16,
    "start_time": "2022-02-08T16:34:39.183Z"
   },
   {
    "duration": 8,
    "start_time": "2022-02-08T16:39:30.984Z"
   },
   {
    "duration": 7,
    "start_time": "2022-02-08T16:39:31.503Z"
   },
   {
    "duration": 9,
    "start_time": "2022-02-08T16:39:42.003Z"
   },
   {
    "duration": 9,
    "start_time": "2022-02-08T16:47:29.729Z"
   },
   {
    "duration": 10,
    "start_time": "2022-02-08T16:47:30.797Z"
   },
   {
    "duration": 9,
    "start_time": "2022-02-08T16:47:52.075Z"
   },
   {
    "duration": 5,
    "start_time": "2022-02-08T16:53:49.948Z"
   },
   {
    "duration": 9354,
    "start_time": "2022-02-08T17:29:58.664Z"
   },
   {
    "duration": 45,
    "start_time": "2022-02-08T17:34:04.880Z"
   },
   {
    "duration": 9477,
    "start_time": "2022-02-08T17:34:46.914Z"
   },
   {
    "duration": 40,
    "start_time": "2022-02-08T17:35:19.480Z"
   },
   {
    "duration": 34,
    "start_time": "2022-02-08T17:35:48.817Z"
   },
   {
    "duration": 50,
    "start_time": "2022-02-08T17:35:53.544Z"
   },
   {
    "duration": 36,
    "start_time": "2022-02-08T17:36:01.051Z"
   },
   {
    "duration": 45,
    "start_time": "2022-02-08T17:36:06.226Z"
   },
   {
    "duration": 50,
    "start_time": "2022-02-08T17:36:26.640Z"
   },
   {
    "duration": 42,
    "start_time": "2022-02-08T17:36:30.075Z"
   },
   {
    "duration": 27,
    "start_time": "2022-02-08T17:37:40.245Z"
   },
   {
    "duration": 14,
    "start_time": "2022-02-08T17:39:00.826Z"
   },
   {
    "duration": 39,
    "start_time": "2022-02-08T17:39:19.259Z"
   },
   {
    "duration": 20,
    "start_time": "2022-02-08T17:39:20.101Z"
   },
   {
    "duration": 714,
    "start_time": "2022-02-08T17:42:35.997Z"
   },
   {
    "duration": 27,
    "start_time": "2022-02-08T17:43:08.206Z"
   },
   {
    "duration": 452,
    "start_time": "2022-02-08T17:44:45.182Z"
   },
   {
    "duration": 517,
    "start_time": "2022-02-08T17:44:48.742Z"
   },
   {
    "duration": 3,
    "start_time": "2022-02-08T17:45:00.878Z"
   },
   {
    "duration": 62,
    "start_time": "2022-02-08T17:45:00.885Z"
   },
   {
    "duration": 249,
    "start_time": "2022-02-08T17:45:00.950Z"
   },
   {
    "duration": 209,
    "start_time": "2022-02-08T17:45:01.202Z"
   },
   {
    "duration": 152,
    "start_time": "2022-02-08T17:45:01.414Z"
   },
   {
    "duration": 35,
    "start_time": "2022-02-08T17:45:01.569Z"
   },
   {
    "duration": 53,
    "start_time": "2022-02-08T17:45:01.609Z"
   },
   {
    "duration": 24,
    "start_time": "2022-02-08T17:45:01.666Z"
   },
   {
    "duration": 6,
    "start_time": "2022-02-08T17:45:01.692Z"
   },
   {
    "duration": 202,
    "start_time": "2022-02-08T17:45:01.700Z"
   },
   {
    "duration": 58,
    "start_time": "2022-02-08T17:45:01.905Z"
   },
   {
    "duration": 35,
    "start_time": "2022-02-08T17:45:01.965Z"
   },
   {
    "duration": 75,
    "start_time": "2022-02-08T17:45:02.003Z"
   },
   {
    "duration": 35,
    "start_time": "2022-02-08T17:45:02.080Z"
   },
   {
    "duration": 51,
    "start_time": "2022-02-08T17:45:02.117Z"
   },
   {
    "duration": 23,
    "start_time": "2022-02-08T17:45:02.170Z"
   },
   {
    "duration": 29,
    "start_time": "2022-02-08T17:45:02.195Z"
   },
   {
    "duration": 45,
    "start_time": "2022-02-08T17:45:02.226Z"
   },
   {
    "duration": 21,
    "start_time": "2022-02-08T17:45:02.278Z"
   },
   {
    "duration": 260,
    "start_time": "2022-02-08T17:45:02.303Z"
   },
   {
    "duration": 129,
    "start_time": "2022-02-08T17:45:02.567Z"
   },
   {
    "duration": -47,
    "start_time": "2022-02-08T17:45:02.746Z"
   },
   {
    "duration": -50,
    "start_time": "2022-02-08T17:45:02.750Z"
   },
   {
    "duration": -55,
    "start_time": "2022-02-08T17:45:02.756Z"
   },
   {
    "duration": -58,
    "start_time": "2022-02-08T17:45:02.761Z"
   },
   {
    "duration": -60,
    "start_time": "2022-02-08T17:45:02.764Z"
   },
   {
    "duration": -64,
    "start_time": "2022-02-08T17:45:02.769Z"
   },
   {
    "duration": -67,
    "start_time": "2022-02-08T17:45:02.773Z"
   },
   {
    "duration": -69,
    "start_time": "2022-02-08T17:45:02.777Z"
   },
   {
    "duration": -72,
    "start_time": "2022-02-08T17:45:02.781Z"
   },
   {
    "duration": -84,
    "start_time": "2022-02-08T17:45:02.794Z"
   },
   {
    "duration": -87,
    "start_time": "2022-02-08T17:45:02.798Z"
   },
   {
    "duration": -90,
    "start_time": "2022-02-08T17:45:02.802Z"
   },
   {
    "duration": -92,
    "start_time": "2022-02-08T17:45:02.806Z"
   },
   {
    "duration": -95,
    "start_time": "2022-02-08T17:45:02.810Z"
   },
   {
    "duration": -97,
    "start_time": "2022-02-08T17:45:02.813Z"
   },
   {
    "duration": -130,
    "start_time": "2022-02-08T17:47:34.590Z"
   },
   {
    "duration": -137,
    "start_time": "2022-02-08T17:47:34.599Z"
   },
   {
    "duration": -142,
    "start_time": "2022-02-08T17:47:34.605Z"
   },
   {
    "duration": -144,
    "start_time": "2022-02-08T17:47:34.609Z"
   },
   {
    "duration": -147,
    "start_time": "2022-02-08T17:47:34.614Z"
   },
   {
    "duration": -151,
    "start_time": "2022-02-08T17:47:34.619Z"
   },
   {
    "duration": -154,
    "start_time": "2022-02-08T17:47:34.624Z"
   },
   {
    "duration": -157,
    "start_time": "2022-02-08T17:47:34.628Z"
   },
   {
    "duration": -160,
    "start_time": "2022-02-08T17:47:34.633Z"
   },
   {
    "duration": -161,
    "start_time": "2022-02-08T17:47:34.636Z"
   },
   {
    "duration": -169,
    "start_time": "2022-02-08T17:47:34.647Z"
   },
   {
    "duration": -173,
    "start_time": "2022-02-08T17:47:34.653Z"
   },
   {
    "duration": -175,
    "start_time": "2022-02-08T17:47:34.657Z"
   },
   {
    "duration": -178,
    "start_time": "2022-02-08T17:47:34.662Z"
   },
   {
    "duration": -182,
    "start_time": "2022-02-08T17:47:34.668Z"
   },
   {
    "duration": -184,
    "start_time": "2022-02-08T17:47:34.673Z"
   },
   {
    "duration": -187,
    "start_time": "2022-02-08T17:47:34.678Z"
   },
   {
    "duration": -189,
    "start_time": "2022-02-08T17:47:34.682Z"
   },
   {
    "duration": -192,
    "start_time": "2022-02-08T17:47:34.688Z"
   },
   {
    "duration": -195,
    "start_time": "2022-02-08T17:47:34.693Z"
   },
   {
    "duration": -140,
    "start_time": "2022-02-08T17:47:34.698Z"
   },
   {
    "duration": -144,
    "start_time": "2022-02-08T17:47:34.705Z"
   },
   {
    "duration": -160,
    "start_time": "2022-02-08T17:47:34.723Z"
   },
   {
    "duration": -165,
    "start_time": "2022-02-08T17:47:34.730Z"
   },
   {
    "duration": -173,
    "start_time": "2022-02-08T17:47:34.740Z"
   },
   {
    "duration": -179,
    "start_time": "2022-02-08T17:47:34.748Z"
   },
   {
    "duration": -184,
    "start_time": "2022-02-08T17:47:34.755Z"
   },
   {
    "duration": -188,
    "start_time": "2022-02-08T17:47:34.761Z"
   },
   {
    "duration": -310,
    "start_time": "2022-02-08T17:47:34.885Z"
   },
   {
    "duration": -336,
    "start_time": "2022-02-08T17:47:34.913Z"
   },
   {
    "duration": -339,
    "start_time": "2022-02-08T17:47:34.918Z"
   },
   {
    "duration": -341,
    "start_time": "2022-02-08T17:47:34.922Z"
   },
   {
    "duration": -342,
    "start_time": "2022-02-08T17:47:34.926Z"
   },
   {
    "duration": -344,
    "start_time": "2022-02-08T17:47:34.930Z"
   },
   {
    "duration": -347,
    "start_time": "2022-02-08T17:47:34.935Z"
   },
   {
    "duration": -348,
    "start_time": "2022-02-08T17:47:34.938Z"
   },
   {
    "duration": 4,
    "start_time": "2022-02-08T17:48:09.506Z"
   },
   {
    "duration": 58,
    "start_time": "2022-02-08T17:48:09.512Z"
   },
   {
    "duration": 245,
    "start_time": "2022-02-08T17:48:09.574Z"
   },
   {
    "duration": 223,
    "start_time": "2022-02-08T17:48:09.823Z"
   },
   {
    "duration": 158,
    "start_time": "2022-02-08T17:48:10.049Z"
   },
   {
    "duration": 31,
    "start_time": "2022-02-08T17:48:10.210Z"
   },
   {
    "duration": 17,
    "start_time": "2022-02-08T17:48:10.259Z"
   },
   {
    "duration": 21,
    "start_time": "2022-02-08T17:48:10.279Z"
   },
   {
    "duration": 6,
    "start_time": "2022-02-08T17:48:10.305Z"
   },
   {
    "duration": 182,
    "start_time": "2022-02-08T17:48:10.358Z"
   },
   {
    "duration": 47,
    "start_time": "2022-02-08T17:48:10.543Z"
   },
   {
    "duration": 31,
    "start_time": "2022-02-08T17:48:10.592Z"
   },
   {
    "duration": 68,
    "start_time": "2022-02-08T17:48:10.626Z"
   },
   {
    "duration": 35,
    "start_time": "2022-02-08T17:48:10.696Z"
   },
   {
    "duration": 52,
    "start_time": "2022-02-08T17:48:10.734Z"
   },
   {
    "duration": 25,
    "start_time": "2022-02-08T17:48:10.789Z"
   },
   {
    "duration": 67,
    "start_time": "2022-02-08T17:48:10.816Z"
   },
   {
    "duration": 16,
    "start_time": "2022-02-08T17:48:10.885Z"
   },
   {
    "duration": 16,
    "start_time": "2022-02-08T17:48:10.904Z"
   },
   {
    "duration": 285,
    "start_time": "2022-02-08T17:48:10.923Z"
   },
   {
    "duration": 205,
    "start_time": "2022-02-08T17:48:11.211Z"
   },
   {
    "duration": -378,
    "start_time": "2022-02-08T17:48:11.797Z"
   },
   {
    "duration": -382,
    "start_time": "2022-02-08T17:48:11.802Z"
   },
   {
    "duration": -385,
    "start_time": "2022-02-08T17:48:11.807Z"
   },
   {
    "duration": -398,
    "start_time": "2022-02-08T17:48:11.822Z"
   },
   {
    "duration": -402,
    "start_time": "2022-02-08T17:48:11.827Z"
   },
   {
    "duration": -406,
    "start_time": "2022-02-08T17:48:11.832Z"
   },
   {
    "duration": -411,
    "start_time": "2022-02-08T17:48:11.839Z"
   },
   {
    "duration": -417,
    "start_time": "2022-02-08T17:48:11.846Z"
   },
   {
    "duration": -421,
    "start_time": "2022-02-08T17:48:11.851Z"
   },
   {
    "duration": -425,
    "start_time": "2022-02-08T17:48:11.856Z"
   },
   {
    "duration": -430,
    "start_time": "2022-02-08T17:48:11.863Z"
   },
   {
    "duration": -434,
    "start_time": "2022-02-08T17:48:11.868Z"
   },
   {
    "duration": -440,
    "start_time": "2022-02-08T17:48:11.875Z"
   },
   {
    "duration": -443,
    "start_time": "2022-02-08T17:48:11.880Z"
   },
   {
    "duration": -446,
    "start_time": "2022-02-08T17:48:11.884Z"
   },
   {
    "duration": 4,
    "start_time": "2022-02-08T17:49:29.640Z"
   },
   {
    "duration": 57,
    "start_time": "2022-02-08T17:49:29.652Z"
   },
   {
    "duration": 235,
    "start_time": "2022-02-08T17:49:29.712Z"
   },
   {
    "duration": 213,
    "start_time": "2022-02-08T17:49:29.951Z"
   },
   {
    "duration": 138,
    "start_time": "2022-02-08T17:49:30.166Z"
   },
   {
    "duration": 29,
    "start_time": "2022-02-08T17:49:30.306Z"
   },
   {
    "duration": 32,
    "start_time": "2022-02-08T17:49:30.338Z"
   },
   {
    "duration": 29,
    "start_time": "2022-02-08T17:49:30.372Z"
   },
   {
    "duration": 6,
    "start_time": "2022-02-08T17:49:30.405Z"
   },
   {
    "duration": 209,
    "start_time": "2022-02-08T17:49:30.414Z"
   },
   {
    "duration": 61,
    "start_time": "2022-02-08T17:49:30.626Z"
   },
   {
    "duration": 32,
    "start_time": "2022-02-08T17:49:30.690Z"
   },
   {
    "duration": 63,
    "start_time": "2022-02-08T17:49:30.724Z"
   },
   {
    "duration": 36,
    "start_time": "2022-02-08T17:49:30.789Z"
   },
   {
    "duration": 52,
    "start_time": "2022-02-08T17:49:30.827Z"
   },
   {
    "duration": 26,
    "start_time": "2022-02-08T17:49:30.882Z"
   },
   {
    "duration": 68,
    "start_time": "2022-02-08T17:49:30.911Z"
   },
   {
    "duration": 22,
    "start_time": "2022-02-08T17:49:30.982Z"
   },
   {
    "duration": 23,
    "start_time": "2022-02-08T17:49:31.007Z"
   },
   {
    "duration": 273,
    "start_time": "2022-02-08T17:49:31.033Z"
   },
   {
    "duration": 16,
    "start_time": "2022-02-08T17:49:31.310Z"
   },
   {
    "duration": 262,
    "start_time": "2022-02-08T17:49:31.329Z"
   },
   {
    "duration": 305,
    "start_time": "2022-02-08T17:49:31.594Z"
   },
   {
    "duration": 10,
    "start_time": "2022-02-08T17:49:31.904Z"
   },
   {
    "duration": 233,
    "start_time": "2022-02-08T17:49:31.917Z"
   },
   {
    "duration": 304,
    "start_time": "2022-02-08T17:49:32.152Z"
   },
   {
    "duration": 12,
    "start_time": "2022-02-08T17:49:32.460Z"
   },
   {
    "duration": 232,
    "start_time": "2022-02-08T17:49:32.474Z"
   },
   {
    "duration": 295,
    "start_time": "2022-02-08T17:49:32.709Z"
   },
   {
    "duration": 9,
    "start_time": "2022-02-08T17:49:33.007Z"
   },
   {
    "duration": 11,
    "start_time": "2022-02-08T17:49:33.018Z"
   },
   {
    "duration": 6,
    "start_time": "2022-02-08T17:49:33.060Z"
   },
   {
    "duration": 14,
    "start_time": "2022-02-08T17:49:33.068Z"
   },
   {
    "duration": 5,
    "start_time": "2022-02-08T17:49:33.085Z"
   },
   {
    "duration": 383,
    "start_time": "2022-02-08T17:49:33.093Z"
   },
   {
    "duration": 10,
    "start_time": "2022-02-08T17:49:46.728Z"
   },
   {
    "duration": 11,
    "start_time": "2022-02-08T17:50:04.583Z"
   },
   {
    "duration": 7,
    "start_time": "2022-02-08T17:52:22.078Z"
   },
   {
    "duration": 7,
    "start_time": "2022-02-08T17:52:26.850Z"
   },
   {
    "duration": 17,
    "start_time": "2022-02-08T17:52:46.900Z"
   },
   {
    "duration": 16,
    "start_time": "2022-02-08T17:52:50.341Z"
   },
   {
    "duration": 17,
    "start_time": "2022-02-08T17:52:57.820Z"
   },
   {
    "duration": 399,
    "start_time": "2022-02-08T17:53:06.674Z"
   },
   {
    "duration": 34,
    "start_time": "2022-02-08T17:53:24.376Z"
   },
   {
    "duration": 16,
    "start_time": "2022-02-08T17:53:37.570Z"
   },
   {
    "duration": 4,
    "start_time": "2022-02-08T17:53:48.283Z"
   },
   {
    "duration": 61,
    "start_time": "2022-02-08T17:53:48.298Z"
   },
   {
    "duration": 241,
    "start_time": "2022-02-08T17:53:48.363Z"
   },
   {
    "duration": 208,
    "start_time": "2022-02-08T17:53:48.609Z"
   },
   {
    "duration": 144,
    "start_time": "2022-02-08T17:53:48.820Z"
   },
   {
    "duration": 32,
    "start_time": "2022-02-08T17:53:48.966Z"
   },
   {
    "duration": 18,
    "start_time": "2022-02-08T17:53:49.000Z"
   },
   {
    "duration": 53,
    "start_time": "2022-02-08T17:53:49.021Z"
   },
   {
    "duration": 5,
    "start_time": "2022-02-08T17:53:49.077Z"
   },
   {
    "duration": 190,
    "start_time": "2022-02-08T17:53:49.085Z"
   },
   {
    "duration": 45,
    "start_time": "2022-02-08T17:53:49.277Z"
   },
   {
    "duration": 51,
    "start_time": "2022-02-08T17:53:49.325Z"
   },
   {
    "duration": 37,
    "start_time": "2022-02-08T17:53:49.378Z"
   },
   {
    "duration": 64,
    "start_time": "2022-02-08T17:53:49.418Z"
   },
   {
    "duration": 28,
    "start_time": "2022-02-08T17:53:49.484Z"
   },
   {
    "duration": 53,
    "start_time": "2022-02-08T17:53:49.514Z"
   },
   {
    "duration": 31,
    "start_time": "2022-02-08T17:53:49.569Z"
   },
   {
    "duration": 16,
    "start_time": "2022-02-08T17:53:49.603Z"
   },
   {
    "duration": 43,
    "start_time": "2022-02-08T17:53:49.622Z"
   },
   {
    "duration": 256,
    "start_time": "2022-02-08T17:53:49.668Z"
   },
   {
    "duration": 11,
    "start_time": "2022-02-08T17:53:49.926Z"
   },
   {
    "duration": 264,
    "start_time": "2022-02-08T17:53:49.939Z"
   },
   {
    "duration": 323,
    "start_time": "2022-02-08T17:53:50.205Z"
   },
   {
    "duration": 12,
    "start_time": "2022-02-08T17:53:50.530Z"
   },
   {
    "duration": 230,
    "start_time": "2022-02-08T17:53:50.560Z"
   },
   {
    "duration": 483,
    "start_time": "2022-02-08T17:53:50.792Z"
   },
   {
    "duration": 15,
    "start_time": "2022-02-08T17:53:51.278Z"
   },
   {
    "duration": 264,
    "start_time": "2022-02-08T17:53:51.300Z"
   },
   {
    "duration": 299,
    "start_time": "2022-02-08T17:53:51.567Z"
   },
   {
    "duration": 9,
    "start_time": "2022-02-08T17:53:51.868Z"
   },
   {
    "duration": 9,
    "start_time": "2022-02-08T17:53:51.879Z"
   },
   {
    "duration": 7,
    "start_time": "2022-02-08T17:53:51.890Z"
   },
   {
    "duration": 61,
    "start_time": "2022-02-08T17:53:51.900Z"
   },
   {
    "duration": 6,
    "start_time": "2022-02-08T17:53:51.964Z"
   },
   {
    "duration": 16,
    "start_time": "2022-02-08T17:53:51.972Z"
   },
   {
    "duration": 13,
    "start_time": "2022-02-08T17:53:51.991Z"
   },
   {
    "duration": 6,
    "start_time": "2022-02-08T17:53:52.007Z"
   },
   {
    "duration": 10,
    "start_time": "2022-02-08T17:54:15.781Z"
   },
   {
    "duration": 7,
    "start_time": "2022-02-08T17:54:18.696Z"
   },
   {
    "duration": 8,
    "start_time": "2022-02-08T17:54:29.376Z"
   },
   {
    "duration": 9,
    "start_time": "2022-02-08T17:55:25.421Z"
   },
   {
    "duration": -739,
    "start_time": "2022-02-08T18:09:20.023Z"
   },
   {
    "duration": -774,
    "start_time": "2022-02-08T18:09:20.060Z"
   },
   {
    "duration": -896,
    "start_time": "2022-02-08T18:09:20.183Z"
   },
   {
    "duration": -899,
    "start_time": "2022-02-08T18:09:20.188Z"
   },
   {
    "duration": -904,
    "start_time": "2022-02-08T18:09:20.194Z"
   },
   {
    "duration": -908,
    "start_time": "2022-02-08T18:09:20.200Z"
   },
   {
    "duration": -915,
    "start_time": "2022-02-08T18:09:20.208Z"
   },
   {
    "duration": -917,
    "start_time": "2022-02-08T18:09:20.211Z"
   },
   {
    "duration": -924,
    "start_time": "2022-02-08T18:09:20.220Z"
   },
   {
    "duration": -930,
    "start_time": "2022-02-08T18:09:20.227Z"
   },
   {
    "duration": -1020,
    "start_time": "2022-02-08T18:09:20.319Z"
   },
   {
    "duration": -1032,
    "start_time": "2022-02-08T18:09:20.332Z"
   },
   {
    "duration": -1041,
    "start_time": "2022-02-08T18:09:20.342Z"
   },
   {
    "duration": -1042,
    "start_time": "2022-02-08T18:09:20.345Z"
   },
   {
    "duration": -1046,
    "start_time": "2022-02-08T18:09:20.350Z"
   },
   {
    "duration": -1055,
    "start_time": "2022-02-08T18:09:20.360Z"
   },
   {
    "duration": -1058,
    "start_time": "2022-02-08T18:09:20.365Z"
   },
   {
    "duration": -1067,
    "start_time": "2022-02-08T18:09:20.375Z"
   },
   {
    "duration": -1020,
    "start_time": "2022-02-08T18:09:20.379Z"
   },
   {
    "duration": -1023,
    "start_time": "2022-02-08T18:09:20.384Z"
   },
   {
    "duration": -1026,
    "start_time": "2022-02-08T18:09:20.389Z"
   },
   {
    "duration": -1029,
    "start_time": "2022-02-08T18:09:20.393Z"
   },
   {
    "duration": -1031,
    "start_time": "2022-02-08T18:09:20.397Z"
   },
   {
    "duration": -1035,
    "start_time": "2022-02-08T18:09:20.402Z"
   },
   {
    "duration": -1039,
    "start_time": "2022-02-08T18:09:20.408Z"
   },
   {
    "duration": -1042,
    "start_time": "2022-02-08T18:09:20.412Z"
   },
   {
    "duration": -1044,
    "start_time": "2022-02-08T18:09:20.416Z"
   },
   {
    "duration": -1139,
    "start_time": "2022-02-08T18:09:20.512Z"
   },
   {
    "duration": -1141,
    "start_time": "2022-02-08T18:09:20.516Z"
   },
   {
    "duration": -1158,
    "start_time": "2022-02-08T18:09:20.535Z"
   },
   {
    "duration": -1160,
    "start_time": "2022-02-08T18:09:20.538Z"
   },
   {
    "duration": -1163,
    "start_time": "2022-02-08T18:09:20.542Z"
   },
   {
    "duration": -1165,
    "start_time": "2022-02-08T18:09:20.545Z"
   },
   {
    "duration": -1168,
    "start_time": "2022-02-08T18:09:20.549Z"
   },
   {
    "duration": -1172,
    "start_time": "2022-02-08T18:09:20.554Z"
   },
   {
    "duration": -1176,
    "start_time": "2022-02-08T18:09:20.559Z"
   },
   {
    "duration": -1178,
    "start_time": "2022-02-08T18:09:20.562Z"
   },
   {
    "duration": 3,
    "start_time": "2022-02-08T18:09:38.845Z"
   },
   {
    "duration": 52,
    "start_time": "2022-02-08T18:09:38.851Z"
   },
   {
    "duration": 247,
    "start_time": "2022-02-08T18:09:38.906Z"
   },
   {
    "duration": 197,
    "start_time": "2022-02-08T18:09:39.159Z"
   },
   {
    "duration": 151,
    "start_time": "2022-02-08T18:09:39.359Z"
   },
   {
    "duration": 30,
    "start_time": "2022-02-08T18:09:39.512Z"
   },
   {
    "duration": 30,
    "start_time": "2022-02-08T18:09:39.545Z"
   },
   {
    "duration": 10698,
    "start_time": "2022-02-08T18:09:39.578Z"
   },
   {
    "duration": -123,
    "start_time": "2022-02-08T18:09:50.402Z"
   },
   {
    "duration": -127,
    "start_time": "2022-02-08T18:09:50.407Z"
   },
   {
    "duration": -129,
    "start_time": "2022-02-08T18:09:50.411Z"
   },
   {
    "duration": -137,
    "start_time": "2022-02-08T18:09:50.420Z"
   },
   {
    "duration": -184,
    "start_time": "2022-02-08T18:09:50.468Z"
   },
   {
    "duration": -189,
    "start_time": "2022-02-08T18:09:50.475Z"
   },
   {
    "duration": -195,
    "start_time": "2022-02-08T18:09:50.482Z"
   },
   {
    "duration": -217,
    "start_time": "2022-02-08T18:09:50.505Z"
   },
   {
    "duration": -219,
    "start_time": "2022-02-08T18:09:50.509Z"
   },
   {
    "duration": -228,
    "start_time": "2022-02-08T18:09:50.519Z"
   },
   {
    "duration": -246,
    "start_time": "2022-02-08T18:09:50.539Z"
   },
   {
    "duration": -250,
    "start_time": "2022-02-08T18:09:50.544Z"
   },
   {
    "duration": -254,
    "start_time": "2022-02-08T18:09:50.550Z"
   },
   {
    "duration": -276,
    "start_time": "2022-02-08T18:09:50.573Z"
   },
   {
    "duration": -278,
    "start_time": "2022-02-08T18:09:50.577Z"
   },
   {
    "duration": -283,
    "start_time": "2022-02-08T18:09:50.585Z"
   },
   {
    "duration": -300,
    "start_time": "2022-02-08T18:09:50.604Z"
   },
   {
    "duration": -303,
    "start_time": "2022-02-08T18:09:50.608Z"
   },
   {
    "duration": -306,
    "start_time": "2022-02-08T18:09:50.613Z"
   },
   {
    "duration": -329,
    "start_time": "2022-02-08T18:09:50.637Z"
   },
   {
    "duration": -331,
    "start_time": "2022-02-08T18:09:50.641Z"
   },
   {
    "duration": -333,
    "start_time": "2022-02-08T18:09:50.645Z"
   },
   {
    "duration": -339,
    "start_time": "2022-02-08T18:09:50.652Z"
   },
   {
    "duration": -357,
    "start_time": "2022-02-08T18:09:50.671Z"
   },
   {
    "duration": -316,
    "start_time": "2022-02-08T18:09:50.675Z"
   },
   {
    "duration": -319,
    "start_time": "2022-02-08T18:09:50.680Z"
   },
   {
    "duration": -339,
    "start_time": "2022-02-08T18:09:50.701Z"
   },
   {
    "duration": -343,
    "start_time": "2022-02-08T18:09:50.707Z"
   },
   {
    "duration": -346,
    "start_time": "2022-02-08T18:09:50.711Z"
   },
   {
    "duration": 13,
    "start_time": "2022-02-08T18:10:12.992Z"
   },
   {
    "duration": 366,
    "start_time": "2022-02-08T18:11:05.798Z"
   },
   {
    "duration": 14,
    "start_time": "2022-02-08T18:11:12.799Z"
   },
   {
    "duration": 457,
    "start_time": "2022-02-08T18:13:06.799Z"
   },
   {
    "duration": 399,
    "start_time": "2022-02-08T18:13:12.654Z"
   },
   {
    "duration": 372,
    "start_time": "2022-02-08T18:13:24.759Z"
   },
   {
    "duration": 6,
    "start_time": "2022-02-08T18:13:34.833Z"
   },
   {
    "duration": 4,
    "start_time": "2022-02-08T18:14:12.308Z"
   },
   {
    "duration": 63,
    "start_time": "2022-02-08T18:14:12.315Z"
   },
   {
    "duration": 249,
    "start_time": "2022-02-08T18:14:12.381Z"
   },
   {
    "duration": 229,
    "start_time": "2022-02-08T18:14:12.632Z"
   },
   {
    "duration": 206,
    "start_time": "2022-02-08T18:14:12.864Z"
   },
   {
    "duration": 35,
    "start_time": "2022-02-08T18:14:13.073Z"
   },
   {
    "duration": 19,
    "start_time": "2022-02-08T18:14:13.111Z"
   },
   {
    "duration": 11,
    "start_time": "2022-02-08T18:14:13.160Z"
   },
   {
    "duration": 23,
    "start_time": "2022-02-08T18:14:13.175Z"
   },
   {
    "duration": 5,
    "start_time": "2022-02-08T18:14:13.202Z"
   },
   {
    "duration": 217,
    "start_time": "2022-02-08T18:14:13.209Z"
   },
   {
    "duration": 58,
    "start_time": "2022-02-08T18:14:13.428Z"
   },
   {
    "duration": 37,
    "start_time": "2022-02-08T18:14:13.488Z"
   },
   {
    "duration": 69,
    "start_time": "2022-02-08T18:14:13.527Z"
   },
   {
    "duration": 60,
    "start_time": "2022-02-08T18:14:13.599Z"
   },
   {
    "duration": 28,
    "start_time": "2022-02-08T18:14:13.661Z"
   },
   {
    "duration": 23,
    "start_time": "2022-02-08T18:14:13.692Z"
   },
   {
    "duration": 60,
    "start_time": "2022-02-08T18:14:13.717Z"
   },
   {
    "duration": 17,
    "start_time": "2022-02-08T18:14:13.780Z"
   },
   {
    "duration": 13,
    "start_time": "2022-02-08T18:14:13.800Z"
   },
   {
    "duration": 283,
    "start_time": "2022-02-08T18:14:13.817Z"
   },
   {
    "duration": 14,
    "start_time": "2022-02-08T18:14:14.103Z"
   },
   {
    "duration": 365,
    "start_time": "2022-02-08T18:14:14.120Z"
   },
   {
    "duration": 449,
    "start_time": "2022-02-08T18:14:14.488Z"
   },
   {
    "duration": 20,
    "start_time": "2022-02-08T18:14:14.939Z"
   },
   {
    "duration": 228,
    "start_time": "2022-02-08T18:14:14.962Z"
   },
   {
    "duration": 314,
    "start_time": "2022-02-08T18:14:15.195Z"
   },
   {
    "duration": 25,
    "start_time": "2022-02-08T18:14:15.512Z"
   },
   {
    "duration": 228,
    "start_time": "2022-02-08T18:14:15.540Z"
   },
   {
    "duration": 300,
    "start_time": "2022-02-08T18:14:15.770Z"
   },
   {
    "duration": 10,
    "start_time": "2022-02-08T18:14:16.073Z"
   },
   {
    "duration": 10,
    "start_time": "2022-02-08T18:14:16.085Z"
   },
   {
    "duration": 7,
    "start_time": "2022-02-08T18:14:16.098Z"
   },
   {
    "duration": 61,
    "start_time": "2022-02-08T18:14:16.108Z"
   },
   {
    "duration": 7,
    "start_time": "2022-02-08T18:14:16.171Z"
   },
   {
    "duration": 14,
    "start_time": "2022-02-08T18:14:16.181Z"
   },
   {
    "duration": 13,
    "start_time": "2022-02-08T18:14:16.198Z"
   },
   {
    "duration": 8,
    "start_time": "2022-02-08T18:14:16.260Z"
   },
   {
    "duration": 4,
    "start_time": "2022-02-08T19:07:34.419Z"
   },
   {
    "duration": 54,
    "start_time": "2022-02-08T19:07:34.426Z"
   },
   {
    "duration": 236,
    "start_time": "2022-02-08T19:07:34.483Z"
   },
   {
    "duration": 204,
    "start_time": "2022-02-08T19:07:34.722Z"
   },
   {
    "duration": 143,
    "start_time": "2022-02-08T19:07:34.929Z"
   },
   {
    "duration": 32,
    "start_time": "2022-02-08T19:07:35.075Z"
   },
   {
    "duration": 20,
    "start_time": "2022-02-08T19:07:35.111Z"
   },
   {
    "duration": 34,
    "start_time": "2022-02-08T19:07:35.135Z"
   },
   {
    "duration": 31,
    "start_time": "2022-02-08T19:07:35.172Z"
   },
   {
    "duration": 8,
    "start_time": "2022-02-08T19:07:35.206Z"
   },
   {
    "duration": 308,
    "start_time": "2022-02-08T19:07:35.217Z"
   },
   {
    "duration": 78,
    "start_time": "2022-02-08T19:07:35.528Z"
   },
   {
    "duration": 75,
    "start_time": "2022-02-08T19:07:35.609Z"
   },
   {
    "duration": 39,
    "start_time": "2022-02-08T19:07:35.686Z"
   },
   {
    "duration": 61,
    "start_time": "2022-02-08T19:07:35.727Z"
   },
   {
    "duration": 27,
    "start_time": "2022-02-08T19:07:35.791Z"
   },
   {
    "duration": 44,
    "start_time": "2022-02-08T19:07:35.821Z"
   },
   {
    "duration": 29,
    "start_time": "2022-02-08T19:07:35.868Z"
   },
   {
    "duration": 16,
    "start_time": "2022-02-08T19:07:35.901Z"
   },
   {
    "duration": 40,
    "start_time": "2022-02-08T19:07:35.920Z"
   },
   {
    "duration": 253,
    "start_time": "2022-02-08T19:07:35.963Z"
   },
   {
    "duration": 12,
    "start_time": "2022-02-08T19:07:36.220Z"
   },
   {
    "duration": 249,
    "start_time": "2022-02-08T19:07:36.235Z"
   },
   {
    "duration": 309,
    "start_time": "2022-02-08T19:07:36.488Z"
   },
   {
    "duration": 12,
    "start_time": "2022-02-08T19:07:36.800Z"
   },
   {
    "duration": 222,
    "start_time": "2022-02-08T19:07:36.814Z"
   },
   {
    "duration": 297,
    "start_time": "2022-02-08T19:07:37.038Z"
   },
   {
    "duration": 12,
    "start_time": "2022-02-08T19:07:37.337Z"
   },
   {
    "duration": 236,
    "start_time": "2022-02-08T19:07:37.360Z"
   },
   {
    "duration": 298,
    "start_time": "2022-02-08T19:07:37.598Z"
   },
   {
    "duration": 10,
    "start_time": "2022-02-08T19:07:37.898Z"
   },
   {
    "duration": 9,
    "start_time": "2022-02-08T19:07:37.910Z"
   },
   {
    "duration": 39,
    "start_time": "2022-02-08T19:07:37.921Z"
   },
   {
    "duration": 14,
    "start_time": "2022-02-08T19:07:37.963Z"
   },
   {
    "duration": 8,
    "start_time": "2022-02-08T19:07:37.979Z"
   },
   {
    "duration": 150,
    "start_time": "2022-02-08T19:07:37.990Z"
   },
   {
    "duration": 17,
    "start_time": "2022-02-08T19:07:38.143Z"
   },
   {
    "duration": 5,
    "start_time": "2022-02-08T19:07:38.163Z"
   },
   {
    "duration": 1005,
    "start_time": "2022-02-13T15:43:03.633Z"
   },
   {
    "duration": 38,
    "start_time": "2022-02-13T15:43:04.640Z"
   },
   {
    "duration": 181,
    "start_time": "2022-02-13T15:43:04.682Z"
   },
   {
    "duration": 158,
    "start_time": "2022-02-13T15:43:04.865Z"
   },
   {
    "duration": 118,
    "start_time": "2022-02-13T15:43:05.025Z"
   },
   {
    "duration": 24,
    "start_time": "2022-02-13T15:43:05.146Z"
   },
   {
    "duration": 34,
    "start_time": "2022-02-13T15:43:05.174Z"
   },
   {
    "duration": 9,
    "start_time": "2022-02-13T15:43:05.210Z"
   },
   {
    "duration": 20,
    "start_time": "2022-02-13T15:43:05.220Z"
   },
   {
    "duration": 4,
    "start_time": "2022-02-13T15:43:05.242Z"
   },
   {
    "duration": 159,
    "start_time": "2022-02-13T15:43:05.248Z"
   },
   {
    "duration": 40,
    "start_time": "2022-02-13T15:43:05.409Z"
   },
   {
    "duration": 33,
    "start_time": "2022-02-13T15:43:05.451Z"
   },
   {
    "duration": 36,
    "start_time": "2022-02-13T15:43:05.506Z"
   },
   {
    "duration": 36,
    "start_time": "2022-02-13T15:43:05.544Z"
   },
   {
    "duration": 37,
    "start_time": "2022-02-13T15:43:05.582Z"
   },
   {
    "duration": 19,
    "start_time": "2022-02-13T15:43:05.622Z"
   },
   {
    "duration": 26,
    "start_time": "2022-02-13T15:43:05.643Z"
   },
   {
    "duration": 41,
    "start_time": "2022-02-13T15:43:05.671Z"
   },
   {
    "duration": 16,
    "start_time": "2022-02-13T15:43:05.714Z"
   },
   {
    "duration": 303,
    "start_time": "2022-02-13T15:43:05.733Z"
   },
   {
    "duration": 8,
    "start_time": "2022-02-13T15:43:06.039Z"
   },
   {
    "duration": 191,
    "start_time": "2022-02-13T15:43:06.049Z"
   },
   {
    "duration": 217,
    "start_time": "2022-02-13T15:43:06.242Z"
   },
   {
    "duration": 12,
    "start_time": "2022-02-13T15:43:06.461Z"
   },
   {
    "duration": 171,
    "start_time": "2022-02-13T15:43:06.476Z"
   },
   {
    "duration": 209,
    "start_time": "2022-02-13T15:43:06.649Z"
   },
   {
    "duration": 10,
    "start_time": "2022-02-13T15:43:06.860Z"
   },
   {
    "duration": 169,
    "start_time": "2022-02-13T15:43:06.872Z"
   },
   {
    "duration": 218,
    "start_time": "2022-02-13T15:43:07.042Z"
   },
   {
    "duration": 9,
    "start_time": "2022-02-13T15:43:07.262Z"
   },
   {
    "duration": 18,
    "start_time": "2022-02-13T15:43:07.273Z"
   },
   {
    "duration": 27,
    "start_time": "2022-02-13T15:43:07.293Z"
   },
   {
    "duration": 18,
    "start_time": "2022-02-13T15:43:07.322Z"
   },
   {
    "duration": 6,
    "start_time": "2022-02-13T15:43:07.342Z"
   },
   {
    "duration": 14,
    "start_time": "2022-02-13T15:43:07.351Z"
   },
   {
    "duration": 9,
    "start_time": "2022-02-13T15:43:07.368Z"
   },
   {
    "duration": 11,
    "start_time": "2022-02-13T15:43:07.379Z"
   },
   {
    "duration": 5,
    "start_time": "2022-02-13T15:43:32.452Z"
   },
   {
    "duration": 1428,
    "start_time": "2022-02-14T13:45:30.015Z"
   },
   {
    "duration": 53,
    "start_time": "2022-02-14T13:45:31.447Z"
   },
   {
    "duration": 270,
    "start_time": "2022-02-14T13:45:31.504Z"
   },
   {
    "duration": 241,
    "start_time": "2022-02-14T13:45:31.777Z"
   },
   {
    "duration": 189,
    "start_time": "2022-02-14T13:45:32.024Z"
   },
   {
    "duration": 39,
    "start_time": "2022-02-14T13:45:32.216Z"
   },
   {
    "duration": 20,
    "start_time": "2022-02-14T13:45:32.259Z"
   },
   {
    "duration": 14,
    "start_time": "2022-02-14T13:45:32.284Z"
   },
   {
    "duration": 31,
    "start_time": "2022-02-14T13:45:32.328Z"
   },
   {
    "duration": 10,
    "start_time": "2022-02-14T13:45:32.362Z"
   },
   {
    "duration": 296,
    "start_time": "2022-02-14T13:45:32.374Z"
   },
   {
    "duration": 74,
    "start_time": "2022-02-14T13:45:32.677Z"
   },
   {
    "duration": 52,
    "start_time": "2022-02-14T13:45:32.754Z"
   },
   {
    "duration": 58,
    "start_time": "2022-02-14T13:45:32.824Z"
   },
   {
    "duration": 82,
    "start_time": "2022-02-14T13:45:32.884Z"
   },
   {
    "duration": 53,
    "start_time": "2022-02-14T13:45:32.970Z"
   },
   {
    "duration": 36,
    "start_time": "2022-02-14T13:45:33.026Z"
   },
   {
    "duration": 76,
    "start_time": "2022-02-14T13:45:33.065Z"
   },
   {
    "duration": 27,
    "start_time": "2022-02-14T13:45:33.144Z"
   },
   {
    "duration": 36,
    "start_time": "2022-02-14T13:45:33.175Z"
   },
   {
    "duration": 442,
    "start_time": "2022-02-14T13:45:33.214Z"
   },
   {
    "duration": 12,
    "start_time": "2022-02-14T13:45:33.659Z"
   },
   {
    "duration": 260,
    "start_time": "2022-02-14T13:45:33.680Z"
   },
   {
    "duration": 369,
    "start_time": "2022-02-14T13:45:33.943Z"
   },
   {
    "duration": 19,
    "start_time": "2022-02-14T13:45:34.315Z"
   },
   {
    "duration": 302,
    "start_time": "2022-02-14T13:45:34.337Z"
   },
   {
    "duration": 340,
    "start_time": "2022-02-14T13:45:34.642Z"
   },
   {
    "duration": 17,
    "start_time": "2022-02-14T13:45:34.985Z"
   },
   {
    "duration": 401,
    "start_time": "2022-02-14T13:45:35.005Z"
   },
   {
    "duration": 556,
    "start_time": "2022-02-14T13:45:35.410Z"
   },
   {
    "duration": 17,
    "start_time": "2022-02-14T13:45:35.970Z"
   },
   {
    "duration": 40,
    "start_time": "2022-02-14T13:45:35.990Z"
   },
   {
    "duration": 12,
    "start_time": "2022-02-14T13:45:36.033Z"
   },
   {
    "duration": 37,
    "start_time": "2022-02-14T13:45:36.052Z"
   },
   {
    "duration": 9,
    "start_time": "2022-02-14T13:45:36.094Z"
   },
   {
    "duration": 16,
    "start_time": "2022-02-14T13:45:36.126Z"
   },
   {
    "duration": 18,
    "start_time": "2022-02-14T13:45:36.145Z"
   },
   {
    "duration": 11,
    "start_time": "2022-02-14T13:45:36.166Z"
   },
   {
    "duration": 4,
    "start_time": "2022-02-14T13:53:32.748Z"
   },
   {
    "duration": 50,
    "start_time": "2022-02-14T13:53:32.755Z"
   },
   {
    "duration": 225,
    "start_time": "2022-02-14T13:53:32.808Z"
   },
   {
    "duration": 237,
    "start_time": "2022-02-14T13:53:33.036Z"
   },
   {
    "duration": 149,
    "start_time": "2022-02-14T13:53:33.276Z"
   },
   {
    "duration": 28,
    "start_time": "2022-02-14T13:53:33.428Z"
   },
   {
    "duration": 21,
    "start_time": "2022-02-14T13:53:33.459Z"
   },
   {
    "duration": 44,
    "start_time": "2022-02-14T13:53:33.484Z"
   },
   {
    "duration": 24,
    "start_time": "2022-02-14T13:53:33.533Z"
   },
   {
    "duration": 9,
    "start_time": "2022-02-14T13:53:33.560Z"
   },
   {
    "duration": 203,
    "start_time": "2022-02-14T13:53:33.571Z"
   },
   {
    "duration": 52,
    "start_time": "2022-02-14T13:53:33.776Z"
   },
   {
    "duration": 32,
    "start_time": "2022-02-14T13:53:33.832Z"
   },
   {
    "duration": 62,
    "start_time": "2022-02-14T13:53:33.866Z"
   },
   {
    "duration": 39,
    "start_time": "2022-02-14T13:53:33.930Z"
   },
   {
    "duration": 52,
    "start_time": "2022-02-14T13:53:33.971Z"
   },
   {
    "duration": 25,
    "start_time": "2022-02-14T13:53:34.026Z"
   },
   {
    "duration": 34,
    "start_time": "2022-02-14T13:53:34.053Z"
   },
   {
    "duration": 47,
    "start_time": "2022-02-14T13:53:34.090Z"
   },
   {
    "duration": 13,
    "start_time": "2022-02-14T13:53:34.140Z"
   },
   {
    "duration": 258,
    "start_time": "2022-02-14T13:53:34.155Z"
   },
   {
    "duration": 18,
    "start_time": "2022-02-14T13:53:34.416Z"
   },
   {
    "duration": 237,
    "start_time": "2022-02-14T13:53:34.436Z"
   },
   {
    "duration": 378,
    "start_time": "2022-02-14T13:53:34.675Z"
   },
   {
    "duration": 10,
    "start_time": "2022-02-14T13:53:35.056Z"
   },
   {
    "duration": 236,
    "start_time": "2022-02-14T13:53:35.069Z"
   },
   {
    "duration": 292,
    "start_time": "2022-02-14T13:53:35.310Z"
   },
   {
    "duration": 20,
    "start_time": "2022-02-14T13:53:35.605Z"
   },
   {
    "duration": 240,
    "start_time": "2022-02-14T13:53:35.628Z"
   },
   {
    "duration": 308,
    "start_time": "2022-02-14T13:53:35.870Z"
   },
   {
    "duration": 10,
    "start_time": "2022-02-14T13:53:36.180Z"
   },
   {
    "duration": 35,
    "start_time": "2022-02-14T13:53:36.193Z"
   },
   {
    "duration": 21,
    "start_time": "2022-02-14T13:53:36.230Z"
   },
   {
    "duration": 18,
    "start_time": "2022-02-14T13:53:36.254Z"
   },
   {
    "duration": 5,
    "start_time": "2022-02-14T13:53:36.275Z"
   },
   {
    "duration": 13,
    "start_time": "2022-02-14T13:53:36.283Z"
   },
   {
    "duration": 31,
    "start_time": "2022-02-14T13:53:36.299Z"
   },
   {
    "duration": 12,
    "start_time": "2022-02-14T13:53:36.333Z"
   },
   {
    "duration": 26,
    "start_time": "2022-02-14T13:54:07.792Z"
   },
   {
    "duration": 97,
    "start_time": "2022-02-14T13:54:16.161Z"
   },
   {
    "duration": 39,
    "start_time": "2022-02-14T13:54:20.922Z"
   },
   {
    "duration": 28,
    "start_time": "2022-02-14T13:56:33.689Z"
   },
   {
    "duration": 32,
    "start_time": "2022-02-14T13:56:38.993Z"
   },
   {
    "duration": 14,
    "start_time": "2022-02-14T14:03:23.300Z"
   },
   {
    "duration": 270,
    "start_time": "2022-02-14T14:03:40.220Z"
   },
   {
    "duration": 312,
    "start_time": "2022-02-14T14:03:57.861Z"
   },
   {
    "duration": 7271,
    "start_time": "2022-02-14T14:04:33.556Z"
   },
   {
    "duration": 15,
    "start_time": "2022-02-14T14:04:43.681Z"
   },
   {
    "duration": 6,
    "start_time": "2022-02-14T14:05:44.334Z"
   },
   {
    "duration": 47,
    "start_time": "2022-02-14T14:05:44.343Z"
   },
   {
    "duration": 275,
    "start_time": "2022-02-14T14:05:44.394Z"
   },
   {
    "duration": 213,
    "start_time": "2022-02-14T14:05:44.673Z"
   },
   {
    "duration": 147,
    "start_time": "2022-02-14T14:05:44.890Z"
   },
   {
    "duration": 37,
    "start_time": "2022-02-14T14:05:45.040Z"
   },
   {
    "duration": 48,
    "start_time": "2022-02-14T14:05:45.081Z"
   },
   {
    "duration": 12,
    "start_time": "2022-02-14T14:05:45.133Z"
   },
   {
    "duration": 29,
    "start_time": "2022-02-14T14:05:45.148Z"
   },
   {
    "duration": 6,
    "start_time": "2022-02-14T14:05:45.180Z"
   },
   {
    "duration": 300,
    "start_time": "2022-02-14T14:05:45.223Z"
   },
   {
    "duration": 62,
    "start_time": "2022-02-14T14:05:45.526Z"
   },
   {
    "duration": 49,
    "start_time": "2022-02-14T14:05:45.591Z"
   },
   {
    "duration": 42,
    "start_time": "2022-02-14T14:05:45.644Z"
   },
   {
    "duration": 85,
    "start_time": "2022-02-14T14:05:45.690Z"
   },
   {
    "duration": 95,
    "start_time": "2022-02-14T14:05:45.779Z"
   },
   {
    "duration": 62,
    "start_time": "2022-02-14T14:05:45.877Z"
   },
   {
    "duration": 82,
    "start_time": "2022-02-14T14:05:45.942Z"
   },
   {
    "duration": 25,
    "start_time": "2022-02-14T14:05:46.032Z"
   },
   {
    "duration": 18,
    "start_time": "2022-02-14T14:05:46.062Z"
   },
   {
    "duration": 347,
    "start_time": "2022-02-14T14:05:46.083Z"
   },
   {
    "duration": 18,
    "start_time": "2022-02-14T14:05:46.433Z"
   },
   {
    "duration": 296,
    "start_time": "2022-02-14T14:05:46.454Z"
   },
   {
    "duration": 480,
    "start_time": "2022-02-14T14:05:46.753Z"
   },
   {
    "duration": 16,
    "start_time": "2022-02-14T14:05:47.236Z"
   },
   {
    "duration": 335,
    "start_time": "2022-02-14T14:05:47.254Z"
   },
   {
    "duration": 450,
    "start_time": "2022-02-14T14:05:47.592Z"
   },
   {
    "duration": 13,
    "start_time": "2022-02-14T14:05:48.045Z"
   },
   {
    "duration": 405,
    "start_time": "2022-02-14T14:05:48.061Z"
   },
   {
    "duration": 347,
    "start_time": "2022-02-14T14:05:48.469Z"
   },
   {
    "duration": 15,
    "start_time": "2022-02-14T14:05:48.819Z"
   },
   {
    "duration": 239,
    "start_time": "2022-02-14T14:05:48.837Z"
   },
   {
    "duration": 418,
    "start_time": "2022-02-14T14:05:49.079Z"
   },
   {
    "duration": 25,
    "start_time": "2022-02-14T14:05:49.499Z"
   },
   {
    "duration": 13,
    "start_time": "2022-02-14T14:05:49.526Z"
   },
   {
    "duration": 16,
    "start_time": "2022-02-14T14:05:49.542Z"
   },
   {
    "duration": 14,
    "start_time": "2022-02-14T14:05:49.561Z"
   },
   {
    "duration": 7,
    "start_time": "2022-02-14T14:05:49.578Z"
   },
   {
    "duration": 45,
    "start_time": "2022-02-14T14:05:49.588Z"
   },
   {
    "duration": 21,
    "start_time": "2022-02-14T14:05:49.636Z"
   },
   {
    "duration": 11,
    "start_time": "2022-02-14T14:05:49.660Z"
   },
   {
    "duration": 347,
    "start_time": "2022-02-16T12:49:52.987Z"
   },
   {
    "duration": 1084,
    "start_time": "2022-02-16T12:50:00.241Z"
   },
   {
    "duration": 36,
    "start_time": "2022-02-16T12:50:01.327Z"
   },
   {
    "duration": 194,
    "start_time": "2022-02-16T12:50:01.365Z"
   },
   {
    "duration": 184,
    "start_time": "2022-02-16T12:50:01.561Z"
   },
   {
    "duration": 124,
    "start_time": "2022-02-16T12:50:01.747Z"
   },
   {
    "duration": 21,
    "start_time": "2022-02-16T12:50:01.873Z"
   },
   {
    "duration": 139,
    "start_time": "2022-02-16T12:50:01.896Z"
   },
   {
    "duration": 11,
    "start_time": "2022-02-16T12:50:02.037Z"
   },
   {
    "duration": 38,
    "start_time": "2022-02-16T12:50:02.051Z"
   },
   {
    "duration": 27,
    "start_time": "2022-02-16T12:50:02.092Z"
   },
   {
    "duration": 171,
    "start_time": "2022-02-16T12:50:02.121Z"
   },
   {
    "duration": 48,
    "start_time": "2022-02-16T12:50:02.295Z"
   },
   {
    "duration": 34,
    "start_time": "2022-02-16T12:50:02.344Z"
   },
   {
    "duration": 58,
    "start_time": "2022-02-16T12:50:02.380Z"
   },
   {
    "duration": 46,
    "start_time": "2022-02-16T12:50:02.439Z"
   },
   {
    "duration": 25,
    "start_time": "2022-02-16T12:50:02.487Z"
   },
   {
    "duration": 18,
    "start_time": "2022-02-16T12:50:02.513Z"
   },
   {
    "duration": 34,
    "start_time": "2022-02-16T12:50:02.533Z"
   },
   {
    "duration": 14,
    "start_time": "2022-02-16T12:50:02.569Z"
   },
   {
    "duration": 13,
    "start_time": "2022-02-16T12:50:02.585Z"
   },
   {
    "duration": 293,
    "start_time": "2022-02-16T12:50:02.600Z"
   },
   {
    "duration": 10,
    "start_time": "2022-02-16T12:50:02.895Z"
   },
   {
    "duration": 158,
    "start_time": "2022-02-16T12:50:02.906Z"
   },
   {
    "duration": 213,
    "start_time": "2022-02-16T12:50:03.065Z"
   },
   {
    "duration": 10,
    "start_time": "2022-02-16T12:50:03.280Z"
   },
   {
    "duration": 163,
    "start_time": "2022-02-16T12:50:03.291Z"
   },
   {
    "duration": 204,
    "start_time": "2022-02-16T12:50:03.457Z"
   },
   {
    "duration": 10,
    "start_time": "2022-02-16T12:50:03.663Z"
   },
   {
    "duration": 156,
    "start_time": "2022-02-16T12:50:03.674Z"
   },
   {
    "duration": 208,
    "start_time": "2022-02-16T12:50:03.832Z"
   },
   {
    "duration": 10,
    "start_time": "2022-02-16T12:50:04.042Z"
   },
   {
    "duration": 156,
    "start_time": "2022-02-16T12:50:04.054Z"
   },
   {
    "duration": 195,
    "start_time": "2022-02-16T12:50:04.213Z"
   },
   {
    "duration": 12,
    "start_time": "2022-02-16T12:50:04.410Z"
   },
   {
    "duration": 12,
    "start_time": "2022-02-16T12:50:04.424Z"
   },
   {
    "duration": 16,
    "start_time": "2022-02-16T12:50:04.437Z"
   },
   {
    "duration": 88,
    "start_time": "2022-02-16T12:50:04.455Z"
   },
   {
    "duration": 5,
    "start_time": "2022-02-16T12:50:04.545Z"
   },
   {
    "duration": 15,
    "start_time": "2022-02-16T12:50:04.552Z"
   },
   {
    "duration": 9,
    "start_time": "2022-02-16T12:50:04.569Z"
   },
   {
    "duration": 9,
    "start_time": "2022-02-16T12:50:04.579Z"
   },
   {
    "duration": 165,
    "start_time": "2022-02-16T12:50:22.964Z"
   },
   {
    "duration": 208,
    "start_time": "2022-02-16T12:53:05.418Z"
   },
   {
    "duration": 7663,
    "start_time": "2022-02-16T12:58:56.807Z"
   },
   {
    "duration": 10,
    "start_time": "2022-02-16T12:59:22.499Z"
   },
   {
    "duration": 134,
    "start_time": "2022-02-16T13:00:22.063Z"
   },
   {
    "duration": 187,
    "start_time": "2022-02-16T13:17:33.860Z"
   },
   {
    "duration": 10,
    "start_time": "2022-02-16T13:20:32.341Z"
   },
   {
    "duration": 150,
    "start_time": "2022-02-16T13:20:35.969Z"
   },
   {
    "duration": 194,
    "start_time": "2022-02-16T13:20:40.765Z"
   },
   {
    "duration": 10,
    "start_time": "2022-02-16T13:21:42.337Z"
   },
   {
    "duration": 125,
    "start_time": "2022-02-16T13:21:48.246Z"
   },
   {
    "duration": 194,
    "start_time": "2022-02-16T13:21:53.928Z"
   },
   {
    "duration": 5,
    "start_time": "2022-02-16T13:36:42.684Z"
   },
   {
    "duration": 4,
    "start_time": "2022-02-16T13:36:51.160Z"
   },
   {
    "duration": 6,
    "start_time": "2022-02-16T13:38:57.776Z"
   },
   {
    "duration": 5,
    "start_time": "2022-02-16T13:38:58.406Z"
   },
   {
    "duration": 370,
    "start_time": "2022-02-16T15:05:56.150Z"
   },
   {
    "duration": 922,
    "start_time": "2022-02-16T15:06:05.964Z"
   },
   {
    "duration": 95,
    "start_time": "2022-02-16T15:06:06.888Z"
   },
   {
    "duration": 151,
    "start_time": "2022-02-16T15:06:06.985Z"
   },
   {
    "duration": 134,
    "start_time": "2022-02-16T15:06:07.138Z"
   },
   {
    "duration": 95,
    "start_time": "2022-02-16T15:06:07.273Z"
   },
   {
    "duration": 23,
    "start_time": "2022-02-16T15:06:07.370Z"
   },
   {
    "duration": 17,
    "start_time": "2022-02-16T15:06:07.395Z"
   },
   {
    "duration": 6,
    "start_time": "2022-02-16T15:06:07.415Z"
   },
   {
    "duration": 27,
    "start_time": "2022-02-16T15:06:07.423Z"
   },
   {
    "duration": 4,
    "start_time": "2022-02-16T15:06:07.451Z"
   },
   {
    "duration": 123,
    "start_time": "2022-02-16T15:06:07.456Z"
   },
   {
    "duration": 32,
    "start_time": "2022-02-16T15:06:07.581Z"
   },
   {
    "duration": 38,
    "start_time": "2022-02-16T15:06:07.615Z"
   },
   {
    "duration": 32,
    "start_time": "2022-02-16T15:06:07.655Z"
   },
   {
    "duration": 29,
    "start_time": "2022-02-16T15:06:07.689Z"
   },
   {
    "duration": 40,
    "start_time": "2022-02-16T15:06:07.720Z"
   },
   {
    "duration": 16,
    "start_time": "2022-02-16T15:06:07.762Z"
   },
   {
    "duration": 18,
    "start_time": "2022-02-16T15:06:07.779Z"
   },
   {
    "duration": 11,
    "start_time": "2022-02-16T15:06:07.798Z"
   },
   {
    "duration": 36,
    "start_time": "2022-02-16T15:06:07.810Z"
   },
   {
    "duration": 318,
    "start_time": "2022-02-16T15:06:07.847Z"
   },
   {
    "duration": 9,
    "start_time": "2022-02-16T15:06:08.166Z"
   },
   {
    "duration": 137,
    "start_time": "2022-02-16T15:06:08.178Z"
   },
   {
    "duration": 176,
    "start_time": "2022-02-16T15:06:08.317Z"
   },
   {
    "duration": 9,
    "start_time": "2022-02-16T15:06:08.495Z"
   },
   {
    "duration": 134,
    "start_time": "2022-02-16T15:06:08.506Z"
   },
   {
    "duration": 179,
    "start_time": "2022-02-16T15:06:08.645Z"
   },
   {
    "duration": 8,
    "start_time": "2022-02-16T15:06:08.826Z"
   },
   {
    "duration": 133,
    "start_time": "2022-02-16T15:06:08.846Z"
   },
   {
    "duration": 185,
    "start_time": "2022-02-16T15:06:08.981Z"
   },
   {
    "duration": 10,
    "start_time": "2022-02-16T15:06:09.168Z"
   },
   {
    "duration": 274,
    "start_time": "2022-02-16T15:06:09.180Z"
   },
   {
    "duration": 209,
    "start_time": "2022-02-16T15:06:09.455Z"
   },
   {
    "duration": 7,
    "start_time": "2022-02-16T15:06:09.666Z"
   },
   {
    "duration": 186,
    "start_time": "2022-02-16T15:06:09.675Z"
   },
   {
    "duration": 170,
    "start_time": "2022-02-16T15:06:09.862Z"
   },
   {
    "duration": 14,
    "start_time": "2022-02-16T15:06:10.033Z"
   },
   {
    "duration": 162,
    "start_time": "2022-02-16T15:06:10.048Z"
   },
   {
    "duration": 161,
    "start_time": "2022-02-16T15:06:10.212Z"
   },
   {
    "duration": 9,
    "start_time": "2022-02-16T15:06:10.375Z"
   },
   {
    "duration": 7,
    "start_time": "2022-02-16T15:06:10.386Z"
   },
   {
    "duration": 4,
    "start_time": "2022-02-16T15:06:10.395Z"
   },
   {
    "duration": 8,
    "start_time": "2022-02-16T15:06:10.400Z"
   },
   {
    "duration": 5,
    "start_time": "2022-02-16T15:06:10.409Z"
   },
   {
    "duration": 35,
    "start_time": "2022-02-16T15:06:10.416Z"
   },
   {
    "duration": 4,
    "start_time": "2022-02-16T15:06:10.453Z"
   },
   {
    "duration": 11,
    "start_time": "2022-02-16T15:06:10.459Z"
   },
   {
    "duration": 6,
    "start_time": "2022-02-16T15:06:10.472Z"
   },
   {
    "duration": 5,
    "start_time": "2022-02-16T15:06:10.480Z"
   },
   {
    "duration": 4,
    "start_time": "2022-02-16T15:06:18.922Z"
   },
   {
    "duration": 5,
    "start_time": "2022-02-16T15:06:26.473Z"
   },
   {
    "duration": 4,
    "start_time": "2022-02-16T15:06:31.295Z"
   },
   {
    "duration": 4,
    "start_time": "2022-02-16T15:07:10.981Z"
   },
   {
    "duration": 4,
    "start_time": "2022-02-16T15:07:26.155Z"
   },
   {
    "duration": 4,
    "start_time": "2022-02-16T15:08:11.479Z"
   },
   {
    "duration": 3,
    "start_time": "2022-02-16T15:08:25.725Z"
   },
   {
    "duration": 2,
    "start_time": "2022-02-16T15:09:58.740Z"
   },
   {
    "duration": 11,
    "start_time": "2022-02-16T15:18:02.354Z"
   },
   {
    "duration": 4,
    "start_time": "2022-02-16T17:21:28.918Z"
   },
   {
    "duration": 21,
    "start_time": "2022-02-16T17:21:35.285Z"
   },
   {
    "duration": 4,
    "start_time": "2022-02-16T17:22:33.794Z"
   },
   {
    "duration": 5,
    "start_time": "2022-02-16T17:22:36.924Z"
   },
   {
    "duration": 7,
    "start_time": "2022-02-16T17:22:43.335Z"
   },
   {
    "duration": 123,
    "start_time": "2022-02-16T17:22:49.106Z"
   },
   {
    "duration": 168,
    "start_time": "2022-02-16T17:22:56.036Z"
   },
   {
    "duration": 8,
    "start_time": "2022-02-16T17:23:06.183Z"
   },
   {
    "duration": 126,
    "start_time": "2022-02-16T17:23:14.862Z"
   },
   {
    "duration": 174,
    "start_time": "2022-02-16T17:23:20.633Z"
   },
   {
    "duration": 7,
    "start_time": "2022-02-16T17:23:41.852Z"
   },
   {
    "duration": 125,
    "start_time": "2022-02-16T17:23:42.609Z"
   },
   {
    "duration": 164,
    "start_time": "2022-02-16T17:23:48.444Z"
   },
   {
    "duration": 8,
    "start_time": "2022-02-16T17:24:07.293Z"
   },
   {
    "duration": 113,
    "start_time": "2022-02-16T17:24:07.865Z"
   },
   {
    "duration": 155,
    "start_time": "2022-02-16T17:24:14.650Z"
   },
   {
    "duration": 8,
    "start_time": "2022-02-16T17:24:24.427Z"
   },
   {
    "duration": 192,
    "start_time": "2022-02-16T17:24:33.932Z"
   },
   {
    "duration": 156,
    "start_time": "2022-02-16T17:24:40.228Z"
   },
   {
    "duration": 8,
    "start_time": "2022-02-16T17:24:52.634Z"
   },
   {
    "duration": 113,
    "start_time": "2022-02-16T17:24:57.162Z"
   },
   {
    "duration": 166,
    "start_time": "2022-02-16T17:25:01.971Z"
   },
   {
    "duration": 300,
    "start_time": "2022-03-07T11:34:43.026Z"
   }
  ],
  "kernelspec": {
   "display_name": "Python 3",
   "language": "python",
   "name": "python3"
  },
  "language_info": {
   "codemirror_mode": {
    "name": "ipython",
    "version": 3
   },
   "file_extension": ".py",
   "mimetype": "text/x-python",
   "name": "python",
   "nbconvert_exporter": "python",
   "pygments_lexer": "ipython3",
   "version": "3.8.3"
  },
  "toc": {
   "base_numbering": 1,
   "nav_menu": {},
   "number_sections": true,
   "sideBar": true,
   "skip_h1_title": true,
   "title_cell": "Contents",
   "title_sidebar": "Contents",
   "toc_cell": true,
   "toc_position": {
    "height": "calc(100% - 180px)",
    "left": "10px",
    "top": "150px",
    "width": "215.391px"
   },
   "toc_section_display": true,
   "toc_window_display": true
  }
 },
 "nbformat": 4,
 "nbformat_minor": 5
}
