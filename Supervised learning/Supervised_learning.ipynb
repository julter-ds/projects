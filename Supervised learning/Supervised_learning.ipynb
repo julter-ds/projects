{
 "cells": [
  {
   "cell_type": "markdown",
   "metadata": {
    "toc": true
   },
   "source": [
    "<h1>Contents<span class=\"tocSkip\"></span></h1>\n",
    "<div class=\"toc\"><ul class=\"toc-item\"><li><span><a href=\"#Data-description\" data-toc-modified-id=\"Data-description-1\"><span class=\"toc-item-num\">1&nbsp;&nbsp;</span>Data description</a></span></li><li><span><a href=\"#Data-preparation\" data-toc-modified-id=\"Data-preparation-2\"><span class=\"toc-item-num\">2&nbsp;&nbsp;</span>Data preparation</a></span><ul class=\"toc-item\"><li><span><a href=\"#Summary\" data-toc-modified-id=\"Summary-2.1\"><span class=\"toc-item-num\">2.1&nbsp;&nbsp;</span>Summary</a></span></li></ul></li><li><span><a href=\"#Task-research\" data-toc-modified-id=\"Task-research-3\"><span class=\"toc-item-num\">3&nbsp;&nbsp;</span>Task research</a></span><ul class=\"toc-item\"><li><span><a href=\"#Balancing-classes\" data-toc-modified-id=\"Balancing-classes-3.1\"><span class=\"toc-item-num\">3.1&nbsp;&nbsp;</span>Balancing classes</a></span></li><li><span><a href=\"#Models-without-balancing\" data-toc-modified-id=\"Models-without-balancing-3.2\"><span class=\"toc-item-num\">3.2&nbsp;&nbsp;</span>Models without balancing</a></span></li><li><span><a href=\"#Summary\" data-toc-modified-id=\"Summary-3.3\"><span class=\"toc-item-num\">3.3&nbsp;&nbsp;</span>Summary</a></span></li></ul></li><li><span><a href=\"#Overcoming-Class-Imbalance\" data-toc-modified-id=\"Overcoming-Class-Imbalance-4\"><span class=\"toc-item-num\">4&nbsp;&nbsp;</span>Overcoming Class Imbalance</a></span><ul class=\"toc-item\"><li><span><a href=\"#Class-weighting\" data-toc-modified-id=\"Class-weighting-4.1\"><span class=\"toc-item-num\">4.1&nbsp;&nbsp;</span>Class weighting</a></span></li><li><span><a href=\"#Upsampling\" data-toc-modified-id=\"Upsampling-4.2\"><span class=\"toc-item-num\">4.2&nbsp;&nbsp;</span>Upsampling</a></span></li><li><span><a href=\"#Downsampling\" data-toc-modified-id=\"Downsampling-4.3\"><span class=\"toc-item-num\">4.3&nbsp;&nbsp;</span>Downsampling</a></span></li><li><span><a href=\"#Summary\" data-toc-modified-id=\"Summary-4.4\"><span class=\"toc-item-num\">4.4&nbsp;&nbsp;</span>Summary</a></span></li></ul></li><li><span><a href=\"#Testing-the-model\" data-toc-modified-id=\"Testing-the-model-5\"><span class=\"toc-item-num\">5&nbsp;&nbsp;</span>Testing the model</a></span><ul class=\"toc-item\"><li><span><a href=\"#Summary\" data-toc-modified-id=\"Summary-5.1\"><span class=\"toc-item-num\">5.1&nbsp;&nbsp;</span>Summary</a></span></li></ul></li><li><span><a href=\"#Feature-importances-bar\" data-toc-modified-id=\"Feature-importances-bar-6\"><span class=\"toc-item-num\">6&nbsp;&nbsp;</span>Feature importances bar</a></span></li><li><span><a href=\"#General-conclusion\" data-toc-modified-id=\"General-conclusion-7\"><span class=\"toc-item-num\">7&nbsp;&nbsp;</span>General conclusion</a></span></li></ul></div>"
   ]
  },
  {
   "cell_type": "markdown",
   "metadata": {},
   "source": [
    "Beta-Bank is losing clients every month. Not many, but it's noticeable. The marketing department has discovered that retaining current customers is cheaper than attracting new ones.\n",
    "\n",
    "It is necessary to predict whether the client will leave the bank shortly or not. The historical data on customer behavior and termination of contracts with the bank is provided.\n",
    "\n",
    "The task is to build a model with an ultimately high value of F1 metric. \n",
    "The project is completed successfully if the metric is higher than 0.59. \n",
    "\n",
    "Data source: [https://www.kaggle.com/barelydedicated/bank-customer-churn-modeling](https://www.kaggle.com/barelydedicated/bank-customer-churn-modeling)"
   ]
  },
  {
   "cell_type": "markdown",
   "metadata": {},
   "source": [
    "## Data description"
   ]
  },
  {
   "cell_type": "markdown",
   "metadata": {},
   "source": [
    "Features\n",
    "- RowNumber — row index\n",
    "- CustomerId — unique customer's identifier\n",
    "- Surname — surname\n",
    "- CreditScore — credit score\n",
    "- Geography — country of residence\n",
    "- Gender — gender\n",
    "- Age — age\n",
    "- Tenure — how many years a person has been a client of the bank\n",
    "- Balance — account balance\n",
    "- NumOfProducts — number of banking products used by the customer\n",
    "- HasCrCard — if the customer has a credit card\n",
    "- IsActiveMember — customer’s activeness\n",
    "- EstimatedSalary — estimated salary"
   ]
  },
  {
   "cell_type": "markdown",
   "metadata": {},
   "source": [
    "Target\n",
    "- Exited — if the customer has left"
   ]
  },
  {
   "cell_type": "markdown",
   "metadata": {},
   "source": [
    "## Data preparation"
   ]
  },
  {
   "cell_type": "code",
   "execution_count": 187,
   "metadata": {},
   "outputs": [],
   "source": [
    "import pandas as pd\n",
    "pd.options.mode.chained_assignment = None  \n",
    "from sklearn.model_selection import train_test_split\n",
    "from sklearn.metrics import f1_score\n",
    "from sklearn.utils import shuffle\n",
    "from sklearn.preprocessing import StandardScaler\n",
    "from sklearn.linear_model import LogisticRegression\n",
    "from sklearn.ensemble import RandomForestClassifier\n",
    "from sklearn.tree import DecisionTreeClassifier\n",
    "import matplotlib.pyplot as plt\n",
    "from sklearn.metrics import roc_curve \n",
    "from sklearn.metrics import roc_auc_score\n",
    "import random\n",
    "from matplotlib import pyplot\n",
    "import numpy as np\n",
    "import sweetviz as sv"
   ]
  },
  {
   "cell_type": "code",
   "execution_count": 188,
   "metadata": {},
   "outputs": [
    {
     "name": "stdout",
     "output_type": "stream",
     "text": [
      "<class 'pandas.core.frame.DataFrame'>\n",
      "RangeIndex: 10000 entries, 0 to 9999\n",
      "Data columns (total 14 columns):\n",
      " #   Column           Non-Null Count  Dtype  \n",
      "---  ------           --------------  -----  \n",
      " 0   RowNumber        10000 non-null  int64  \n",
      " 1   CustomerId       10000 non-null  int64  \n",
      " 2   Surname          10000 non-null  object \n",
      " 3   CreditScore      10000 non-null  int64  \n",
      " 4   Geography        10000 non-null  object \n",
      " 5   Gender           10000 non-null  object \n",
      " 6   Age              10000 non-null  int64  \n",
      " 7   Tenure           9091 non-null   float64\n",
      " 8   Balance          10000 non-null  float64\n",
      " 9   NumOfProducts    10000 non-null  int64  \n",
      " 10  HasCrCard        10000 non-null  int64  \n",
      " 11  IsActiveMember   10000 non-null  int64  \n",
      " 12  EstimatedSalary  10000 non-null  float64\n",
      " 13  Exited           10000 non-null  int64  \n",
      "dtypes: float64(3), int64(8), object(3)\n",
      "memory usage: 1.1+ MB\n"
     ]
    }
   ],
   "source": [
    "data = pd.read_csv('https://code.s3.yandex.net/datasets/Churn.csv')\n",
    "data.info()"
   ]
  },
  {
   "cell_type": "markdown",
   "metadata": {},
   "source": [
    "All data types look correct.\n",
    "There are missing values in the **Tenure** column."
   ]
  },
  {
   "cell_type": "markdown",
   "metadata": {},
   "source": [
    "Missing values report:"
   ]
  },
  {
   "cell_type": "code",
   "execution_count": 189,
   "metadata": {},
   "outputs": [
    {
     "data": {
      "text/html": [
       "<div>\n",
       "<style scoped>\n",
       "    .dataframe tbody tr th:only-of-type {\n",
       "        vertical-align: middle;\n",
       "    }\n",
       "\n",
       "    .dataframe tbody tr th {\n",
       "        vertical-align: top;\n",
       "    }\n",
       "\n",
       "    .dataframe thead th {\n",
       "        text-align: right;\n",
       "    }\n",
       "</style>\n",
       "<table border=\"1\" class=\"dataframe\">\n",
       "  <thead>\n",
       "    <tr style=\"text-align: right;\">\n",
       "      <th></th>\n",
       "      <th>RowNumber</th>\n",
       "      <th>CustomerId</th>\n",
       "      <th>Surname</th>\n",
       "      <th>CreditScore</th>\n",
       "      <th>Geography</th>\n",
       "      <th>Gender</th>\n",
       "      <th>Age</th>\n",
       "      <th>Tenure</th>\n",
       "      <th>Balance</th>\n",
       "      <th>NumOfProducts</th>\n",
       "      <th>HasCrCard</th>\n",
       "      <th>IsActiveMember</th>\n",
       "      <th>EstimatedSalary</th>\n",
       "      <th>Exited</th>\n",
       "    </tr>\n",
       "  </thead>\n",
       "  <tbody>\n",
       "    <tr>\n",
       "      <th>795</th>\n",
       "      <td>796</td>\n",
       "      <td>15686870</td>\n",
       "      <td>Ball</td>\n",
       "      <td>761</td>\n",
       "      <td>Germany</td>\n",
       "      <td>Male</td>\n",
       "      <td>36</td>\n",
       "      <td>NaN</td>\n",
       "      <td>108239.11</td>\n",
       "      <td>2</td>\n",
       "      <td>0</td>\n",
       "      <td>0</td>\n",
       "      <td>99444.02</td>\n",
       "      <td>0</td>\n",
       "    </tr>\n",
       "    <tr>\n",
       "      <th>8280</th>\n",
       "      <td>8281</td>\n",
       "      <td>15745716</td>\n",
       "      <td>McGregor</td>\n",
       "      <td>706</td>\n",
       "      <td>Spain</td>\n",
       "      <td>Male</td>\n",
       "      <td>53</td>\n",
       "      <td>NaN</td>\n",
       "      <td>0.00</td>\n",
       "      <td>2</td>\n",
       "      <td>0</td>\n",
       "      <td>1</td>\n",
       "      <td>117939.17</td>\n",
       "      <td>0</td>\n",
       "    </tr>\n",
       "    <tr>\n",
       "      <th>4141</th>\n",
       "      <td>4142</td>\n",
       "      <td>15790596</td>\n",
       "      <td>Moran</td>\n",
       "      <td>850</td>\n",
       "      <td>Spain</td>\n",
       "      <td>Male</td>\n",
       "      <td>39</td>\n",
       "      <td>NaN</td>\n",
       "      <td>141829.67</td>\n",
       "      <td>1</td>\n",
       "      <td>1</td>\n",
       "      <td>1</td>\n",
       "      <td>92748.16</td>\n",
       "      <td>0</td>\n",
       "    </tr>\n",
       "    <tr>\n",
       "      <th>4350</th>\n",
       "      <td>4351</td>\n",
       "      <td>15754072</td>\n",
       "      <td>Dennis</td>\n",
       "      <td>840</td>\n",
       "      <td>Spain</td>\n",
       "      <td>Female</td>\n",
       "      <td>36</td>\n",
       "      <td>NaN</td>\n",
       "      <td>0.00</td>\n",
       "      <td>2</td>\n",
       "      <td>1</td>\n",
       "      <td>0</td>\n",
       "      <td>141364.27</td>\n",
       "      <td>0</td>\n",
       "    </tr>\n",
       "    <tr>\n",
       "      <th>1628</th>\n",
       "      <td>1629</td>\n",
       "      <td>15810347</td>\n",
       "      <td>Todd</td>\n",
       "      <td>662</td>\n",
       "      <td>Spain</td>\n",
       "      <td>Female</td>\n",
       "      <td>30</td>\n",
       "      <td>NaN</td>\n",
       "      <td>0.00</td>\n",
       "      <td>2</td>\n",
       "      <td>0</td>\n",
       "      <td>1</td>\n",
       "      <td>157884.83</td>\n",
       "      <td>0</td>\n",
       "    </tr>\n",
       "    <tr>\n",
       "      <th>414</th>\n",
       "      <td>415</td>\n",
       "      <td>15810432</td>\n",
       "      <td>Moseley</td>\n",
       "      <td>795</td>\n",
       "      <td>Spain</td>\n",
       "      <td>Male</td>\n",
       "      <td>35</td>\n",
       "      <td>NaN</td>\n",
       "      <td>0.00</td>\n",
       "      <td>2</td>\n",
       "      <td>1</td>\n",
       "      <td>0</td>\n",
       "      <td>167155.36</td>\n",
       "      <td>0</td>\n",
       "    </tr>\n",
       "    <tr>\n",
       "      <th>2659</th>\n",
       "      <td>2660</td>\n",
       "      <td>15679410</td>\n",
       "      <td>Caldwell</td>\n",
       "      <td>729</td>\n",
       "      <td>France</td>\n",
       "      <td>Female</td>\n",
       "      <td>62</td>\n",
       "      <td>NaN</td>\n",
       "      <td>140549.40</td>\n",
       "      <td>1</td>\n",
       "      <td>1</td>\n",
       "      <td>0</td>\n",
       "      <td>30990.16</td>\n",
       "      <td>1</td>\n",
       "    </tr>\n",
       "    <tr>\n",
       "      <th>2779</th>\n",
       "      <td>2780</td>\n",
       "      <td>15781702</td>\n",
       "      <td>Brookes</td>\n",
       "      <td>733</td>\n",
       "      <td>Germany</td>\n",
       "      <td>Male</td>\n",
       "      <td>38</td>\n",
       "      <td>NaN</td>\n",
       "      <td>111347.37</td>\n",
       "      <td>2</td>\n",
       "      <td>0</td>\n",
       "      <td>1</td>\n",
       "      <td>194872.97</td>\n",
       "      <td>0</td>\n",
       "    </tr>\n",
       "    <tr>\n",
       "      <th>2786</th>\n",
       "      <td>2787</td>\n",
       "      <td>15585100</td>\n",
       "      <td>Rioux</td>\n",
       "      <td>511</td>\n",
       "      <td>Germany</td>\n",
       "      <td>Female</td>\n",
       "      <td>40</td>\n",
       "      <td>NaN</td>\n",
       "      <td>124401.60</td>\n",
       "      <td>1</td>\n",
       "      <td>1</td>\n",
       "      <td>0</td>\n",
       "      <td>198814.24</td>\n",
       "      <td>1</td>\n",
       "    </tr>\n",
       "    <tr>\n",
       "      <th>424</th>\n",
       "      <td>425</td>\n",
       "      <td>15566111</td>\n",
       "      <td>Estes</td>\n",
       "      <td>596</td>\n",
       "      <td>France</td>\n",
       "      <td>Male</td>\n",
       "      <td>39</td>\n",
       "      <td>NaN</td>\n",
       "      <td>0.00</td>\n",
       "      <td>1</td>\n",
       "      <td>1</td>\n",
       "      <td>0</td>\n",
       "      <td>48963.59</td>\n",
       "      <td>0</td>\n",
       "    </tr>\n",
       "  </tbody>\n",
       "</table>\n",
       "</div>"
      ],
      "text/plain": [
       "      RowNumber  CustomerId   Surname  CreditScore Geography  Gender  Age  \\\n",
       "795         796    15686870      Ball          761   Germany    Male   36   \n",
       "8280       8281    15745716  McGregor          706     Spain    Male   53   \n",
       "4141       4142    15790596     Moran          850     Spain    Male   39   \n",
       "4350       4351    15754072    Dennis          840     Spain  Female   36   \n",
       "1628       1629    15810347      Todd          662     Spain  Female   30   \n",
       "414         415    15810432   Moseley          795     Spain    Male   35   \n",
       "2659       2660    15679410  Caldwell          729    France  Female   62   \n",
       "2779       2780    15781702   Brookes          733   Germany    Male   38   \n",
       "2786       2787    15585100     Rioux          511   Germany  Female   40   \n",
       "424         425    15566111     Estes          596    France    Male   39   \n",
       "\n",
       "      Tenure    Balance  NumOfProducts  HasCrCard  IsActiveMember  \\\n",
       "795      NaN  108239.11              2          0               0   \n",
       "8280     NaN       0.00              2          0               1   \n",
       "4141     NaN  141829.67              1          1               1   \n",
       "4350     NaN       0.00              2          1               0   \n",
       "1628     NaN       0.00              2          0               1   \n",
       "414      NaN       0.00              2          1               0   \n",
       "2659     NaN  140549.40              1          1               0   \n",
       "2779     NaN  111347.37              2          0               1   \n",
       "2786     NaN  124401.60              1          1               0   \n",
       "424      NaN       0.00              1          1               0   \n",
       "\n",
       "      EstimatedSalary  Exited  \n",
       "795          99444.02       0  \n",
       "8280        117939.17       0  \n",
       "4141         92748.16       0  \n",
       "4350        141364.27       0  \n",
       "1628        157884.83       0  \n",
       "414         167155.36       0  \n",
       "2659         30990.16       1  \n",
       "2779        194872.97       0  \n",
       "2786        198814.24       1  \n",
       "424          48963.59       0  "
      ]
     },
     "execution_count": 189,
     "metadata": {},
     "output_type": "execute_result"
    }
   ],
   "source": [
    "data[data.isna().any(axis=1)].sample(10)"
   ]
  },
  {
   "cell_type": "markdown",
   "metadata": {},
   "source": [
    "Filling the missing values with random number within the column:"
   ]
  },
  {
   "cell_type": "code",
   "execution_count": 192,
   "metadata": {},
   "outputs": [],
   "source": [
    "random.seed(10)\n",
    "data['Tenure'].fillna(random.choice(data['Tenure'][data['Tenure'].notna()]), inplace=True)"
   ]
  },
  {
   "cell_type": "markdown",
   "metadata": {},
   "source": [
    "Dropping the columns which are useless for model learning:"
   ]
  },
  {
   "cell_type": "code",
   "execution_count": 194,
   "metadata": {},
   "outputs": [],
   "source": [
    "data.drop(['RowNumber', 'CustomerId', 'Surname'],axis=1,inplace=True)"
   ]
  },
  {
   "cell_type": "markdown",
   "metadata": {},
   "source": [
    "Replacing the symbols for the gender with the numbers:"
   ]
  },
  {
   "cell_type": "code",
   "execution_count": 195,
   "metadata": {},
   "outputs": [],
   "source": [
    "data['Gender'].replace({'Female':1,'Male':0},inplace=True)"
   ]
  },
  {
   "cell_type": "markdown",
   "metadata": {},
   "source": [
    "\n",
    "One-hot encoding data for the **Geography** column:"
   ]
  },
  {
   "cell_type": "code",
   "execution_count": 196,
   "metadata": {},
   "outputs": [],
   "source": [
    "data_ohe = pd.get_dummies(data, columns=['Geography'])"
   ]
  },
  {
   "cell_type": "markdown",
   "metadata": {},
   "source": [
    "Dividing the sample into training, validation, and test"
   ]
  },
  {
   "cell_type": "code",
   "execution_count": 197,
   "metadata": {},
   "outputs": [],
   "source": [
    "target = data_ohe['Exited']\n",
    "features = data_ohe.drop('Exited', axis=1)\n",
    "\n",
    "features_train, features_rest, target_train, target_rest = train_test_split(\n",
    "    features, target, train_size=0.6, random_state=12345) \n",
    "features_valid, features_test, target_valid, target_test = train_test_split(\n",
    "    features_rest, target_rest, test_size=0.5, random_state=12345) "
   ]
  },
  {
   "cell_type": "markdown",
   "metadata": {},
   "source": [
    "Evaluating samples:"
   ]
  },
  {
   "cell_type": "code",
   "execution_count": 229,
   "metadata": {},
   "outputs": [
    {
     "name": "stdout",
     "output_type": "stream",
     "text": [
      "Training: (6000, 12) Test: (2000, 12) Validation: (2000, 12)\n"
     ]
    }
   ],
   "source": [
    "print('Training:',features_train.shape,\n",
    "      'Test:', features_test.shape,\n",
    "      'Validation:', features_valid.shape)"
   ]
  },
  {
   "cell_type": "markdown",
   "metadata": {},
   "source": [
    "Scaling the numeric values for the learning process:"
   ]
  },
  {
   "cell_type": "code",
   "execution_count": 199,
   "metadata": {},
   "outputs": [],
   "source": [
    "numeric = ['CreditScore', 'Age', 'Tenure', 'Balance','NumOfProducts','EstimatedSalary']\n",
    "scaler = StandardScaler()\n",
    "scaler.fit(features_train[numeric])\n",
    "\n",
    "features_train[numeric] = scaler.transform(features_train[numeric])\n",
    "features_valid[numeric] = scaler.transform(features_valid[numeric])\n",
    "features_test[numeric] = scaler.transform(features_test[numeric])"
   ]
  },
  {
   "cell_type": "markdown",
   "metadata": {},
   "source": [
    "### Summary"
   ]
  },
  {
   "cell_type": "markdown",
   "metadata": {},
   "source": [
    "There are 10000 records in the sample. \n",
    "\n",
    "The missed values were filled with random numbers within the column.\n",
    "\n",
    "Several columns were removed from the sample as they will not be used for the learning process.\n",
    "The **gender** column categorical data was converted to the numerical format.\n",
    "\n",
    "The **country name** column was converted with the One-hot encoding technique.\n",
    "\n",
    "Numeric values were scaled to make it easier to train the model.\n"
   ]
  },
  {
   "cell_type": "markdown",
   "metadata": {},
   "source": [
    "## Task research"
   ]
  },
  {
   "cell_type": "markdown",
   "metadata": {},
   "source": [
    "### Balancing classes"
   ]
  },
  {
   "cell_type": "markdown",
   "metadata": {},
   "source": [
    "Estimating the classes ratio of the target feature within the full sample:"
   ]
  },
  {
   "cell_type": "code",
   "execution_count": 200,
   "metadata": {},
   "outputs": [
    {
     "data": {
      "text/plain": [
       "Exited\n",
       "0    7963\n",
       "1    2037\n",
       "dtype: int64"
      ]
     },
     "execution_count": 200,
     "metadata": {},
     "output_type": "execute_result"
    }
   ],
   "source": [
    "data.value_counts('Exited')"
   ]
  },
  {
   "cell_type": "markdown",
   "metadata": {},
   "source": [
    "The classes are unbalanced and the ratio is 80:20.\n",
    "\n",
    "Building the models without balancing classes:"
   ]
  },
  {
   "cell_type": "markdown",
   "metadata": {},
   "source": [
    "### Models without balancing"
   ]
  },
  {
   "cell_type": "markdown",
   "metadata": {},
   "source": [
    "Logistic Regression:"
   ]
  },
  {
   "cell_type": "code",
   "execution_count": 201,
   "metadata": {},
   "outputs": [
    {
     "name": "stdout",
     "output_type": "stream",
     "text": [
      "F1: 0.33389544688026984\n"
     ]
    }
   ],
   "source": [
    "model = LogisticRegression(random_state=12345, solver='liblinear')\n",
    "model.fit(features_train, target_train)\n",
    "predicted_valid = model.predict(features_valid)\n",
    "\n",
    "print(\"F1:\", f1_score(target_valid, predicted_valid))"
   ]
  },
  {
   "cell_type": "markdown",
   "metadata": {},
   "source": [
    "Decision Tree:"
   ]
  },
  {
   "cell_type": "code",
   "execution_count": 202,
   "metadata": {},
   "outputs": [
    {
     "name": "stdout",
     "output_type": "stream",
     "text": [
      "F1: 0.474251497005988\n"
     ]
    }
   ],
   "source": [
    "model = DecisionTreeClassifier(random_state=12345)\n",
    "model.fit(features_train, target_train)\n",
    "predicted_valid = model.predict(features_valid)\n",
    "\n",
    "print(\"F1:\", f1_score(target_valid, predicted_valid))"
   ]
  },
  {
   "cell_type": "markdown",
   "metadata": {},
   "source": [
    "Searching for the optimal parameters for the Random Forest:"
   ]
  },
  {
   "cell_type": "code",
   "execution_count": 203,
   "metadata": {},
   "outputs": [
    {
     "name": "stdout",
     "output_type": "stream",
     "text": [
      "8\n",
      "80\n"
     ]
    }
   ],
   "source": [
    "best_model_tree = 0\n",
    "best_result = 0\n",
    "best_depth = 0  \n",
    "best_estimator = 0\n",
    "for estimator in range(20, 100, 20):\n",
    "    for depth in range(1, 16, 1):\n",
    "        model = RandomForestClassifier(\n",
    "            n_estimators=estimator, max_depth=depth, random_state=12345)\n",
    "        model.fit(features_train, target_train)\n",
    "        result = model.score(features_valid,target_valid)\n",
    "        if result > best_result:\n",
    "            best_model_tree = model\n",
    "            best_result = result\n",
    "            best_depth = depth    \n",
    "            best_estimator = estimator\n",
    "\n",
    "print(best_depth)\n",
    "print(best_estimator)"
   ]
  },
  {
   "cell_type": "markdown",
   "metadata": {},
   "source": [
    "Training the Random Forest model with optimal parameters:"
   ]
  },
  {
   "cell_type": "code",
   "execution_count": 204,
   "metadata": {},
   "outputs": [
    {
     "name": "stdout",
     "output_type": "stream",
     "text": [
      "F1: 0.5709779179810726\n"
     ]
    }
   ],
   "source": [
    "model = RandomForestClassifier(\n",
    "    n_estimators=80, max_depth=8, random_state=12345)\n",
    "model.fit(features_train, target_train)\n",
    "predicted_valid = model.predict(features_valid)\n",
    "\n",
    "print(\"F1:\", f1_score(target_valid, predicted_valid))"
   ]
  },
  {
   "cell_type": "markdown",
   "metadata": {},
   "source": [
    "Calculating the AUC-ROC metric:"
   ]
  },
  {
   "cell_type": "code",
   "execution_count": 205,
   "metadata": {},
   "outputs": [
    {
     "name": "stdout",
     "output_type": "stream",
     "text": [
      "0.8504028575057919\n"
     ]
    }
   ],
   "source": [
    "probabilities_valid = model.predict_proba(features_valid)\n",
    "probabilities_one_valid = probabilities_valid[:, 1]\n",
    "auc_roc=roc_auc_score(target_valid, probabilities_one_valid)\n",
    "print(auc_roc)"
   ]
  },
  {
   "cell_type": "markdown",
   "metadata": {},
   "source": [
    "### Summary"
   ]
  },
  {
   "cell_type": "markdown",
   "metadata": {},
   "source": [
    "Class balance was assessed in the sample. It's ratio is 80:20.\n",
    "\n",
    "F-value was calculated for three models - logistic regression, decision tree, and random forest. \n",
    "\n",
    "The optimal parameters were searched for the random forest model.\n",
    "The F-value metric for this model is equal 0.570, which is very close to the target value.\n",
    "AUC-ROC = 0.850"
   ]
  },
  {
   "cell_type": "markdown",
   "metadata": {},
   "source": [
    "## Overcoming Class Imbalance"
   ]
  },
  {
   "cell_type": "markdown",
   "metadata": {},
   "source": [
    "### Class weighting"
   ]
  },
  {
   "cell_type": "markdown",
   "metadata": {},
   "source": [
    "Using class_weight='balanced' parameter for the unbalanced class:\n",
    "\n",
    "Logistic regression:"
   ]
  },
  {
   "cell_type": "code",
   "execution_count": 206,
   "metadata": {},
   "outputs": [
    {
     "name": "stdout",
     "output_type": "stream",
     "text": [
      "F1: 0.48676345004269855\n"
     ]
    }
   ],
   "source": [
    "model = LogisticRegression(\n",
    "    random_state=12345, solver='liblinear', class_weight='balanced')\n",
    "model.fit(features_train, target_train)\n",
    "predicted_valid = model.predict(features_valid)\n",
    "\n",
    "print(\"F1:\", f1_score(target_valid, predicted_valid))"
   ]
  },
  {
   "cell_type": "markdown",
   "metadata": {},
   "source": [
    "Decision Tree:"
   ]
  },
  {
   "cell_type": "code",
   "execution_count": 207,
   "metadata": {},
   "outputs": [
    {
     "name": "stdout",
     "output_type": "stream",
     "text": [
      "F1: 0.49101796407185627\n"
     ]
    }
   ],
   "source": [
    "model = DecisionTreeClassifier(\n",
    "    random_state=12345, class_weight='balanced')\n",
    "model.fit(features_train, target_train)\n",
    "predicted_valid = model.predict(features_valid)\n",
    "\n",
    "print(\"F1:\", f1_score(target_valid, predicted_valid))"
   ]
  },
  {
   "cell_type": "markdown",
   "metadata": {},
   "source": [
    "Random Forest:"
   ]
  },
  {
   "cell_type": "code",
   "execution_count": 208,
   "metadata": {},
   "outputs": [
    {
     "name": "stdout",
     "output_type": "stream",
     "text": [
      "15\n",
      "80\n"
     ]
    }
   ],
   "source": [
    "best_model_tree = 0\n",
    "best_result = 0\n",
    "best_depth = 0  \n",
    "best_estimator = 0\n",
    "for estimator in range(20, 100, 20):\n",
    "    for depth in range(1, 16, 1):\n",
    "        model = RandomForestClassifier(\n",
    "            n_estimators=estimator, max_depth=depth, random_state=12345, class_weight='balanced')\n",
    "        model.fit(features_train, target_train)\n",
    "        result = model.score(features_valid,target_valid)\n",
    "        if result > best_result:\n",
    "            best_model_tree = model\n",
    "            best_result = result\n",
    "            best_depth = depth    \n",
    "            best_estimator = estimator\n",
    "\n",
    "print(best_depth)\n",
    "print(best_estimator)"
   ]
  },
  {
   "cell_type": "markdown",
   "metadata": {},
   "source": [
    "Evaluating the quality of the model with the obtained parameters:"
   ]
  },
  {
   "cell_type": "code",
   "execution_count": 209,
   "metadata": {},
   "outputs": [
    {
     "name": "stdout",
     "output_type": "stream",
     "text": [
      "F1: 0.5865102639296187\n"
     ]
    }
   ],
   "source": [
    "model = RandomForestClassifier(\n",
    "    n_estimators=80, max_depth=15, random_state=12345, class_weight='balanced')\n",
    "\n",
    "model.fit(features_train, target_train)\n",
    "predicted_valid = model.predict(features_valid)\n",
    "\n",
    "print(\"F1:\", f1_score(target_valid, predicted_valid))"
   ]
  },
  {
   "cell_type": "markdown",
   "metadata": {},
   "source": [
    "Calculating AUC-ROC metric:"
   ]
  },
  {
   "cell_type": "code",
   "execution_count": 210,
   "metadata": {},
   "outputs": [
    {
     "name": "stdout",
     "output_type": "stream",
     "text": [
      "0.8380713953024155\n"
     ]
    }
   ],
   "source": [
    "probabilities_valid = model.predict_proba(features_valid)\n",
    "probabilities_one_valid = probabilities_valid[:, 1]\n",
    "auc_roc=roc_auc_score(target_valid, probabilities_one_valid)\n",
    "print(auc_roc)"
   ]
  },
  {
   "cell_type": "markdown",
   "metadata": {},
   "source": [
    "### Upsampling"
   ]
  },
  {
   "cell_type": "markdown",
   "metadata": {},
   "source": [
    "Using upsampling technique for the sample to simplify model training.\n",
    "\n",
    "Creating a function:"
   ]
  },
  {
   "cell_type": "code",
   "execution_count": 211,
   "metadata": {},
   "outputs": [],
   "source": [
    "def upsample(features, target, repeat):\n",
    "    features_zeros = features[target == 0]\n",
    "    features_ones = features[target == 1]\n",
    "    target_zeros = target[target == 0]\n",
    "    target_ones = target[target == 1]\n",
    "\n",
    "    features_upsampled = pd.concat([features_zeros] + [features_ones] * repeat)\n",
    "    target_upsampled = pd.concat([target_zeros] + [target_ones] * repeat)\n",
    "    \n",
    "    features_upsampled, target_upsampled = shuffle(\n",
    "        features_upsampled, target_upsampled, random_state=12345)\n",
    "    \n",
    "    return features_upsampled, target_upsampled"
   ]
  },
  {
   "cell_type": "code",
   "execution_count": 212,
   "metadata": {},
   "outputs": [],
   "source": [
    "features_upsampled, target_upsampled = upsample(features_train, target_train, 4)"
   ]
  },
  {
   "cell_type": "markdown",
   "metadata": {},
   "source": [
    "Training the logistic regression model on upsampled data:"
   ]
  },
  {
   "cell_type": "code",
   "execution_count": 213,
   "metadata": {},
   "outputs": [
    {
     "name": "stdout",
     "output_type": "stream",
     "text": [
      "F1: 0.488013698630137\n"
     ]
    }
   ],
   "source": [
    "model = LogisticRegression(random_state=12345, solver='liblinear')\n",
    "model.fit(features_upsampled, target_upsampled)\n",
    "predicted_valid = model.predict(features_valid)\n",
    "\n",
    "print(\"F1:\", f1_score(target_valid, predicted_valid))"
   ]
  },
  {
   "cell_type": "markdown",
   "metadata": {},
   "source": [
    "Training the decision tree model:"
   ]
  },
  {
   "cell_type": "code",
   "execution_count": 214,
   "metadata": {},
   "outputs": [
    {
     "name": "stdout",
     "output_type": "stream",
     "text": [
      "F1: 0.48441247002398086\n"
     ]
    }
   ],
   "source": [
    "model = DecisionTreeClassifier(random_state=12345)\n",
    "model.fit(features_upsampled, target_upsampled)\n",
    "predicted_valid = model.predict(features_valid)\n",
    "\n",
    "print(\"F1:\", f1_score(target_valid, predicted_valid))"
   ]
  },
  {
   "cell_type": "markdown",
   "metadata": {},
   "source": [
    "Searching for optimal parameters for the random tree model:"
   ]
  },
  {
   "cell_type": "code",
   "execution_count": 215,
   "metadata": {},
   "outputs": [
    {
     "name": "stdout",
     "output_type": "stream",
     "text": [
      "15\n",
      "40\n"
     ]
    }
   ],
   "source": [
    "best_model_tree = 0\n",
    "best_result = 0\n",
    "best_depth = 0  \n",
    "best_estimator = 0\n",
    "for estimator in range(20, 100, 20):\n",
    "    for depth in range(1, 16, 1):\n",
    "        model = RandomForestClassifier(\n",
    "            n_estimators=estimator, max_depth=depth, random_state=12345)\n",
    "        model.fit(features_upsampled, target_upsampled)\n",
    "        result = model.score(features_valid,target_valid)\n",
    "        if result > best_result:\n",
    "            best_model_tree = model\n",
    "            best_result = result\n",
    "            best_depth = depth    \n",
    "            best_estimator = estimator\n",
    "\n",
    "print(best_depth)\n",
    "print(best_estimator)"
   ]
  },
  {
   "cell_type": "markdown",
   "metadata": {},
   "source": [
    "Training the model with optimal parameters:"
   ]
  },
  {
   "cell_type": "code",
   "execution_count": 216,
   "metadata": {},
   "outputs": [
    {
     "name": "stdout",
     "output_type": "stream",
     "text": [
      "F1: 0.6144121365360304\n"
     ]
    }
   ],
   "source": [
    "model = RandomForestClassifier(\n",
    "    n_estimators=40, max_depth=15, random_state=12345)\n",
    "model.fit(features_upsampled, target_upsampled)\n",
    "predicted_valid = model.predict(features_valid)\n",
    "\n",
    "print(\"F1:\", f1_score(target_valid, predicted_valid))"
   ]
  },
  {
   "cell_type": "markdown",
   "metadata": {},
   "source": [
    "Calculating AUC-ROC metric:"
   ]
  },
  {
   "cell_type": "code",
   "execution_count": 217,
   "metadata": {},
   "outputs": [
    {
     "name": "stdout",
     "output_type": "stream",
     "text": [
      "0.8337040812005879\n"
     ]
    }
   ],
   "source": [
    "probabilities_valid = model.predict_proba(features_valid)\n",
    "probabilities_one_valid = probabilities_valid[:, 1]\n",
    "auc_roc=roc_auc_score(target_valid, probabilities_one_valid)\n",
    "print(auc_roc)"
   ]
  },
  {
   "cell_type": "markdown",
   "metadata": {},
   "source": [
    "### Downsampling"
   ]
  },
  {
   "cell_type": "markdown",
   "metadata": {},
   "source": [
    "Using the downsampling technique and evaluating the result:"
   ]
  },
  {
   "cell_type": "code",
   "execution_count": 218,
   "metadata": {},
   "outputs": [],
   "source": [
    "def downsample(features, target, fraction):\n",
    "    features_zeros = features[target == 0]\n",
    "    features_ones = features[target == 1]\n",
    "    target_zeros = target[target == 0]\n",
    "    target_ones = target[target == 1]\n",
    "\n",
    "    features_downsampled = pd.concat(\n",
    "        [features_zeros.sample(frac=fraction, random_state=12345)] + [features_ones])\n",
    "    target_downsampled = pd.concat(\n",
    "        [target_zeros.sample(frac=fraction, random_state=12345)] + [target_ones])\n",
    "    \n",
    "    features_downsampled, target_downsampled = shuffle(\n",
    "        features_downsampled, target_downsampled, random_state=12345)\n",
    "    \n",
    "    return features_downsampled, target_downsampled\n",
    "\n",
    "features_downsampled, target_downsampled = downsample(features_train, target_train, 0.25)"
   ]
  },
  {
   "cell_type": "markdown",
   "metadata": {},
   "source": [
    "Training the logistic regression model on downsampled data:"
   ]
  },
  {
   "cell_type": "code",
   "execution_count": 219,
   "metadata": {},
   "outputs": [
    {
     "name": "stdout",
     "output_type": "stream",
     "text": [
      "F1: 0.48096885813148793\n"
     ]
    }
   ],
   "source": [
    "model = LogisticRegression(random_state=12345, solver='liblinear')\n",
    "model.fit(features_downsampled, target_downsampled)\n",
    "predicted_valid = model.predict(features_valid)\n",
    "\n",
    "print(\"F1:\", f1_score(target_valid, predicted_valid))"
   ]
  },
  {
   "cell_type": "markdown",
   "metadata": {},
   "source": [
    "Training the decision tree model on downsampled data:"
   ]
  },
  {
   "cell_type": "code",
   "execution_count": 220,
   "metadata": {},
   "outputs": [
    {
     "name": "stdout",
     "output_type": "stream",
     "text": [
      "F1: 0.49280270956816263\n"
     ]
    }
   ],
   "source": [
    "model = DecisionTreeClassifier(random_state=12345)\n",
    "model.fit(features_downsampled, target_downsampled)\n",
    "predicted_valid = model.predict(features_valid)\n",
    "\n",
    "print(\"F1:\", f1_score(target_valid, predicted_valid))"
   ]
  },
  {
   "cell_type": "markdown",
   "metadata": {},
   "source": [
    "Searching for optimal parameters for the random forest model on downsampled data:"
   ]
  },
  {
   "cell_type": "code",
   "execution_count": 221,
   "metadata": {},
   "outputs": [
    {
     "name": "stdout",
     "output_type": "stream",
     "text": [
      "7\n",
      "60\n"
     ]
    }
   ],
   "source": [
    "best_model_tree = 0\n",
    "best_result = 0\n",
    "best_depth = 0  \n",
    "best_estimator = 0\n",
    "for estimator in range(20, 100, 20):\n",
    "    for depth in range(1, 16, 1):\n",
    "        model = RandomForestClassifier(\n",
    "            n_estimators=estimator, max_depth=depth, random_state=12345)\n",
    "        model.fit(features_downsampled, target_downsampled)\n",
    "        result = model.score(features_valid,target_valid)\n",
    "        if result > best_result:\n",
    "            best_model_tree = model\n",
    "            best_result = result\n",
    "            best_depth = depth    \n",
    "            best_estimator = estimator\n",
    "\n",
    "print(best_depth)\n",
    "print(best_estimator)"
   ]
  },
  {
   "cell_type": "markdown",
   "metadata": {},
   "source": [
    "Training the model with optimal parameters and evaluating the result:"
   ]
  },
  {
   "cell_type": "code",
   "execution_count": 222,
   "metadata": {},
   "outputs": [
    {
     "name": "stdout",
     "output_type": "stream",
     "text": [
      "F1: 0.5888030888030888\n"
     ]
    }
   ],
   "source": [
    "model = RandomForestClassifier(n_estimators=60, max_depth=7, random_state=12345)\n",
    "model.fit(features_downsampled, target_downsampled)\n",
    "predicted_valid = model.predict(features_valid)\n",
    "print(\"F1:\", f1_score(target_valid, predicted_valid))"
   ]
  },
  {
   "cell_type": "markdown",
   "metadata": {},
   "source": [
    "Calculating the AUC-ROC metric:"
   ]
  },
  {
   "cell_type": "code",
   "execution_count": 223,
   "metadata": {},
   "outputs": [
    {
     "name": "stdout",
     "output_type": "stream",
     "text": [
      "0.8453338696701529\n"
     ]
    }
   ],
   "source": [
    "probabilities_valid = model.predict_proba(features_valid)\n",
    "probabilities_one_valid = probabilities_valid[:, 1]\n",
    "auc_roc=roc_auc_score(target_valid, probabilities_one_valid)\n",
    "print(auc_roc)"
   ]
  },
  {
   "cell_type": "markdown",
   "metadata": {},
   "source": [
    "### Summary"
   ]
  },
  {
   "cell_type": "markdown",
   "metadata": {},
   "source": [
    "Three methods were applied to combat the imbalance: the class weighting parameter, upsampling, and downsampling techniques. \n",
    "\n",
    "Three models were trained: logistic regression, decision tree, and random forest with optimal parameters.\n",
    "\n",
    "The random forest model with optimal parameters showed the required result in all three cases.\n",
    "\n",
    "The model showed the best result on upsampled data: F-value is equal to 0.614. This result corresponds with the desired quality criteria of the model.\n",
    "\n",
    "The remaining models did not show the corresponding result.\n",
    "\n",
    "The AUC-ROC metric for the random forest model was calculated. \n",
    "It is approximately equal to 0.84. \n",
    "The random forest model has the highest AUC-ROC value on downsampled data."
   ]
  },
  {
   "cell_type": "markdown",
   "metadata": {},
   "source": [
    "## Testing the model"
   ]
  },
  {
   "cell_type": "markdown",
   "metadata": {},
   "source": [
    "Validating the model quality on a test sample:"
   ]
  },
  {
   "cell_type": "code",
   "execution_count": 224,
   "metadata": {},
   "outputs": [
    {
     "name": "stdout",
     "output_type": "stream",
     "text": [
      "F1: 0.6000000000000001\n"
     ]
    }
   ],
   "source": [
    "model = RandomForestClassifier(\n",
    "    n_estimators=40, max_depth=14, random_state=12345)\n",
    "model.fit(features_upsampled, target_upsampled)\n",
    "predicted_test = model.predict(features_test)\n",
    "\n",
    "print(\"F1:\", f1_score(target_test, predicted_test))"
   ]
  },
  {
   "cell_type": "markdown",
   "metadata": {},
   "source": [
    "The model meets the stated quality criteria on a test sample."
   ]
  },
  {
   "cell_type": "markdown",
   "metadata": {},
   "source": [
    "Visualizing the quality of the model by building a ROC curve:"
   ]
  },
  {
   "cell_type": "code",
   "execution_count": 225,
   "metadata": {},
   "outputs": [],
   "source": [
    "probabilities_test = model.predict_proba(features_test)\n",
    "probabilities_one_test = probabilities_test[:, 1]"
   ]
  },
  {
   "cell_type": "code",
   "execution_count": 226,
   "metadata": {},
   "outputs": [
    {
     "data": {
      "image/png": "[encoded data removed]",
      "text/plain": [
       "<Figure size 432x288 with 1 Axes>"
      ]
     },
     "metadata": {
      "needs_background": "light"
     },
     "output_type": "display_data"
    }
   ],
   "source": [
    "fpr, tpr, thresholds = roc_curve(target_test, probabilities_one_test)\n",
    "\n",
    "plt.figure()\n",
    "plt.plot(fpr, tpr)\n",
    "plt.plot([0, 1], [0, 1], linestyle='--')\n",
    "plt.xlim([0, 1]) \n",
    "plt.ylim([0, 1])\n",
    "plt.xlabel('False Positive Rate')\n",
    "plt.ylabel('True Positive Rate')\n",
    "plt.title('ROC-кривая')\n",
    "plt.show()"
   ]
  },
  {
   "cell_type": "markdown",
   "metadata": {},
   "source": [
    "The curve confirms the quality of the model.\n",
    "\n",
    "Calculating the AUC-ROC metric:"
   ]
  },
  {
   "cell_type": "code",
   "execution_count": 227,
   "metadata": {},
   "outputs": [
    {
     "name": "stdout",
     "output_type": "stream",
     "text": [
      "0.8486555404147385\n"
     ]
    }
   ],
   "source": [
    "auc_roc=roc_auc_score(target_test, probabilities_one_test)\n",
    "print(auc_roc)"
   ]
  },
  {
   "cell_type": "markdown",
   "metadata": {},
   "source": [
    "### Summary"
   ]
  },
  {
   "cell_type": "markdown",
   "metadata": {},
   "source": [
    "The chosen model has been tested. \n",
    "The F-value is equal to 0.599 on a test sample, which corresponds to the required quality criteria.\n",
    "\n",
    "A ROC curve was also built and the AUC-ROC metric was calculated for the model. AUC-ROC is equal to 0.834."
   ]
  },
  {
   "cell_type": "markdown",
   "metadata": {},
   "source": [
    "## Feature importances bar"
   ]
  },
  {
   "cell_type": "code",
   "execution_count": 228,
   "metadata": {},
   "outputs": [
    {
     "data": {
      "image/png": "[encoded data removed]",
      "text/plain": [
       "<Figure size 432x288 with 1 Axes>"
      ]
     },
     "metadata": {
      "needs_background": "light"
     },
     "output_type": "display_data"
    }
   ],
   "source": [
    "importances = model.feature_importances_\n",
    "indices = np.argsort(importances)\n",
    "\n",
    "fig, ax = plt.subplots()\n",
    "ax.barh(range(len(importances)), importances[indices])\n",
    "ax.set_yticks(range(len(importances)))\n",
    "_ = ax.set_yticklabels(np.array(features_train.columns)[indices])"
   ]
  },
  {
   "cell_type": "markdown",
   "metadata": {},
   "source": [
    "As we can see from the bar, the most important factor is the client's age.\n",
    "\n",
    "It is twice as important as the balance, the number of products used, the credit score, and the approximate salary."
   ]
  },
  {
   "cell_type": "markdown",
   "metadata": {},
   "source": [
    "## General conclusion"
   ]
  },
  {
   "cell_type": "markdown",
   "metadata": {},
   "source": [
    "- The data was prepared: the gaps were filled in, extra columns were removed, the text values were encoded, and the numeric values were scaled. \n",
    "\n",
    "\n",
    "- Three models were built for the original sample: logistic regression, decision tree, and random forest. None of them gave the required F-value\n",
    "\n",
    "\n",
    "- Three methods were used to combat the imbalance: the class weighting parameter and the downsampling and upsampling techniques. The optimal model parameters were searched for the Random tree model. \n",
    "\n",
    "\n",
    "- Combined with an upsampling technique, this model had the highest F-value = 0.62. On a test sample, the selected model has an F-value=0.599. It corresponds to the required quality criteria.\n",
    "\n",
    "\n",
    "- The AUC-ROC metric is equal to 0.835, which is very close to 1. It confirms the quality of the chosen model.\n",
    "\n",
    "\n",
    "- Of all factors, age is the most important for model training, followed by balance, number of products used, credit score, and salary.\n"
   ]
  }
 ],
 "metadata": {
  "ExecuteTimeLog": [
   {
    "duration": 1230,
    "start_time": "2022-03-28T06:48:30.823Z"
   },
   {
    "duration": 555,
    "start_time": "2022-03-28T06:48:32.055Z"
   },
   {
    "duration": 3973,
    "start_time": "2022-03-28T06:50:35.660Z"
   },
   {
    "duration": 186,
    "start_time": "2022-03-28T06:50:56.468Z"
   },
   {
    "duration": 121,
    "start_time": "2022-03-28T06:51:05.201Z"
   },
   {
    "duration": 23,
    "start_time": "2022-03-28T06:51:55.258Z"
   },
   {
    "duration": 19,
    "start_time": "2022-03-28T06:52:31.237Z"
   },
   {
    "duration": 5,
    "start_time": "2022-03-28T06:53:50.170Z"
   },
   {
    "duration": 13,
    "start_time": "2022-03-28T06:54:01.154Z"
   },
   {
    "duration": 219,
    "start_time": "2022-03-28T06:56:57.715Z"
   },
   {
    "duration": 10,
    "start_time": "2022-03-28T06:57:01.987Z"
   },
   {
    "duration": 4,
    "start_time": "2022-03-28T06:57:15.800Z"
   },
   {
    "duration": 14,
    "start_time": "2022-03-28T06:57:20.528Z"
   },
   {
    "duration": 13,
    "start_time": "2022-03-28T06:57:25.700Z"
   },
   {
    "duration": 15,
    "start_time": "2022-03-28T06:57:36.247Z"
   },
   {
    "duration": 14,
    "start_time": "2022-03-28T06:57:40.300Z"
   },
   {
    "duration": 4,
    "start_time": "2022-03-28T06:57:50.869Z"
   },
   {
    "duration": 14,
    "start_time": "2022-03-28T06:57:52.520Z"
   },
   {
    "duration": 14,
    "start_time": "2022-03-28T06:59:34.969Z"
   },
   {
    "duration": 2,
    "start_time": "2022-03-28T06:59:45.872Z"
   },
   {
    "duration": 143,
    "start_time": "2022-03-28T06:59:45.876Z"
   },
   {
    "duration": 15,
    "start_time": "2022-03-28T06:59:46.021Z"
   },
   {
    "duration": 22,
    "start_time": "2022-03-28T06:59:46.039Z"
   },
   {
    "duration": 4,
    "start_time": "2022-03-28T06:59:46.063Z"
   },
   {
    "duration": 8,
    "start_time": "2022-03-28T06:59:46.069Z"
   },
   {
    "duration": 17,
    "start_time": "2022-03-28T06:59:46.079Z"
   },
   {
    "duration": 2897,
    "start_time": "2022-03-28T06:59:46.097Z"
   },
   {
    "duration": 3,
    "start_time": "2022-03-28T07:00:03.277Z"
   },
   {
    "duration": 116,
    "start_time": "2022-03-28T07:00:03.730Z"
   },
   {
    "duration": 17,
    "start_time": "2022-03-28T07:00:04.577Z"
   },
   {
    "duration": 24,
    "start_time": "2022-03-28T07:00:08.433Z"
   },
   {
    "duration": 3,
    "start_time": "2022-03-28T07:00:11.310Z"
   },
   {
    "duration": 5,
    "start_time": "2022-03-28T07:00:12.602Z"
   },
   {
    "duration": 21,
    "start_time": "2022-03-28T07:00:13.065Z"
   },
   {
    "duration": 13,
    "start_time": "2022-03-28T07:00:29.102Z"
   },
   {
    "duration": 3,
    "start_time": "2022-03-28T07:00:29.649Z"
   },
   {
    "duration": 3,
    "start_time": "2022-03-28T07:00:40.087Z"
   },
   {
    "duration": 144,
    "start_time": "2022-03-28T07:00:40.092Z"
   },
   {
    "duration": 15,
    "start_time": "2022-03-28T07:00:40.238Z"
   },
   {
    "duration": 8,
    "start_time": "2022-03-28T07:00:40.255Z"
   },
   {
    "duration": 12,
    "start_time": "2022-03-28T07:00:40.266Z"
   },
   {
    "duration": 15,
    "start_time": "2022-03-28T07:00:40.280Z"
   },
   {
    "duration": 22,
    "start_time": "2022-03-28T07:00:40.297Z"
   },
   {
    "duration": 2686,
    "start_time": "2022-03-28T07:00:40.322Z"
   },
   {
    "duration": 4,
    "start_time": "2022-03-28T07:05:23.890Z"
   },
   {
    "duration": 14,
    "start_time": "2022-03-28T07:05:27.225Z"
   },
   {
    "duration": 4,
    "start_time": "2022-03-28T07:05:40.496Z"
   },
   {
    "duration": 14,
    "start_time": "2022-03-28T07:05:41.088Z"
   },
   {
    "duration": 2945,
    "start_time": "2022-03-28T07:13:43.872Z"
   },
   {
    "duration": 3,
    "start_time": "2022-03-28T07:13:51.509Z"
   },
   {
    "duration": 124,
    "start_time": "2022-03-28T07:13:51.514Z"
   },
   {
    "duration": 17,
    "start_time": "2022-03-28T07:13:51.641Z"
   },
   {
    "duration": 13,
    "start_time": "2022-03-28T07:13:51.660Z"
   },
   {
    "duration": 10,
    "start_time": "2022-03-28T07:13:51.675Z"
   },
   {
    "duration": 46,
    "start_time": "2022-03-28T07:13:51.687Z"
   },
   {
    "duration": 8,
    "start_time": "2022-03-28T07:17:11.634Z"
   },
   {
    "duration": 9,
    "start_time": "2022-03-28T07:17:23.636Z"
   },
   {
    "duration": 10,
    "start_time": "2022-03-28T07:19:42.875Z"
   },
   {
    "duration": 7,
    "start_time": "2022-03-28T07:19:49.944Z"
   },
   {
    "duration": 3,
    "start_time": "2022-03-28T07:20:13.292Z"
   },
   {
    "duration": 4,
    "start_time": "2022-03-28T07:20:22.666Z"
   },
   {
    "duration": 3132,
    "start_time": "2022-03-28T07:22:21.281Z"
   },
   {
    "duration": 343,
    "start_time": "2022-03-28T07:22:36.039Z"
   },
   {
    "duration": 4,
    "start_time": "2022-03-28T07:22:37.876Z"
   },
   {
    "duration": 18,
    "start_time": "2022-03-28T07:23:44.936Z"
   },
   {
    "duration": 2446,
    "start_time": "2022-03-28T07:24:12.835Z"
   },
   {
    "duration": 3,
    "start_time": "2022-03-28T07:24:25.896Z"
   },
   {
    "duration": 130,
    "start_time": "2022-03-28T07:24:25.902Z"
   },
   {
    "duration": 17,
    "start_time": "2022-03-28T07:24:26.034Z"
   },
   {
    "duration": 7,
    "start_time": "2022-03-28T07:24:26.054Z"
   },
   {
    "duration": 9,
    "start_time": "2022-03-28T07:24:26.063Z"
   },
   {
    "duration": 2162,
    "start_time": "2022-03-28T07:24:26.074Z"
   },
   {
    "duration": 0,
    "start_time": "2022-03-28T07:24:28.237Z"
   },
   {
    "duration": 0,
    "start_time": "2022-03-28T07:24:28.238Z"
   },
   {
    "duration": 0,
    "start_time": "2022-03-28T07:24:28.239Z"
   },
   {
    "duration": 2197,
    "start_time": "2022-03-28T07:25:09.512Z"
   },
   {
    "duration": 3,
    "start_time": "2022-03-28T07:25:52.273Z"
   },
   {
    "duration": 126,
    "start_time": "2022-03-28T07:25:52.278Z"
   },
   {
    "duration": 15,
    "start_time": "2022-03-28T07:25:52.406Z"
   },
   {
    "duration": 10,
    "start_time": "2022-03-28T07:25:52.423Z"
   },
   {
    "duration": 10,
    "start_time": "2022-03-28T07:25:52.436Z"
   },
   {
    "duration": 2021,
    "start_time": "2022-03-28T07:25:52.447Z"
   },
   {
    "duration": 0,
    "start_time": "2022-03-28T07:25:54.470Z"
   },
   {
    "duration": 0,
    "start_time": "2022-03-28T07:25:54.472Z"
   },
   {
    "duration": 0,
    "start_time": "2022-03-28T07:25:54.473Z"
   },
   {
    "duration": 8,
    "start_time": "2022-03-28T07:26:28.996Z"
   },
   {
    "duration": 10,
    "start_time": "2022-03-28T07:32:07.396Z"
   },
   {
    "duration": 11,
    "start_time": "2022-03-28T07:32:18.261Z"
   },
   {
    "duration": 2933,
    "start_time": "2022-03-28T07:32:28.783Z"
   },
   {
    "duration": 27,
    "start_time": "2022-03-28T07:32:50.077Z"
   },
   {
    "duration": 214,
    "start_time": "2022-03-28T07:34:10.062Z"
   },
   {
    "duration": 240,
    "start_time": "2022-03-28T07:34:14.812Z"
   },
   {
    "duration": 12,
    "start_time": "2022-03-28T07:37:12.772Z"
   },
   {
    "duration": 5,
    "start_time": "2022-03-28T07:37:14.197Z"
   },
   {
    "duration": 3,
    "start_time": "2022-03-28T07:38:34.440Z"
   },
   {
    "duration": 12,
    "start_time": "2022-03-28T07:46:10.099Z"
   },
   {
    "duration": 9,
    "start_time": "2022-03-28T07:46:21.271Z"
   },
   {
    "duration": 12,
    "start_time": "2022-03-28T07:46:22.220Z"
   },
   {
    "duration": 3,
    "start_time": "2022-03-28T07:46:40.068Z"
   },
   {
    "duration": 114,
    "start_time": "2022-03-28T07:46:40.704Z"
   },
   {
    "duration": 18,
    "start_time": "2022-03-28T07:46:40.862Z"
   },
   {
    "duration": 4,
    "start_time": "2022-03-28T07:46:41.027Z"
   },
   {
    "duration": 7,
    "start_time": "2022-03-28T07:46:41.190Z"
   },
   {
    "duration": 11,
    "start_time": "2022-03-28T07:46:41.339Z"
   },
   {
    "duration": 4,
    "start_time": "2022-03-28T07:46:41.456Z"
   },
   {
    "duration": 46,
    "start_time": "2022-03-28T07:46:41.797Z"
   },
   {
    "duration": 14,
    "start_time": "2022-03-28T07:46:41.983Z"
   },
   {
    "duration": 47,
    "start_time": "2022-03-28T07:47:21.868Z"
   },
   {
    "duration": 19,
    "start_time": "2022-03-28T07:47:22.914Z"
   },
   {
    "duration": 10,
    "start_time": "2022-03-28T07:47:29.980Z"
   },
   {
    "duration": 4,
    "start_time": "2022-03-28T07:47:30.508Z"
   },
   {
    "duration": 47,
    "start_time": "2022-03-28T07:47:32.481Z"
   },
   {
    "duration": 39,
    "start_time": "2022-03-28T07:48:30.066Z"
   },
   {
    "duration": 35,
    "start_time": "2022-03-28T07:48:35.743Z"
   },
   {
    "duration": 13,
    "start_time": "2022-03-28T07:48:42.423Z"
   },
   {
    "duration": 34,
    "start_time": "2022-03-28T07:52:59.741Z"
   },
   {
    "duration": 11,
    "start_time": "2022-03-28T07:53:09.730Z"
   },
   {
    "duration": 5,
    "start_time": "2022-03-28T07:53:10.055Z"
   },
   {
    "duration": 38,
    "start_time": "2022-03-28T07:53:10.740Z"
   },
   {
    "duration": 34,
    "start_time": "2022-03-28T07:53:30.310Z"
   },
   {
    "duration": 3,
    "start_time": "2022-03-28T07:56:35.789Z"
   },
   {
    "duration": 219,
    "start_time": "2022-03-28T07:56:36.259Z"
   },
   {
    "duration": 16,
    "start_time": "2022-03-28T07:56:36.480Z"
   },
   {
    "duration": 4,
    "start_time": "2022-03-28T07:56:36.610Z"
   },
   {
    "duration": 6,
    "start_time": "2022-03-28T07:56:36.787Z"
   },
   {
    "duration": 11,
    "start_time": "2022-03-28T07:56:36.920Z"
   },
   {
    "duration": 4,
    "start_time": "2022-03-28T07:56:37.327Z"
   },
   {
    "duration": 34,
    "start_time": "2022-03-28T07:56:37.713Z"
   },
   {
    "duration": 10,
    "start_time": "2022-03-28T07:56:48.022Z"
   },
   {
    "duration": 4,
    "start_time": "2022-03-28T07:56:48.491Z"
   },
   {
    "duration": 34,
    "start_time": "2022-03-28T07:56:48.697Z"
   },
   {
    "duration": 12,
    "start_time": "2022-03-28T07:56:52.600Z"
   },
   {
    "duration": 10,
    "start_time": "2022-03-28T08:16:12.196Z"
   },
   {
    "duration": 3,
    "start_time": "2022-03-28T08:16:28.936Z"
   },
   {
    "duration": 3,
    "start_time": "2022-03-28T08:16:33.872Z"
   },
   {
    "duration": 132,
    "start_time": "2022-03-28T08:16:33.877Z"
   },
   {
    "duration": 17,
    "start_time": "2022-03-28T08:16:34.011Z"
   },
   {
    "duration": 6,
    "start_time": "2022-03-28T08:16:34.030Z"
   },
   {
    "duration": 7,
    "start_time": "2022-03-28T08:16:34.039Z"
   },
   {
    "duration": 10,
    "start_time": "2022-03-28T08:16:34.048Z"
   },
   {
    "duration": 8,
    "start_time": "2022-03-28T08:16:34.059Z"
   },
   {
    "duration": 35,
    "start_time": "2022-03-28T08:16:34.069Z"
   },
   {
    "duration": 37,
    "start_time": "2022-03-28T08:16:34.106Z"
   },
   {
    "duration": 19,
    "start_time": "2022-03-28T08:16:34.145Z"
   },
   {
    "duration": 0,
    "start_time": "2022-03-28T08:16:34.166Z"
   },
   {
    "duration": 0,
    "start_time": "2022-03-28T08:16:34.167Z"
   },
   {
    "duration": 4,
    "start_time": "2022-03-28T08:17:24.830Z"
   },
   {
    "duration": 4,
    "start_time": "2022-03-28T08:17:28.441Z"
   },
   {
    "duration": 126,
    "start_time": "2022-03-28T08:17:28.447Z"
   },
   {
    "duration": 16,
    "start_time": "2022-03-28T08:17:28.574Z"
   },
   {
    "duration": 6,
    "start_time": "2022-03-28T08:17:28.592Z"
   },
   {
    "duration": 7,
    "start_time": "2022-03-28T08:17:28.600Z"
   },
   {
    "duration": 10,
    "start_time": "2022-03-28T08:17:28.609Z"
   },
   {
    "duration": 12,
    "start_time": "2022-03-28T08:17:28.621Z"
   },
   {
    "duration": 38,
    "start_time": "2022-03-28T08:17:28.634Z"
   },
   {
    "duration": 14,
    "start_time": "2022-03-28T08:17:28.674Z"
   },
   {
    "duration": 6,
    "start_time": "2022-03-28T08:17:28.689Z"
   },
   {
    "duration": 46,
    "start_time": "2022-03-28T08:17:28.696Z"
   },
   {
    "duration": 0,
    "start_time": "2022-03-28T08:17:28.744Z"
   },
   {
    "duration": 19,
    "start_time": "2022-03-28T08:18:03.810Z"
   },
   {
    "duration": 5,
    "start_time": "2022-03-28T08:22:18.644Z"
   },
   {
    "duration": 5,
    "start_time": "2022-03-28T08:22:25.529Z"
   },
   {
    "duration": 4,
    "start_time": "2022-03-28T08:22:44.396Z"
   },
   {
    "duration": 5,
    "start_time": "2022-03-28T08:22:49.951Z"
   },
   {
    "duration": 5,
    "start_time": "2022-03-28T08:22:57.034Z"
   },
   {
    "duration": 5,
    "start_time": "2022-03-28T08:23:01.901Z"
   },
   {
    "duration": 5,
    "start_time": "2022-03-28T08:23:06.538Z"
   },
   {
    "duration": 4,
    "start_time": "2022-03-28T08:23:15.370Z"
   },
   {
    "duration": 6,
    "start_time": "2022-03-28T08:23:19.672Z"
   },
   {
    "duration": 4,
    "start_time": "2022-03-28T08:23:23.796Z"
   },
   {
    "duration": 5,
    "start_time": "2022-03-28T08:23:28.422Z"
   },
   {
    "duration": 5,
    "start_time": "2022-03-28T08:23:32.477Z"
   },
   {
    "duration": 21,
    "start_time": "2022-03-28T08:24:43.262Z"
   },
   {
    "duration": 3,
    "start_time": "2022-03-28T08:24:47.584Z"
   },
   {
    "duration": 123,
    "start_time": "2022-03-28T08:24:47.589Z"
   },
   {
    "duration": 16,
    "start_time": "2022-03-28T08:24:47.715Z"
   },
   {
    "duration": 7,
    "start_time": "2022-03-28T08:24:47.733Z"
   },
   {
    "duration": 9,
    "start_time": "2022-03-28T08:24:47.742Z"
   },
   {
    "duration": 9,
    "start_time": "2022-03-28T08:24:47.753Z"
   },
   {
    "duration": 5,
    "start_time": "2022-03-28T08:24:47.764Z"
   },
   {
    "duration": 5,
    "start_time": "2022-03-28T08:24:47.770Z"
   },
   {
    "duration": 21,
    "start_time": "2022-03-28T08:24:47.776Z"
   },
   {
    "duration": 0,
    "start_time": "2022-03-28T08:24:47.800Z"
   },
   {
    "duration": 0,
    "start_time": "2022-03-28T08:24:47.801Z"
   },
   {
    "duration": 0,
    "start_time": "2022-03-28T08:24:47.831Z"
   },
   {
    "duration": 20,
    "start_time": "2022-03-28T08:24:59.533Z"
   },
   {
    "duration": 3,
    "start_time": "2022-03-28T08:25:05.967Z"
   },
   {
    "duration": 17,
    "start_time": "2022-03-28T08:25:10.931Z"
   },
   {
    "duration": 13,
    "start_time": "2022-03-28T08:25:56.525Z"
   },
   {
    "duration": 29,
    "start_time": "2022-03-28T08:26:06.017Z"
   },
   {
    "duration": 23,
    "start_time": "2022-03-28T08:26:28.432Z"
   },
   {
    "duration": 25,
    "start_time": "2022-03-28T08:26:32.375Z"
   },
   {
    "duration": 21,
    "start_time": "2022-03-28T08:26:38.872Z"
   },
   {
    "duration": 25,
    "start_time": "2022-03-28T08:26:44.139Z"
   },
   {
    "duration": 22,
    "start_time": "2022-03-28T08:26:46.903Z"
   },
   {
    "duration": 21,
    "start_time": "2022-03-28T08:26:52.617Z"
   },
   {
    "duration": 22,
    "start_time": "2022-03-28T08:26:58.741Z"
   },
   {
    "duration": 22,
    "start_time": "2022-03-28T08:27:05.261Z"
   },
   {
    "duration": 6,
    "start_time": "2022-03-28T08:28:10.873Z"
   },
   {
    "duration": 157,
    "start_time": "2022-03-28T08:32:36.393Z"
   },
   {
    "duration": 3,
    "start_time": "2022-03-28T08:32:42.860Z"
   },
   {
    "duration": 3,
    "start_time": "2022-03-28T08:33:08.952Z"
   },
   {
    "duration": 148,
    "start_time": "2022-03-28T08:33:08.957Z"
   },
   {
    "duration": 22,
    "start_time": "2022-03-28T08:33:09.107Z"
   },
   {
    "duration": 5,
    "start_time": "2022-03-28T08:33:09.131Z"
   },
   {
    "duration": 11,
    "start_time": "2022-03-28T08:33:09.138Z"
   },
   {
    "duration": 4,
    "start_time": "2022-03-28T08:33:09.151Z"
   },
   {
    "duration": 7,
    "start_time": "2022-03-28T08:33:09.156Z"
   },
   {
    "duration": 8,
    "start_time": "2022-03-28T08:33:09.165Z"
   },
   {
    "duration": 7,
    "start_time": "2022-03-28T08:33:09.175Z"
   },
   {
    "duration": 49,
    "start_time": "2022-03-28T08:33:09.184Z"
   },
   {
    "duration": 0,
    "start_time": "2022-03-28T08:33:09.235Z"
   },
   {
    "duration": 0,
    "start_time": "2022-03-28T08:33:09.237Z"
   },
   {
    "duration": 0,
    "start_time": "2022-03-28T08:33:09.238Z"
   },
   {
    "duration": 8,
    "start_time": "2022-03-28T08:33:18.872Z"
   },
   {
    "duration": 9,
    "start_time": "2022-03-28T08:33:25.351Z"
   },
   {
    "duration": 9,
    "start_time": "2022-03-28T08:33:31.485Z"
   },
   {
    "duration": 9,
    "start_time": "2022-03-28T08:33:39.657Z"
   },
   {
    "duration": 9,
    "start_time": "2022-03-28T08:33:46.422Z"
   },
   {
    "duration": 8,
    "start_time": "2022-03-28T08:33:55.228Z"
   },
   {
    "duration": 9,
    "start_time": "2022-03-28T08:34:01.753Z"
   },
   {
    "duration": 29,
    "start_time": "2022-03-28T08:34:07.357Z"
   },
   {
    "duration": 20,
    "start_time": "2022-03-28T08:34:20.031Z"
   },
   {
    "duration": 4,
    "start_time": "2022-03-28T08:38:46.970Z"
   },
   {
    "duration": 4,
    "start_time": "2022-03-28T08:39:05.160Z"
   },
   {
    "duration": 15,
    "start_time": "2022-03-28T08:41:20.948Z"
   },
   {
    "duration": 4,
    "start_time": "2022-03-28T08:41:28.159Z"
   },
   {
    "duration": 114,
    "start_time": "2022-03-28T08:41:28.165Z"
   },
   {
    "duration": 23,
    "start_time": "2022-03-28T08:41:28.281Z"
   },
   {
    "duration": 5,
    "start_time": "2022-03-28T08:41:28.307Z"
   },
   {
    "duration": 14,
    "start_time": "2022-03-28T08:41:28.314Z"
   },
   {
    "duration": 7,
    "start_time": "2022-03-28T08:41:28.330Z"
   },
   {
    "duration": 7,
    "start_time": "2022-03-28T08:41:28.339Z"
   },
   {
    "duration": 17,
    "start_time": "2022-03-28T08:41:28.347Z"
   },
   {
    "duration": 5,
    "start_time": "2022-03-28T08:41:28.366Z"
   },
   {
    "duration": 20,
    "start_time": "2022-03-28T08:41:28.373Z"
   },
   {
    "duration": 0,
    "start_time": "2022-03-28T08:41:28.396Z"
   },
   {
    "duration": 0,
    "start_time": "2022-03-28T08:41:28.397Z"
   },
   {
    "duration": 0,
    "start_time": "2022-03-28T08:41:28.398Z"
   },
   {
    "duration": 7,
    "start_time": "2022-03-28T08:42:35.207Z"
   },
   {
    "duration": 8,
    "start_time": "2022-03-28T08:43:18.805Z"
   },
   {
    "duration": 4,
    "start_time": "2022-03-28T08:43:35.724Z"
   },
   {
    "duration": 120,
    "start_time": "2022-03-28T08:43:35.731Z"
   },
   {
    "duration": 24,
    "start_time": "2022-03-28T08:43:35.853Z"
   },
   {
    "duration": 8,
    "start_time": "2022-03-28T08:43:35.879Z"
   },
   {
    "duration": 10,
    "start_time": "2022-03-28T08:43:35.890Z"
   },
   {
    "duration": 31,
    "start_time": "2022-03-28T08:43:35.901Z"
   },
   {
    "duration": 11,
    "start_time": "2022-03-28T08:43:35.933Z"
   },
   {
    "duration": 4,
    "start_time": "2022-03-28T08:43:35.946Z"
   },
   {
    "duration": 9,
    "start_time": "2022-03-28T08:43:35.952Z"
   },
   {
    "duration": 5,
    "start_time": "2022-03-28T08:43:35.963Z"
   },
   {
    "duration": 24,
    "start_time": "2022-03-28T08:43:35.969Z"
   },
   {
    "duration": 0,
    "start_time": "2022-03-28T08:43:35.995Z"
   },
   {
    "duration": 0,
    "start_time": "2022-03-28T08:43:35.996Z"
   },
   {
    "duration": 0,
    "start_time": "2022-03-28T08:43:35.997Z"
   },
   {
    "duration": 14,
    "start_time": "2022-03-28T08:48:19.768Z"
   },
   {
    "duration": 36,
    "start_time": "2022-03-28T08:51:16.255Z"
   },
   {
    "duration": 136,
    "start_time": "2022-03-28T08:51:49.488Z"
   },
   {
    "duration": 122,
    "start_time": "2022-03-28T09:45:18.633Z"
   },
   {
    "duration": 63,
    "start_time": "2022-03-28T09:45:22.894Z"
   },
   {
    "duration": 1590,
    "start_time": "2022-03-28T09:45:28.872Z"
   },
   {
    "duration": 203,
    "start_time": "2022-03-28T09:45:30.464Z"
   },
   {
    "duration": 34,
    "start_time": "2022-03-28T09:45:30.669Z"
   },
   {
    "duration": 96,
    "start_time": "2022-03-28T09:45:30.707Z"
   },
   {
    "duration": 0,
    "start_time": "2022-03-28T09:45:30.805Z"
   },
   {
    "duration": 0,
    "start_time": "2022-03-28T09:45:30.807Z"
   },
   {
    "duration": 0,
    "start_time": "2022-03-28T09:45:30.809Z"
   },
   {
    "duration": 0,
    "start_time": "2022-03-28T09:45:30.810Z"
   },
   {
    "duration": 0,
    "start_time": "2022-03-28T09:45:30.812Z"
   },
   {
    "duration": 0,
    "start_time": "2022-03-28T09:45:30.813Z"
   },
   {
    "duration": 0,
    "start_time": "2022-03-28T09:45:30.815Z"
   },
   {
    "duration": 0,
    "start_time": "2022-03-28T09:45:30.817Z"
   },
   {
    "duration": 0,
    "start_time": "2022-03-28T09:45:30.818Z"
   },
   {
    "duration": 0,
    "start_time": "2022-03-28T09:45:30.820Z"
   },
   {
    "duration": 0,
    "start_time": "2022-03-28T09:45:30.821Z"
   },
   {
    "duration": 0,
    "start_time": "2022-03-28T09:45:30.823Z"
   },
   {
    "duration": 11,
    "start_time": "2022-03-28T09:55:12.466Z"
   },
   {
    "duration": 9,
    "start_time": "2022-03-28T09:55:44.666Z"
   },
   {
    "duration": 23,
    "start_time": "2022-03-28T09:56:22.064Z"
   },
   {
    "duration": 36,
    "start_time": "2022-03-28T09:56:45.110Z"
   },
   {
    "duration": 23,
    "start_time": "2022-03-28T09:57:02.199Z"
   },
   {
    "duration": 35,
    "start_time": "2022-03-28T09:57:09.712Z"
   },
   {
    "duration": 42,
    "start_time": "2022-03-28T09:57:26.911Z"
   },
   {
    "duration": 23,
    "start_time": "2022-03-28T09:57:58.560Z"
   },
   {
    "duration": 25,
    "start_time": "2022-03-28T09:58:02.884Z"
   },
   {
    "duration": 195,
    "start_time": "2022-03-28T10:02:26.759Z"
   },
   {
    "duration": 6,
    "start_time": "2022-03-28T10:02:33.271Z"
   },
   {
    "duration": 10,
    "start_time": "2022-03-28T10:03:21.186Z"
   },
   {
    "duration": 6,
    "start_time": "2022-03-28T10:03:31.979Z"
   },
   {
    "duration": 6,
    "start_time": "2022-03-28T10:56:43.364Z"
   },
   {
    "duration": 5,
    "start_time": "2022-03-28T10:57:01.982Z"
   },
   {
    "duration": 178,
    "start_time": "2022-03-28T10:57:01.990Z"
   },
   {
    "duration": 38,
    "start_time": "2022-03-28T10:57:02.171Z"
   },
   {
    "duration": 38,
    "start_time": "2022-03-28T10:57:02.212Z"
   },
   {
    "duration": 42,
    "start_time": "2022-03-28T10:57:02.254Z"
   },
   {
    "duration": 27,
    "start_time": "2022-03-28T10:57:02.299Z"
   },
   {
    "duration": 47,
    "start_time": "2022-03-28T10:57:02.329Z"
   },
   {
    "duration": 55,
    "start_time": "2022-03-28T10:57:02.378Z"
   },
   {
    "duration": 30,
    "start_time": "2022-03-28T10:57:02.435Z"
   },
   {
    "duration": 45,
    "start_time": "2022-03-28T10:57:02.467Z"
   },
   {
    "duration": 68,
    "start_time": "2022-03-28T10:57:02.515Z"
   },
   {
    "duration": 198,
    "start_time": "2022-03-28T10:57:02.585Z"
   },
   {
    "duration": 142,
    "start_time": "2022-03-28T10:57:02.787Z"
   },
   {
    "duration": 5,
    "start_time": "2022-03-28T10:57:02.933Z"
   },
   {
    "duration": 76,
    "start_time": "2022-03-28T10:57:02.940Z"
   },
   {
    "duration": 108,
    "start_time": "2022-03-28T10:58:40.778Z"
   },
   {
    "duration": 53,
    "start_time": "2022-03-28T10:58:41.639Z"
   },
   {
    "duration": 1154,
    "start_time": "2022-03-28T14:19:16.556Z"
   },
   {
    "duration": 6,
    "start_time": "2022-03-28T14:19:23.303Z"
   },
   {
    "duration": 121,
    "start_time": "2022-03-28T14:19:23.311Z"
   },
   {
    "duration": 25,
    "start_time": "2022-03-28T14:19:23.434Z"
   },
   {
    "duration": 6,
    "start_time": "2022-03-28T14:19:23.460Z"
   },
   {
    "duration": 6,
    "start_time": "2022-03-28T14:19:23.468Z"
   },
   {
    "duration": 11,
    "start_time": "2022-03-28T14:19:23.476Z"
   },
   {
    "duration": 9,
    "start_time": "2022-03-28T14:19:23.489Z"
   },
   {
    "duration": 40,
    "start_time": "2022-03-28T14:19:23.500Z"
   },
   {
    "duration": 5,
    "start_time": "2022-03-28T14:19:23.541Z"
   },
   {
    "duration": 6,
    "start_time": "2022-03-28T14:19:23.548Z"
   },
   {
    "duration": 117,
    "start_time": "2022-03-28T14:19:23.556Z"
   },
   {
    "duration": 0,
    "start_time": "2022-03-28T14:19:23.675Z"
   },
   {
    "duration": 0,
    "start_time": "2022-03-28T14:19:23.676Z"
   },
   {
    "duration": 0,
    "start_time": "2022-03-28T14:19:23.678Z"
   },
   {
    "duration": 72,
    "start_time": "2022-03-28T15:04:49.820Z"
   },
   {
    "duration": 1567,
    "start_time": "2022-03-28T15:05:02.835Z"
   },
   {
    "duration": 189,
    "start_time": "2022-03-28T15:05:04.405Z"
   },
   {
    "duration": 37,
    "start_time": "2022-03-28T15:05:04.596Z"
   },
   {
    "duration": 8,
    "start_time": "2022-03-28T15:05:04.636Z"
   },
   {
    "duration": 30,
    "start_time": "2022-03-28T15:05:04.647Z"
   },
   {
    "duration": 16,
    "start_time": "2022-03-28T15:05:04.680Z"
   },
   {
    "duration": 14,
    "start_time": "2022-03-28T15:05:04.699Z"
   },
   {
    "duration": 15,
    "start_time": "2022-03-28T15:05:04.716Z"
   },
   {
    "duration": 6,
    "start_time": "2022-03-28T15:05:04.733Z"
   },
   {
    "duration": 10,
    "start_time": "2022-03-28T15:05:04.775Z"
   },
   {
    "duration": 118,
    "start_time": "2022-03-28T15:05:04.788Z"
   },
   {
    "duration": 0,
    "start_time": "2022-03-28T15:05:04.908Z"
   },
   {
    "duration": 0,
    "start_time": "2022-03-28T15:05:04.910Z"
   },
   {
    "duration": 0,
    "start_time": "2022-03-28T15:05:04.911Z"
   },
   {
    "duration": 5,
    "start_time": "2022-03-28T15:05:24.402Z"
   },
   {
    "duration": 88,
    "start_time": "2022-03-28T15:05:24.410Z"
   },
   {
    "duration": 26,
    "start_time": "2022-03-28T15:05:24.500Z"
   },
   {
    "duration": 6,
    "start_time": "2022-03-28T15:05:24.529Z"
   },
   {
    "duration": 6,
    "start_time": "2022-03-28T15:05:24.538Z"
   },
   {
    "duration": 31,
    "start_time": "2022-03-28T15:05:24.546Z"
   },
   {
    "duration": 16,
    "start_time": "2022-03-28T15:05:24.579Z"
   },
   {
    "duration": 13,
    "start_time": "2022-03-28T15:05:24.597Z"
   },
   {
    "duration": 7,
    "start_time": "2022-03-28T15:05:24.612Z"
   },
   {
    "duration": 7,
    "start_time": "2022-03-28T15:05:24.622Z"
   },
   {
    "duration": 147,
    "start_time": "2022-03-28T15:05:24.631Z"
   },
   {
    "duration": 4186,
    "start_time": "2022-03-28T15:05:24.781Z"
   },
   {
    "duration": 0,
    "start_time": "2022-03-28T15:05:28.974Z"
   },
   {
    "duration": 0,
    "start_time": "2022-03-28T15:05:28.975Z"
   },
   {
    "duration": 50,
    "start_time": "2022-03-28T15:09:18.259Z"
   },
   {
    "duration": 5,
    "start_time": "2022-03-28T15:14:38.033Z"
   },
   {
    "duration": 93,
    "start_time": "2022-03-28T15:14:38.041Z"
   },
   {
    "duration": 24,
    "start_time": "2022-03-28T15:14:38.136Z"
   },
   {
    "duration": 7,
    "start_time": "2022-03-28T15:14:38.163Z"
   },
   {
    "duration": 8,
    "start_time": "2022-03-28T15:14:38.172Z"
   },
   {
    "duration": 16,
    "start_time": "2022-03-28T15:14:38.182Z"
   },
   {
    "duration": 16,
    "start_time": "2022-03-28T15:14:38.200Z"
   },
   {
    "duration": 11,
    "start_time": "2022-03-28T15:14:38.218Z"
   },
   {
    "duration": 5,
    "start_time": "2022-03-28T15:14:38.232Z"
   },
   {
    "duration": 38,
    "start_time": "2022-03-28T15:14:38.239Z"
   },
   {
    "duration": 100,
    "start_time": "2022-03-28T15:14:38.279Z"
   },
   {
    "duration": 137,
    "start_time": "2022-03-28T15:14:38.382Z"
   },
   {
    "duration": 7,
    "start_time": "2022-03-28T15:14:38.521Z"
   },
   {
    "duration": 55,
    "start_time": "2022-03-28T15:14:38.532Z"
   },
   {
    "duration": 0,
    "start_time": "2022-03-28T15:14:38.590Z"
   },
   {
    "duration": 0,
    "start_time": "2022-03-28T15:14:38.592Z"
   },
   {
    "duration": 84,
    "start_time": "2022-03-28T15:15:31.691Z"
   },
   {
    "duration": 55,
    "start_time": "2022-03-28T15:15:31.875Z"
   },
   {
    "duration": 51,
    "start_time": "2022-03-28T15:15:43.192Z"
   },
   {
    "duration": 52,
    "start_time": "2022-03-28T15:15:43.375Z"
   },
   {
    "duration": 102,
    "start_time": "2022-03-28T15:16:24.374Z"
   },
   {
    "duration": 53,
    "start_time": "2022-03-28T15:16:25.300Z"
   },
   {
    "duration": 24,
    "start_time": "2022-03-28T15:18:17.453Z"
   },
   {
    "duration": 52,
    "start_time": "2022-03-28T15:18:18.046Z"
   },
   {
    "duration": 5,
    "start_time": "2022-03-28T15:18:45.681Z"
   },
   {
    "duration": 78,
    "start_time": "2022-03-28T15:18:45.690Z"
   },
   {
    "duration": 27,
    "start_time": "2022-03-28T15:18:45.771Z"
   },
   {
    "duration": 6,
    "start_time": "2022-03-28T15:18:45.803Z"
   },
   {
    "duration": 6,
    "start_time": "2022-03-28T15:18:45.812Z"
   },
   {
    "duration": 13,
    "start_time": "2022-03-28T15:18:45.821Z"
   },
   {
    "duration": 13,
    "start_time": "2022-03-28T15:18:45.874Z"
   },
   {
    "duration": 14,
    "start_time": "2022-03-28T15:18:45.890Z"
   },
   {
    "duration": 7,
    "start_time": "2022-03-28T15:18:45.906Z"
   },
   {
    "duration": 9,
    "start_time": "2022-03-28T15:18:45.918Z"
   },
   {
    "duration": 54,
    "start_time": "2022-03-28T15:18:45.974Z"
   },
   {
    "duration": 142,
    "start_time": "2022-03-28T15:18:46.076Z"
   },
   {
    "duration": 5,
    "start_time": "2022-03-28T15:18:46.221Z"
   },
   {
    "duration": 103,
    "start_time": "2022-03-28T15:18:46.228Z"
   },
   {
    "duration": 139,
    "start_time": "2022-03-28T15:18:46.375Z"
   },
   {
    "duration": 56,
    "start_time": "2022-03-28T15:18:46.517Z"
   },
   {
    "duration": 54,
    "start_time": "2022-03-28T15:19:03.177Z"
   },
   {
    "duration": 42,
    "start_time": "2022-03-28T15:19:59.751Z"
   },
   {
    "duration": 84,
    "start_time": "2022-03-28T15:20:15.289Z"
   },
   {
    "duration": 53,
    "start_time": "2022-03-28T15:20:16.874Z"
   },
   {
    "duration": 45,
    "start_time": "2022-03-28T15:20:18.731Z"
   },
   {
    "duration": 32,
    "start_time": "2022-03-28T15:20:55.836Z"
   },
   {
    "duration": 5,
    "start_time": "2022-03-28T15:21:00.527Z"
   },
   {
    "duration": 119,
    "start_time": "2022-03-28T15:21:00.536Z"
   },
   {
    "duration": 25,
    "start_time": "2022-03-28T15:21:00.657Z"
   },
   {
    "duration": 11,
    "start_time": "2022-03-28T15:21:00.685Z"
   },
   {
    "duration": 33,
    "start_time": "2022-03-28T15:21:00.698Z"
   },
   {
    "duration": 31,
    "start_time": "2022-03-28T15:21:00.733Z"
   },
   {
    "duration": 42,
    "start_time": "2022-03-28T15:21:00.766Z"
   },
   {
    "duration": 28,
    "start_time": "2022-03-28T15:21:00.811Z"
   },
   {
    "duration": 20,
    "start_time": "2022-03-28T15:21:00.842Z"
   },
   {
    "duration": 45,
    "start_time": "2022-03-28T15:21:00.864Z"
   },
   {
    "duration": 163,
    "start_time": "2022-03-28T15:21:00.911Z"
   },
   {
    "duration": 137,
    "start_time": "2022-03-28T15:21:01.078Z"
   },
   {
    "duration": 156,
    "start_time": "2022-03-28T15:21:01.217Z"
   },
   {
    "duration": 93,
    "start_time": "2022-03-28T15:21:01.382Z"
   },
   {
    "duration": 115,
    "start_time": "2022-03-28T15:21:01.477Z"
   },
   {
    "duration": 220,
    "start_time": "2022-03-28T15:21:01.595Z"
   },
   {
    "duration": 62,
    "start_time": "2022-03-28T15:21:01.817Z"
   },
   {
    "duration": 52,
    "start_time": "2022-03-28T15:21:15.413Z"
   },
   {
    "duration": 32,
    "start_time": "2022-03-28T15:21:24.792Z"
   },
   {
    "duration": 55,
    "start_time": "2022-03-28T15:21:40.567Z"
   },
   {
    "duration": 54,
    "start_time": "2022-03-28T15:21:52.942Z"
   },
   {
    "duration": 67,
    "start_time": "2022-03-28T15:22:31.849Z"
   },
   {
    "duration": 5,
    "start_time": "2022-03-28T15:34:07.942Z"
   },
   {
    "duration": 77,
    "start_time": "2022-03-28T15:34:07.950Z"
   },
   {
    "duration": 24,
    "start_time": "2022-03-28T15:34:08.029Z"
   },
   {
    "duration": 7,
    "start_time": "2022-03-28T15:34:08.056Z"
   },
   {
    "duration": 13,
    "start_time": "2022-03-28T15:34:08.065Z"
   },
   {
    "duration": 14,
    "start_time": "2022-03-28T15:34:08.080Z"
   },
   {
    "duration": 11,
    "start_time": "2022-03-28T15:34:08.096Z"
   },
   {
    "duration": 11,
    "start_time": "2022-03-28T15:34:08.110Z"
   },
   {
    "duration": 5,
    "start_time": "2022-03-28T15:34:08.124Z"
   },
   {
    "duration": 45,
    "start_time": "2022-03-28T15:34:08.132Z"
   },
   {
    "duration": 101,
    "start_time": "2022-03-28T15:34:08.180Z"
   },
   {
    "duration": 137,
    "start_time": "2022-03-28T15:34:08.284Z"
   },
   {
    "duration": 70,
    "start_time": "2022-03-28T15:34:08.423Z"
   },
   {
    "duration": 81,
    "start_time": "2022-03-28T15:34:08.495Z"
   },
   {
    "duration": 6,
    "start_time": "2022-03-28T15:34:08.673Z"
   },
   {
    "duration": 97,
    "start_time": "2022-03-28T15:34:08.681Z"
   },
   {
    "duration": 154,
    "start_time": "2022-03-28T15:34:08.781Z"
   },
   {
    "duration": 6,
    "start_time": "2022-03-28T15:37:25.983Z"
   },
   {
    "duration": 96,
    "start_time": "2022-03-28T15:37:25.993Z"
   },
   {
    "duration": 28,
    "start_time": "2022-03-28T15:37:26.091Z"
   },
   {
    "duration": 7,
    "start_time": "2022-03-28T15:37:26.123Z"
   },
   {
    "duration": 12,
    "start_time": "2022-03-28T15:37:26.133Z"
   },
   {
    "duration": 36,
    "start_time": "2022-03-28T15:37:26.148Z"
   },
   {
    "duration": 13,
    "start_time": "2022-03-28T15:37:26.186Z"
   },
   {
    "duration": 15,
    "start_time": "2022-03-28T15:37:26.201Z"
   },
   {
    "duration": 6,
    "start_time": "2022-03-28T15:37:26.218Z"
   },
   {
    "duration": 47,
    "start_time": "2022-03-28T15:37:26.273Z"
   },
   {
    "duration": 10,
    "start_time": "2022-03-28T15:37:26.322Z"
   },
   {
    "duration": 139,
    "start_time": "2022-03-28T15:37:26.334Z"
   },
   {
    "duration": 144,
    "start_time": "2022-03-28T15:37:26.477Z"
   },
   {
    "duration": 52,
    "start_time": "2022-03-28T15:37:26.623Z"
   },
   {
    "duration": 98,
    "start_time": "2022-03-28T15:37:26.678Z"
   },
   {
    "duration": 128,
    "start_time": "2022-03-28T15:37:26.780Z"
   },
   {
    "duration": 154,
    "start_time": "2022-03-28T15:37:26.979Z"
   },
   {
    "duration": 17,
    "start_time": "2022-03-28T15:39:42.480Z"
   },
   {
    "duration": 16,
    "start_time": "2022-03-28T15:40:06.210Z"
   },
   {
    "duration": 22,
    "start_time": "2022-03-28T15:40:22.066Z"
   },
   {
    "duration": 21,
    "start_time": "2022-03-28T15:40:36.497Z"
   },
   {
    "duration": 63,
    "start_time": "2022-03-28T15:40:53.863Z"
   },
   {
    "duration": 13,
    "start_time": "2022-03-28T15:51:58.802Z"
   },
   {
    "duration": 12,
    "start_time": "2022-03-28T15:52:20.396Z"
   },
   {
    "duration": 5,
    "start_time": "2022-03-28T15:52:57.054Z"
   },
   {
    "duration": 5,
    "start_time": "2022-03-28T15:53:01.292Z"
   },
   {
    "duration": 97,
    "start_time": "2022-03-28T15:53:01.299Z"
   },
   {
    "duration": 27,
    "start_time": "2022-03-28T15:53:01.398Z"
   },
   {
    "duration": 6,
    "start_time": "2022-03-28T15:53:01.428Z"
   },
   {
    "duration": 12,
    "start_time": "2022-03-28T15:53:01.437Z"
   },
   {
    "duration": 36,
    "start_time": "2022-03-28T15:53:01.451Z"
   },
   {
    "duration": 11,
    "start_time": "2022-03-28T15:53:01.489Z"
   },
   {
    "duration": 16,
    "start_time": "2022-03-28T15:53:01.502Z"
   },
   {
    "duration": 5,
    "start_time": "2022-03-28T15:53:01.522Z"
   },
   {
    "duration": 79,
    "start_time": "2022-03-28T15:53:01.529Z"
   },
   {
    "duration": 8,
    "start_time": "2022-03-28T15:53:01.610Z"
   },
   {
    "duration": 58,
    "start_time": "2022-03-28T15:53:01.620Z"
   },
   {
    "duration": 229,
    "start_time": "2022-03-28T15:53:01.682Z"
   },
   {
    "duration": 2193,
    "start_time": "2022-03-28T15:53:01.913Z"
   },
   {
    "duration": 66,
    "start_time": "2022-03-28T15:53:04.108Z"
   },
   {
    "duration": 96,
    "start_time": "2022-03-28T15:53:04.178Z"
   },
   {
    "duration": 97,
    "start_time": "2022-03-28T15:53:04.276Z"
   },
   {
    "duration": 150,
    "start_time": "2022-03-28T15:53:04.376Z"
   },
   {
    "duration": 16,
    "start_time": "2022-03-28T15:53:04.529Z"
   },
   {
    "duration": 47,
    "start_time": "2022-03-28T15:53:04.547Z"
   },
   {
    "duration": 161,
    "start_time": "2022-03-28T15:53:04.673Z"
   },
   {
    "duration": 21327,
    "start_time": "2022-03-28T16:00:15.188Z"
   },
   {
    "duration": 5,
    "start_time": "2022-03-28T16:00:45.438Z"
   },
   {
    "duration": 102,
    "start_time": "2022-03-28T16:00:45.446Z"
   },
   {
    "duration": 24,
    "start_time": "2022-03-28T16:00:45.550Z"
   },
   {
    "duration": 8,
    "start_time": "2022-03-28T16:00:45.577Z"
   },
   {
    "duration": 6,
    "start_time": "2022-03-28T16:00:45.586Z"
   },
   {
    "duration": 12,
    "start_time": "2022-03-28T16:00:45.594Z"
   },
   {
    "duration": 12,
    "start_time": "2022-03-28T16:00:45.608Z"
   },
   {
    "duration": 12,
    "start_time": "2022-03-28T16:00:45.622Z"
   },
   {
    "duration": 39,
    "start_time": "2022-03-28T16:00:45.638Z"
   },
   {
    "duration": 45,
    "start_time": "2022-03-28T16:00:45.679Z"
   },
   {
    "duration": 9,
    "start_time": "2022-03-28T16:00:45.726Z"
   },
   {
    "duration": 142,
    "start_time": "2022-03-28T16:00:45.737Z"
   },
   {
    "duration": 141,
    "start_time": "2022-03-28T16:00:45.883Z"
   },
   {
    "duration": 21371,
    "start_time": "2022-03-28T16:00:46.026Z"
   },
   {
    "duration": 76,
    "start_time": "2022-03-28T16:01:07.400Z"
   },
   {
    "duration": 96,
    "start_time": "2022-03-28T16:01:07.481Z"
   },
   {
    "duration": 96,
    "start_time": "2022-03-28T16:01:07.580Z"
   },
   {
    "duration": 148,
    "start_time": "2022-03-28T16:01:07.679Z"
   },
   {
    "duration": 17,
    "start_time": "2022-03-28T16:01:07.829Z"
   },
   {
    "duration": 104,
    "start_time": "2022-03-28T16:01:07.873Z"
   },
   {
    "duration": 150,
    "start_time": "2022-03-28T16:01:07.980Z"
   },
   {
    "duration": 482,
    "start_time": "2022-03-28T16:11:22.963Z"
   },
   {
    "duration": 28968,
    "start_time": "2022-03-28T16:12:23.643Z"
   },
   {
    "duration": 574,
    "start_time": "2022-03-28T16:13:22.819Z"
   },
   {
    "duration": 29079,
    "start_time": "2022-03-28T16:14:09.656Z"
   },
   {
    "duration": 104,
    "start_time": "2022-03-28T16:15:43.970Z"
   },
   {
    "duration": 28323,
    "start_time": "2022-03-28T16:15:50.700Z"
   },
   {
    "duration": 29417,
    "start_time": "2022-03-28T16:16:35.441Z"
   },
   {
    "duration": 800,
    "start_time": "2022-03-28T16:17:04.860Z"
   },
   {
    "duration": 29708,
    "start_time": "2022-03-28T16:17:59.439Z"
   },
   {
    "duration": 30194,
    "start_time": "2022-03-28T16:18:29.149Z"
   },
   {
    "duration": 24,
    "start_time": "2022-03-28T16:19:43.463Z"
   },
   {
    "duration": 10427,
    "start_time": "2022-03-28T16:19:53.178Z"
   },
   {
    "duration": 372,
    "start_time": "2022-03-28T16:24:22.621Z"
   },
   {
    "duration": 29,
    "start_time": "2022-03-28T16:24:41.914Z"
   },
   {
    "duration": 92,
    "start_time": "2022-03-28T16:24:51.573Z"
   },
   {
    "duration": 775,
    "start_time": "2022-03-28T16:25:39.332Z"
   },
   {
    "duration": 5,
    "start_time": "2022-03-28T16:29:48.824Z"
   },
   {
    "duration": 5,
    "start_time": "2022-03-28T16:30:57.461Z"
   },
   {
    "duration": 13,
    "start_time": "2022-03-28T16:37:36.553Z"
   },
   {
    "duration": 29,
    "start_time": "2022-03-28T16:37:56.732Z"
   },
   {
    "duration": 14,
    "start_time": "2022-03-28T16:37:58.821Z"
   },
   {
    "duration": 32,
    "start_time": "2022-03-28T16:38:30.518Z"
   },
   {
    "duration": 16,
    "start_time": "2022-03-28T16:38:30.709Z"
   },
   {
    "duration": 543,
    "start_time": "2022-03-28T16:38:40.123Z"
   },
   {
    "duration": 203,
    "start_time": "2022-03-28T16:38:56.988Z"
   },
   {
    "duration": 183,
    "start_time": "2022-03-28T16:39:33.172Z"
   },
   {
    "duration": 9,
    "start_time": "2022-03-28T16:40:03.119Z"
   },
   {
    "duration": 1545,
    "start_time": "2022-03-28T17:00:56.650Z"
   },
   {
    "duration": 135,
    "start_time": "2022-03-28T17:00:58.198Z"
   },
   {
    "duration": 7,
    "start_time": "2022-03-28T17:00:58.335Z"
   },
   {
    "duration": 19,
    "start_time": "2022-03-28T17:00:58.344Z"
   },
   {
    "duration": 5,
    "start_time": "2022-03-28T17:00:58.365Z"
   },
   {
    "duration": 6,
    "start_time": "2022-03-28T17:00:58.371Z"
   },
   {
    "duration": 30,
    "start_time": "2022-03-28T17:00:58.379Z"
   },
   {
    "duration": 8,
    "start_time": "2022-03-28T17:00:58.411Z"
   },
   {
    "duration": 10,
    "start_time": "2022-03-28T17:00:58.420Z"
   },
   {
    "duration": 3,
    "start_time": "2022-03-28T17:00:58.433Z"
   },
   {
    "duration": 34,
    "start_time": "2022-03-28T17:00:58.438Z"
   },
   {
    "duration": 6,
    "start_time": "2022-03-28T17:00:58.474Z"
   },
   {
    "duration": 51,
    "start_time": "2022-03-28T17:00:58.481Z"
   },
   {
    "duration": 204,
    "start_time": "2022-03-28T17:00:58.534Z"
   },
   {
    "duration": 15052,
    "start_time": "2022-03-28T17:00:58.740Z"
   },
   {
    "duration": 318,
    "start_time": "2022-03-28T17:01:13.793Z"
   },
   {
    "duration": 97,
    "start_time": "2022-03-28T17:01:14.113Z"
   },
   {
    "duration": 6,
    "start_time": "2022-03-28T17:01:14.213Z"
   },
   {
    "duration": 38,
    "start_time": "2022-03-28T17:01:14.311Z"
   },
   {
    "duration": 137,
    "start_time": "2022-03-28T17:01:14.411Z"
   },
   {
    "duration": 19311,
    "start_time": "2022-03-28T17:01:14.550Z"
   },
   {
    "duration": 365,
    "start_time": "2022-03-28T17:01:33.862Z"
   },
   {
    "duration": 11,
    "start_time": "2022-03-28T17:01:34.228Z"
   },
   {
    "duration": 12,
    "start_time": "2022-03-28T17:01:34.241Z"
   },
   {
    "duration": 156,
    "start_time": "2022-03-28T17:01:34.255Z"
   },
   {
    "duration": 6800,
    "start_time": "2022-03-28T17:01:34.413Z"
   },
   {
    "duration": 64,
    "start_time": "2022-03-28T17:01:41.215Z"
   },
   {
    "duration": 355,
    "start_time": "2022-03-28T17:01:41.282Z"
   },
   {
    "duration": 24,
    "start_time": "2022-03-28T17:01:41.639Z"
   },
   {
    "duration": 135,
    "start_time": "2022-03-28T17:01:41.665Z"
   },
   {
    "duration": 7,
    "start_time": "2022-03-28T17:01:41.802Z"
   },
   {
    "duration": 115,
    "start_time": "2022-03-28T17:03:43.217Z"
   },
   {
    "duration": 3,
    "start_time": "2022-03-28T17:06:07.663Z"
   },
   {
    "duration": 1615,
    "start_time": "2022-03-28T19:59:41.117Z"
   },
   {
    "duration": 148,
    "start_time": "2022-03-28T19:59:42.734Z"
   },
   {
    "duration": 21,
    "start_time": "2022-03-28T19:59:42.883Z"
   },
   {
    "duration": 5,
    "start_time": "2022-03-28T19:59:42.906Z"
   },
   {
    "duration": 9,
    "start_time": "2022-03-28T19:59:42.913Z"
   },
   {
    "duration": 15,
    "start_time": "2022-03-28T19:59:42.924Z"
   },
   {
    "duration": 8,
    "start_time": "2022-03-28T19:59:42.941Z"
   },
   {
    "duration": 9,
    "start_time": "2022-03-28T19:59:42.950Z"
   },
   {
    "duration": 4,
    "start_time": "2022-03-28T19:59:42.961Z"
   },
   {
    "duration": 31,
    "start_time": "2022-03-28T19:59:42.966Z"
   },
   {
    "duration": 7,
    "start_time": "2022-03-28T19:59:42.999Z"
   },
   {
    "duration": 26,
    "start_time": "2022-03-28T19:59:43.037Z"
   },
   {
    "duration": 127,
    "start_time": "2022-03-28T19:59:43.139Z"
   },
   {
    "duration": 14173,
    "start_time": "2022-03-28T19:59:43.269Z"
   },
   {
    "duration": 290,
    "start_time": "2022-03-28T19:59:57.443Z"
   },
   {
    "duration": 21,
    "start_time": "2022-03-28T19:59:57.737Z"
   },
   {
    "duration": 79,
    "start_time": "2022-03-28T19:59:57.760Z"
   },
   {
    "duration": 134,
    "start_time": "2022-03-28T19:59:57.842Z"
   },
   {
    "duration": 135,
    "start_time": "2022-03-28T19:59:58.038Z"
   },
   {
    "duration": 29,
    "start_time": "2022-03-28T20:00:25.407Z"
   },
   {
    "duration": 90,
    "start_time": "2022-03-28T20:00:25.438Z"
   },
   {
    "duration": 16,
    "start_time": "2022-03-28T20:00:25.530Z"
   },
   {
    "duration": 5,
    "start_time": "2022-03-28T20:00:25.548Z"
   },
   {
    "duration": 16,
    "start_time": "2022-03-28T20:00:25.555Z"
   },
   {
    "duration": 30,
    "start_time": "2022-03-28T20:00:25.573Z"
   },
   {
    "duration": 21,
    "start_time": "2022-03-28T20:00:25.605Z"
   },
   {
    "duration": 29,
    "start_time": "2022-03-28T20:00:25.628Z"
   },
   {
    "duration": 41,
    "start_time": "2022-03-28T20:00:25.659Z"
   },
   {
    "duration": 44,
    "start_time": "2022-03-28T20:00:25.702Z"
   },
   {
    "duration": 5,
    "start_time": "2022-03-28T20:00:25.748Z"
   },
   {
    "duration": 51,
    "start_time": "2022-03-28T20:00:25.755Z"
   },
   {
    "duration": 127,
    "start_time": "2022-03-28T20:00:25.839Z"
   },
   {
    "duration": 13611,
    "start_time": "2022-03-28T20:00:25.967Z"
   },
   {
    "duration": 299,
    "start_time": "2022-03-28T20:00:39.580Z"
   },
   {
    "duration": 58,
    "start_time": "2022-03-28T20:00:39.881Z"
   },
   {
    "duration": 99,
    "start_time": "2022-03-28T20:00:39.942Z"
   },
   {
    "duration": 56,
    "start_time": "2022-03-28T20:00:40.043Z"
   },
   {
    "duration": 133,
    "start_time": "2022-03-28T20:00:40.139Z"
   },
   {
    "duration": 18570,
    "start_time": "2022-03-28T20:00:40.274Z"
   },
   {
    "duration": 352,
    "start_time": "2022-03-28T20:00:58.846Z"
   },
   {
    "duration": 12,
    "start_time": "2022-03-28T20:00:59.200Z"
   },
   {
    "duration": 28,
    "start_time": "2022-03-28T20:00:59.214Z"
   },
   {
    "duration": 207,
    "start_time": "2022-03-28T20:00:59.245Z"
   },
   {
    "duration": 6817,
    "start_time": "2022-03-28T20:00:59.454Z"
   },
   {
    "duration": 66,
    "start_time": "2022-03-28T20:01:06.273Z"
   },
   {
    "duration": 365,
    "start_time": "2022-03-28T20:01:06.341Z"
   },
   {
    "duration": 33,
    "start_time": "2022-03-28T20:01:06.708Z"
   },
   {
    "duration": 124,
    "start_time": "2022-03-28T20:01:06.743Z"
   },
   {
    "duration": 7,
    "start_time": "2022-03-28T20:01:06.868Z"
   },
   {
    "duration": 5,
    "start_time": "2022-03-28T20:01:06.878Z"
   },
   {
    "duration": 96,
    "start_time": "2022-03-28T20:01:06.884Z"
   },
   {
    "duration": 20,
    "start_time": "2022-03-28T20:15:33.719Z"
   },
   {
    "duration": 288,
    "start_time": "2022-03-28T20:15:38.295Z"
   },
   {
    "duration": 22,
    "start_time": "2022-03-28T20:15:41.628Z"
   },
   {
    "duration": 36,
    "start_time": "2022-03-28T20:16:00.841Z"
   },
   {
    "duration": 43,
    "start_time": "2022-03-28T20:18:38.506Z"
   },
   {
    "duration": 18208,
    "start_time": "2022-03-28T20:19:38.809Z"
   },
   {
    "duration": 13,
    "start_time": "2022-03-28T20:23:50.402Z"
   },
   {
    "duration": 17,
    "start_time": "2022-03-28T20:24:24.903Z"
   },
   {
    "duration": 13,
    "start_time": "2022-03-28T20:36:57.783Z"
   },
   {
    "duration": 9,
    "start_time": "2022-03-28T20:37:01.182Z"
   },
   {
    "duration": 140,
    "start_time": "2022-03-28T20:37:01.339Z"
   },
   {
    "duration": 6,
    "start_time": "2022-03-28T20:38:01.459Z"
   },
   {
    "duration": 4,
    "start_time": "2022-03-28T20:38:11.001Z"
   },
   {
    "duration": 93,
    "start_time": "2022-03-28T20:38:11.007Z"
   },
   {
    "duration": 18,
    "start_time": "2022-03-28T20:38:11.102Z"
   },
   {
    "duration": 6,
    "start_time": "2022-03-28T20:38:11.122Z"
   },
   {
    "duration": 10,
    "start_time": "2022-03-28T20:38:11.130Z"
   },
   {
    "duration": 9,
    "start_time": "2022-03-28T20:38:11.143Z"
   },
   {
    "duration": 9,
    "start_time": "2022-03-28T20:38:11.154Z"
   },
   {
    "duration": 12,
    "start_time": "2022-03-28T20:38:11.165Z"
   },
   {
    "duration": 5,
    "start_time": "2022-03-28T20:38:11.179Z"
   },
   {
    "duration": 64,
    "start_time": "2022-03-28T20:38:11.186Z"
   },
   {
    "duration": 7,
    "start_time": "2022-03-28T20:38:11.253Z"
   },
   {
    "duration": 80,
    "start_time": "2022-03-28T20:38:11.262Z"
   },
   {
    "duration": 119,
    "start_time": "2022-03-28T20:38:11.345Z"
   },
   {
    "duration": 14147,
    "start_time": "2022-03-28T20:38:11.467Z"
   },
   {
    "duration": 293,
    "start_time": "2022-03-28T20:38:25.616Z"
   },
   {
    "duration": 33,
    "start_time": "2022-03-28T20:38:25.912Z"
   },
   {
    "duration": 5,
    "start_time": "2022-03-28T20:38:25.947Z"
   },
   {
    "duration": 193,
    "start_time": "2022-03-28T20:38:25.954Z"
   },
   {
    "duration": 38,
    "start_time": "2022-03-28T20:38:26.148Z"
   },
   {
    "duration": 133,
    "start_time": "2022-03-28T20:38:26.239Z"
   },
   {
    "duration": 19229,
    "start_time": "2022-03-28T20:38:26.374Z"
   },
   {
    "duration": 374,
    "start_time": "2022-03-28T20:38:45.605Z"
   },
   {
    "duration": 15,
    "start_time": "2022-03-28T20:38:45.981Z"
   },
   {
    "duration": 41,
    "start_time": "2022-03-28T20:38:45.998Z"
   },
   {
    "duration": 135,
    "start_time": "2022-03-28T20:38:46.041Z"
   },
   {
    "duration": 7135,
    "start_time": "2022-03-28T20:38:46.177Z"
   },
   {
    "duration": 90,
    "start_time": "2022-03-28T20:38:53.314Z"
   },
   {
    "duration": 347,
    "start_time": "2022-03-28T20:38:53.406Z"
   },
   {
    "duration": 23,
    "start_time": "2022-03-28T20:38:53.755Z"
   },
   {
    "duration": 122,
    "start_time": "2022-03-28T20:38:53.780Z"
   },
   {
    "duration": 6,
    "start_time": "2022-03-28T20:38:53.903Z"
   },
   {
    "duration": 45,
    "start_time": "2022-03-28T20:54:21.440Z"
   },
   {
    "duration": 13654,
    "start_time": "2022-03-28T20:55:18.287Z"
   },
   {
    "duration": 498,
    "start_time": "2022-03-28T20:56:11.436Z"
   },
   {
    "duration": 4,
    "start_time": "2022-03-28T20:59:49.083Z"
   },
   {
    "duration": 159,
    "start_time": "2022-03-28T20:59:49.089Z"
   },
   {
    "duration": 17,
    "start_time": "2022-03-28T20:59:49.250Z"
   },
   {
    "duration": 5,
    "start_time": "2022-03-28T20:59:49.269Z"
   },
   {
    "duration": 5,
    "start_time": "2022-03-28T20:59:49.276Z"
   },
   {
    "duration": 10,
    "start_time": "2022-03-28T20:59:49.282Z"
   },
   {
    "duration": 8,
    "start_time": "2022-03-28T20:59:49.293Z"
   },
   {
    "duration": 41,
    "start_time": "2022-03-28T20:59:49.303Z"
   },
   {
    "duration": 4,
    "start_time": "2022-03-28T20:59:49.346Z"
   },
   {
    "duration": 32,
    "start_time": "2022-03-28T20:59:49.351Z"
   },
   {
    "duration": 5,
    "start_time": "2022-03-28T20:59:49.387Z"
   },
   {
    "duration": 149,
    "start_time": "2022-03-28T20:59:49.394Z"
   },
   {
    "duration": 36,
    "start_time": "2022-03-28T20:59:49.544Z"
   },
   {
    "duration": 14001,
    "start_time": "2022-03-28T20:59:49.582Z"
   },
   {
    "duration": 311,
    "start_time": "2022-03-28T21:00:03.586Z"
   },
   {
    "duration": 140,
    "start_time": "2022-03-28T21:00:03.899Z"
   },
   {
    "duration": 99,
    "start_time": "2022-03-28T21:00:04.041Z"
   },
   {
    "duration": 14308,
    "start_time": "2022-03-28T21:00:04.142Z"
   },
   {
    "duration": 526,
    "start_time": "2022-03-28T21:00:18.452Z"
   },
   {
    "duration": 6,
    "start_time": "2022-03-28T21:00:18.979Z"
   },
   {
    "duration": 24,
    "start_time": "2022-03-28T21:00:18.987Z"
   },
   {
    "duration": 37,
    "start_time": "2022-03-28T21:00:19.013Z"
   },
   {
    "duration": 133,
    "start_time": "2022-03-28T21:00:19.139Z"
   },
   {
    "duration": 18841,
    "start_time": "2022-03-28T21:00:19.274Z"
   },
   {
    "duration": 356,
    "start_time": "2022-03-28T21:00:38.117Z"
   },
   {
    "duration": 12,
    "start_time": "2022-03-28T21:00:38.474Z"
   },
   {
    "duration": 58,
    "start_time": "2022-03-28T21:00:38.487Z"
   },
   {
    "duration": 108,
    "start_time": "2022-03-28T21:00:38.547Z"
   },
   {
    "duration": 6874,
    "start_time": "2022-03-28T21:00:38.658Z"
   },
   {
    "duration": 66,
    "start_time": "2022-03-28T21:00:45.538Z"
   },
   {
    "duration": 366,
    "start_time": "2022-03-28T21:00:45.605Z"
   },
   {
    "duration": 24,
    "start_time": "2022-03-28T21:00:45.973Z"
   },
   {
    "duration": 138,
    "start_time": "2022-03-28T21:00:45.999Z"
   },
   {
    "duration": 6,
    "start_time": "2022-03-28T21:00:46.139Z"
   },
   {
    "duration": 37,
    "start_time": "2022-03-28T21:05:33.486Z"
   },
   {
    "duration": 36,
    "start_time": "2022-03-28T21:06:12.023Z"
   },
   {
    "duration": 40,
    "start_time": "2022-03-28T21:08:27.403Z"
   },
   {
    "duration": 13,
    "start_time": "2022-03-28T21:09:24.045Z"
   },
   {
    "duration": 32,
    "start_time": "2022-03-28T21:09:26.508Z"
   },
   {
    "duration": 22,
    "start_time": "2022-03-28T21:09:27.954Z"
   },
   {
    "duration": 8020,
    "start_time": "2022-03-28T21:09:29.296Z"
   },
   {
    "duration": 167,
    "start_time": "2022-03-28T21:09:46.754Z"
   },
   {
    "duration": 20,
    "start_time": "2022-03-28T21:10:19.036Z"
   },
   {
    "duration": 126,
    "start_time": "2022-03-30T19:14:35.172Z"
   },
   {
    "duration": 2429,
    "start_time": "2022-03-30T19:16:13.520Z"
   },
   {
    "duration": 12,
    "start_time": "2022-03-30T19:16:16.905Z"
   },
   {
    "duration": 6,
    "start_time": "2022-03-30T19:18:38.938Z"
   },
   {
    "duration": 6,
    "start_time": "2022-03-30T19:22:31.286Z"
   },
   {
    "duration": 3,
    "start_time": "2022-03-30T19:23:13.462Z"
   },
   {
    "duration": 13,
    "start_time": "2022-03-30T19:23:15.006Z"
   },
   {
    "duration": 5,
    "start_time": "2022-03-30T19:23:21.640Z"
   },
   {
    "duration": 135,
    "start_time": "2022-03-30T19:23:21.648Z"
   },
   {
    "duration": 20,
    "start_time": "2022-03-30T19:23:21.785Z"
   },
   {
    "duration": 0,
    "start_time": "2022-03-30T19:23:21.811Z"
   },
   {
    "duration": 0,
    "start_time": "2022-03-30T19:23:21.814Z"
   },
   {
    "duration": 0,
    "start_time": "2022-03-30T19:23:21.815Z"
   },
   {
    "duration": 0,
    "start_time": "2022-03-30T19:23:21.817Z"
   },
   {
    "duration": 0,
    "start_time": "2022-03-30T19:23:21.820Z"
   },
   {
    "duration": 0,
    "start_time": "2022-03-30T19:23:21.822Z"
   },
   {
    "duration": 0,
    "start_time": "2022-03-30T19:23:21.824Z"
   },
   {
    "duration": 0,
    "start_time": "2022-03-30T19:23:21.826Z"
   },
   {
    "duration": 0,
    "start_time": "2022-03-30T19:23:21.829Z"
   },
   {
    "duration": 0,
    "start_time": "2022-03-30T19:23:21.831Z"
   },
   {
    "duration": 0,
    "start_time": "2022-03-30T19:23:21.833Z"
   },
   {
    "duration": 0,
    "start_time": "2022-03-30T19:23:21.835Z"
   },
   {
    "duration": 0,
    "start_time": "2022-03-30T19:23:21.837Z"
   },
   {
    "duration": 0,
    "start_time": "2022-03-30T19:23:21.884Z"
   },
   {
    "duration": 0,
    "start_time": "2022-03-30T19:23:21.886Z"
   },
   {
    "duration": 0,
    "start_time": "2022-03-30T19:23:21.888Z"
   },
   {
    "duration": 0,
    "start_time": "2022-03-30T19:23:21.889Z"
   },
   {
    "duration": 0,
    "start_time": "2022-03-30T19:23:21.890Z"
   },
   {
    "duration": 0,
    "start_time": "2022-03-30T19:23:21.892Z"
   },
   {
    "duration": 0,
    "start_time": "2022-03-30T19:23:21.897Z"
   },
   {
    "duration": 0,
    "start_time": "2022-03-30T19:23:21.899Z"
   },
   {
    "duration": 1,
    "start_time": "2022-03-30T19:23:21.900Z"
   },
   {
    "duration": 0,
    "start_time": "2022-03-30T19:23:21.903Z"
   },
   {
    "duration": 0,
    "start_time": "2022-03-30T19:23:21.905Z"
   },
   {
    "duration": 0,
    "start_time": "2022-03-30T19:23:21.907Z"
   },
   {
    "duration": 0,
    "start_time": "2022-03-30T19:23:21.910Z"
   },
   {
    "duration": 1,
    "start_time": "2022-03-30T19:23:21.912Z"
   },
   {
    "duration": 0,
    "start_time": "2022-03-30T19:23:21.914Z"
   },
   {
    "duration": 0,
    "start_time": "2022-03-30T19:23:21.917Z"
   },
   {
    "duration": 0,
    "start_time": "2022-03-30T19:23:21.919Z"
   },
   {
    "duration": 0,
    "start_time": "2022-03-30T19:23:21.921Z"
   },
   {
    "duration": 0,
    "start_time": "2022-03-30T19:23:21.923Z"
   },
   {
    "duration": 0,
    "start_time": "2022-03-30T19:23:21.924Z"
   },
   {
    "duration": 7,
    "start_time": "2022-03-30T19:23:51.897Z"
   },
   {
    "duration": 121,
    "start_time": "2022-03-30T19:23:51.907Z"
   },
   {
    "duration": 33,
    "start_time": "2022-03-30T19:23:52.030Z"
   },
   {
    "duration": 23,
    "start_time": "2022-03-30T19:23:52.067Z"
   },
   {
    "duration": 4,
    "start_time": "2022-03-30T19:23:52.094Z"
   },
   {
    "duration": 13,
    "start_time": "2022-03-30T19:23:52.100Z"
   },
   {
    "duration": 13,
    "start_time": "2022-03-30T19:23:52.116Z"
   },
   {
    "duration": 11,
    "start_time": "2022-03-30T19:23:52.132Z"
   },
   {
    "duration": 48,
    "start_time": "2022-03-30T19:23:52.145Z"
   },
   {
    "duration": 6,
    "start_time": "2022-03-30T19:23:52.196Z"
   },
   {
    "duration": 88,
    "start_time": "2022-03-30T19:23:52.208Z"
   },
   {
    "duration": 10,
    "start_time": "2022-03-30T19:23:52.298Z"
   },
   {
    "duration": 102,
    "start_time": "2022-03-30T19:23:52.310Z"
   },
   {
    "duration": 98,
    "start_time": "2022-03-30T19:23:52.490Z"
   },
   {
    "duration": 22247,
    "start_time": "2022-03-30T19:23:52.591Z"
   },
   {
    "duration": 487,
    "start_time": "2022-03-30T19:24:14.840Z"
   },
   {
    "duration": 63,
    "start_time": "2022-03-30T19:24:15.329Z"
   },
   {
    "duration": 146,
    "start_time": "2022-03-30T19:24:15.395Z"
   },
   {
    "duration": 23092,
    "start_time": "2022-03-30T19:24:15.544Z"
   },
   {
    "duration": 1113,
    "start_time": "2022-03-30T19:24:38.638Z"
   },
   {
    "duration": 8,
    "start_time": "2022-03-30T19:24:39.753Z"
   },
   {
    "duration": 42,
    "start_time": "2022-03-30T19:24:39.764Z"
   },
   {
    "duration": 81,
    "start_time": "2022-03-30T19:24:39.809Z"
   },
   {
    "duration": 153,
    "start_time": "2022-03-30T19:24:39.893Z"
   },
   {
    "duration": 31293,
    "start_time": "2022-03-30T19:24:40.084Z"
   },
   {
    "duration": 606,
    "start_time": "2022-03-30T19:25:11.379Z"
   },
   {
    "duration": 20,
    "start_time": "2022-03-30T19:25:11.988Z"
   },
   {
    "duration": 87,
    "start_time": "2022-03-30T19:25:12.011Z"
   },
   {
    "duration": 110,
    "start_time": "2022-03-30T19:25:12.105Z"
   },
   {
    "duration": 13908,
    "start_time": "2022-03-30T19:25:12.218Z"
   },
   {
    "duration": 270,
    "start_time": "2022-03-30T19:25:26.128Z"
   },
   {
    "duration": 770,
    "start_time": "2022-03-30T19:25:26.400Z"
   },
   {
    "duration": 41,
    "start_time": "2022-03-30T19:25:27.172Z"
   },
   {
    "duration": 318,
    "start_time": "2022-03-30T19:25:27.216Z"
   },
   {
    "duration": 10,
    "start_time": "2022-03-30T19:25:27.537Z"
   },
   {
    "duration": 7,
    "start_time": "2022-03-30T19:34:08.806Z"
   },
   {
    "duration": 9,
    "start_time": "2022-03-30T19:35:24.314Z"
   },
   {
    "duration": 6,
    "start_time": "2022-03-30T19:36:24.692Z"
   },
   {
    "duration": 100,
    "start_time": "2022-03-30T19:36:24.702Z"
   },
   {
    "duration": 27,
    "start_time": "2022-03-30T19:36:24.804Z"
   },
   {
    "duration": 5,
    "start_time": "2022-03-30T19:36:24.833Z"
   },
   {
    "duration": 4,
    "start_time": "2022-03-30T19:36:24.841Z"
   },
   {
    "duration": 37,
    "start_time": "2022-03-30T19:36:24.847Z"
   },
   {
    "duration": 32,
    "start_time": "2022-03-30T19:36:24.887Z"
   },
   {
    "duration": 18,
    "start_time": "2022-03-30T19:36:24.921Z"
   },
   {
    "duration": 18,
    "start_time": "2022-03-30T19:36:24.941Z"
   },
   {
    "duration": 24,
    "start_time": "2022-03-30T19:36:24.964Z"
   },
   {
    "duration": 67,
    "start_time": "2022-03-30T19:36:24.992Z"
   },
   {
    "duration": 27,
    "start_time": "2022-03-30T19:36:25.062Z"
   },
   {
    "duration": 101,
    "start_time": "2022-03-30T19:36:25.092Z"
   },
   {
    "duration": 121,
    "start_time": "2022-03-30T19:36:25.283Z"
   },
   {
    "duration": 30189,
    "start_time": "2022-03-30T19:36:25.406Z"
   },
   {
    "duration": 452,
    "start_time": "2022-03-30T19:36:55.598Z"
   },
   {
    "duration": 9,
    "start_time": "2022-03-30T19:36:56.052Z"
   },
   {
    "duration": 58,
    "start_time": "2022-03-30T19:36:56.064Z"
   },
   {
    "duration": 154,
    "start_time": "2022-03-30T19:36:56.185Z"
   },
   {
    "duration": 26075,
    "start_time": "2022-03-30T19:36:56.342Z"
   },
   {
    "duration": 1068,
    "start_time": "2022-03-30T19:37:22.420Z"
   },
   {
    "duration": 9,
    "start_time": "2022-03-30T19:37:23.491Z"
   },
   {
    "duration": 8,
    "start_time": "2022-03-30T19:37:23.502Z"
   },
   {
    "duration": 19,
    "start_time": "2022-03-30T19:37:23.513Z"
   },
   {
    "duration": 153,
    "start_time": "2022-03-30T19:37:23.535Z"
   },
   {
    "duration": 150,
    "start_time": "2022-03-30T19:37:23.692Z"
   },
   {
    "duration": 40040,
    "start_time": "2022-03-30T19:37:23.844Z"
   },
   {
    "duration": 770,
    "start_time": "2022-03-30T19:38:03.887Z"
   },
   {
    "duration": 22,
    "start_time": "2022-03-30T19:38:04.664Z"
   },
   {
    "duration": 19,
    "start_time": "2022-03-30T19:38:04.689Z"
   },
   {
    "duration": 176,
    "start_time": "2022-03-30T19:38:04.711Z"
   },
   {
    "duration": 31,
    "start_time": "2022-03-30T19:38:04.890Z"
   },
   {
    "duration": 14532,
    "start_time": "2022-03-30T19:38:04.923Z"
   },
   {
    "duration": 286,
    "start_time": "2022-03-30T19:38:19.458Z"
   },
   {
    "duration": 10,
    "start_time": "2022-03-30T19:38:19.747Z"
   },
   {
    "duration": 585,
    "start_time": "2022-03-30T19:38:19.760Z"
   },
   {
    "duration": 50,
    "start_time": "2022-03-30T19:38:20.347Z"
   },
   {
    "duration": 201,
    "start_time": "2022-03-30T19:38:20.400Z"
   },
   {
    "duration": 8,
    "start_time": "2022-03-30T19:38:20.604Z"
   },
   {
    "duration": 6,
    "start_time": "2022-03-30T19:38:36.342Z"
   },
   {
    "duration": 137,
    "start_time": "2022-03-30T19:38:36.351Z"
   },
   {
    "duration": 31,
    "start_time": "2022-03-30T19:38:36.490Z"
   },
   {
    "duration": 7,
    "start_time": "2022-03-30T19:38:36.526Z"
   },
   {
    "duration": 6,
    "start_time": "2022-03-30T19:38:36.537Z"
   },
   {
    "duration": 6,
    "start_time": "2022-03-30T19:38:36.583Z"
   },
   {
    "duration": 13,
    "start_time": "2022-03-30T19:38:36.591Z"
   },
   {
    "duration": 12,
    "start_time": "2022-03-30T19:38:36.607Z"
   },
   {
    "duration": 16,
    "start_time": "2022-03-30T19:38:36.621Z"
   },
   {
    "duration": 43,
    "start_time": "2022-03-30T19:38:36.640Z"
   },
   {
    "duration": 73,
    "start_time": "2022-03-30T19:38:36.689Z"
   },
   {
    "duration": 11,
    "start_time": "2022-03-30T19:38:36.783Z"
   },
   {
    "duration": 93,
    "start_time": "2022-03-30T19:38:36.796Z"
   },
   {
    "duration": 155,
    "start_time": "2022-03-30T19:38:36.892Z"
   },
   {
    "duration": 25869,
    "start_time": "2022-03-30T19:38:37.050Z"
   },
   {
    "duration": 463,
    "start_time": "2022-03-30T19:39:02.922Z"
   },
   {
    "duration": 37,
    "start_time": "2022-03-30T19:39:03.387Z"
   },
   {
    "duration": 66,
    "start_time": "2022-03-30T19:39:03.427Z"
   },
   {
    "duration": 137,
    "start_time": "2022-03-30T19:39:03.496Z"
   },
   {
    "duration": 21716,
    "start_time": "2022-03-30T19:39:03.636Z"
   },
   {
    "duration": 1043,
    "start_time": "2022-03-30T19:39:25.355Z"
   },
   {
    "duration": 53,
    "start_time": "2022-03-30T19:39:26.401Z"
   },
   {
    "duration": 31,
    "start_time": "2022-03-30T19:39:26.456Z"
   },
   {
    "duration": 25,
    "start_time": "2022-03-30T19:39:26.489Z"
   },
   {
    "duration": 171,
    "start_time": "2022-03-30T19:39:26.517Z"
   },
   {
    "duration": 98,
    "start_time": "2022-03-30T19:39:26.691Z"
   },
   {
    "duration": 32146,
    "start_time": "2022-03-30T19:39:26.791Z"
   },
   {
    "duration": 574,
    "start_time": "2022-03-30T19:39:58.940Z"
   },
   {
    "duration": 32,
    "start_time": "2022-03-30T19:39:59.519Z"
   },
   {
    "duration": 44,
    "start_time": "2022-03-30T19:39:59.554Z"
   },
   {
    "duration": 97,
    "start_time": "2022-03-30T19:39:59.601Z"
   },
   {
    "duration": 107,
    "start_time": "2022-03-30T19:39:59.702Z"
   },
   {
    "duration": 18281,
    "start_time": "2022-03-30T19:39:59.813Z"
   },
   {
    "duration": 260,
    "start_time": "2022-03-30T19:40:18.097Z"
   },
   {
    "duration": 43,
    "start_time": "2022-03-30T19:40:18.360Z"
   },
   {
    "duration": 672,
    "start_time": "2022-03-30T19:40:18.405Z"
   },
   {
    "duration": 30,
    "start_time": "2022-03-30T19:40:19.083Z"
   },
   {
    "duration": 203,
    "start_time": "2022-03-30T19:40:19.116Z"
   },
   {
    "duration": 8,
    "start_time": "2022-03-30T19:40:19.322Z"
   },
   {
    "duration": 218,
    "start_time": "2022-03-30T19:42:19.518Z"
   },
   {
    "duration": 26,
    "start_time": "2022-03-30T19:42:23.216Z"
   },
   {
    "duration": 854,
    "start_time": "2022-03-30T19:43:17.877Z"
   },
   {
    "duration": 1213,
    "start_time": "2022-03-30T19:55:13.641Z"
   },
   {
    "duration": 56,
    "start_time": "2022-03-30T19:55:18.729Z"
   },
   {
    "duration": 275,
    "start_time": "2022-03-30T19:55:18.928Z"
   },
   {
    "duration": 7,
    "start_time": "2022-03-30T19:55:19.272Z"
   },
   {
    "duration": 930,
    "start_time": "2022-03-30T19:56:11.055Z"
   },
   {
    "duration": 41,
    "start_time": "2022-03-30T19:57:57.616Z"
   },
   {
    "duration": 46,
    "start_time": "2022-03-30T19:58:27.669Z"
   },
   {
    "duration": 188,
    "start_time": "2022-03-30T19:58:28.143Z"
   },
   {
    "duration": 8,
    "start_time": "2022-03-30T19:58:36.597Z"
   },
   {
    "duration": 5,
    "start_time": "2022-03-30T20:01:53.165Z"
   },
   {
    "duration": 198,
    "start_time": "2022-03-30T20:01:53.174Z"
   },
   {
    "duration": 31,
    "start_time": "2022-03-30T20:01:53.374Z"
   },
   {
    "duration": 1959,
    "start_time": "2022-03-30T20:01:53.408Z"
   },
   {
    "duration": 0,
    "start_time": "2022-03-30T20:01:55.371Z"
   },
   {
    "duration": 0,
    "start_time": "2022-03-30T20:01:55.373Z"
   },
   {
    "duration": 0,
    "start_time": "2022-03-30T20:01:55.374Z"
   },
   {
    "duration": 0,
    "start_time": "2022-03-30T20:01:55.375Z"
   },
   {
    "duration": 0,
    "start_time": "2022-03-30T20:01:55.377Z"
   },
   {
    "duration": 0,
    "start_time": "2022-03-30T20:01:55.379Z"
   },
   {
    "duration": 0,
    "start_time": "2022-03-30T20:01:55.380Z"
   },
   {
    "duration": 0,
    "start_time": "2022-03-30T20:01:55.381Z"
   },
   {
    "duration": 0,
    "start_time": "2022-03-30T20:01:55.383Z"
   },
   {
    "duration": 0,
    "start_time": "2022-03-30T20:01:55.385Z"
   },
   {
    "duration": 0,
    "start_time": "2022-03-30T20:01:55.387Z"
   },
   {
    "duration": 0,
    "start_time": "2022-03-30T20:01:55.389Z"
   },
   {
    "duration": 0,
    "start_time": "2022-03-30T20:01:55.391Z"
   },
   {
    "duration": 0,
    "start_time": "2022-03-30T20:01:55.393Z"
   },
   {
    "duration": 0,
    "start_time": "2022-03-30T20:01:55.395Z"
   },
   {
    "duration": 0,
    "start_time": "2022-03-30T20:01:55.397Z"
   },
   {
    "duration": 0,
    "start_time": "2022-03-30T20:01:55.399Z"
   },
   {
    "duration": 0,
    "start_time": "2022-03-30T20:01:55.401Z"
   },
   {
    "duration": 0,
    "start_time": "2022-03-30T20:01:55.403Z"
   },
   {
    "duration": 0,
    "start_time": "2022-03-30T20:01:55.405Z"
   },
   {
    "duration": 0,
    "start_time": "2022-03-30T20:01:55.407Z"
   },
   {
    "duration": 0,
    "start_time": "2022-03-30T20:01:55.409Z"
   },
   {
    "duration": 0,
    "start_time": "2022-03-30T20:01:55.411Z"
   },
   {
    "duration": 0,
    "start_time": "2022-03-30T20:01:55.412Z"
   },
   {
    "duration": 0,
    "start_time": "2022-03-30T20:01:55.414Z"
   },
   {
    "duration": 0,
    "start_time": "2022-03-30T20:01:55.416Z"
   },
   {
    "duration": 0,
    "start_time": "2022-03-30T20:01:55.417Z"
   },
   {
    "duration": 0,
    "start_time": "2022-03-30T20:01:55.420Z"
   },
   {
    "duration": 0,
    "start_time": "2022-03-30T20:01:55.422Z"
   },
   {
    "duration": 0,
    "start_time": "2022-03-30T20:01:55.424Z"
   },
   {
    "duration": 0,
    "start_time": "2022-03-30T20:01:55.426Z"
   },
   {
    "duration": 0,
    "start_time": "2022-03-30T20:01:55.485Z"
   },
   {
    "duration": 1,
    "start_time": "2022-03-30T20:01:55.486Z"
   },
   {
    "duration": 0,
    "start_time": "2022-03-30T20:01:55.488Z"
   },
   {
    "duration": 1,
    "start_time": "2022-03-30T20:01:55.494Z"
   },
   {
    "duration": 6,
    "start_time": "2022-03-30T20:03:08.596Z"
   },
   {
    "duration": 110,
    "start_time": "2022-03-30T20:03:08.606Z"
   },
   {
    "duration": 25,
    "start_time": "2022-03-30T20:03:08.718Z"
   },
   {
    "duration": 5,
    "start_time": "2022-03-30T20:03:08.746Z"
   },
   {
    "duration": 2,
    "start_time": "2022-03-30T20:03:08.786Z"
   },
   {
    "duration": 23,
    "start_time": "2022-03-30T20:03:08.791Z"
   },
   {
    "duration": 10,
    "start_time": "2022-03-30T20:03:08.817Z"
   },
   {
    "duration": 17,
    "start_time": "2022-03-30T20:03:08.829Z"
   },
   {
    "duration": 33,
    "start_time": "2022-03-30T20:03:08.850Z"
   },
   {
    "duration": 11,
    "start_time": "2022-03-30T20:03:08.886Z"
   },
   {
    "duration": 55,
    "start_time": "2022-03-30T20:03:08.900Z"
   },
   {
    "duration": 8,
    "start_time": "2022-03-30T20:03:08.957Z"
   },
   {
    "duration": 128,
    "start_time": "2022-03-30T20:03:08.967Z"
   },
   {
    "duration": 131,
    "start_time": "2022-03-30T20:03:09.098Z"
   },
   {
    "duration": 25527,
    "start_time": "2022-03-30T20:03:09.232Z"
   },
   {
    "duration": 188,
    "start_time": "2022-03-30T20:03:34.761Z"
   },
   {
    "duration": 37,
    "start_time": "2022-03-30T20:03:34.952Z"
   },
   {
    "duration": 94,
    "start_time": "2022-03-30T20:03:34.992Z"
   },
   {
    "duration": 136,
    "start_time": "2022-03-30T20:03:35.089Z"
   },
   {
    "duration": 22425,
    "start_time": "2022-03-30T20:03:35.227Z"
   },
   {
    "duration": 798,
    "start_time": "2022-03-30T20:03:57.654Z"
   },
   {
    "duration": 63,
    "start_time": "2022-03-30T20:03:58.454Z"
   },
   {
    "duration": 6,
    "start_time": "2022-03-30T20:03:58.519Z"
   },
   {
    "duration": 20,
    "start_time": "2022-03-30T20:03:58.530Z"
   },
   {
    "duration": 153,
    "start_time": "2022-03-30T20:03:58.552Z"
   },
   {
    "duration": 64,
    "start_time": "2022-03-30T20:03:58.785Z"
   },
   {
    "duration": 31021,
    "start_time": "2022-03-30T20:03:58.851Z"
   },
   {
    "duration": 863,
    "start_time": "2022-03-30T20:04:29.874Z"
   },
   {
    "duration": 53,
    "start_time": "2022-03-30T20:04:30.740Z"
   },
   {
    "duration": 18,
    "start_time": "2022-03-30T20:04:30.795Z"
   },
   {
    "duration": 75,
    "start_time": "2022-03-30T20:04:30.816Z"
   },
   {
    "duration": 121,
    "start_time": "2022-03-30T20:04:30.894Z"
   },
   {
    "duration": 12853,
    "start_time": "2022-03-30T20:04:31.017Z"
   },
   {
    "duration": 265,
    "start_time": "2022-03-30T20:04:43.872Z"
   },
   {
    "duration": 57,
    "start_time": "2022-03-30T20:04:44.140Z"
   },
   {
    "duration": 878,
    "start_time": "2022-03-30T20:04:44.199Z"
   },
   {
    "duration": 40,
    "start_time": "2022-03-30T20:04:45.086Z"
   },
   {
    "duration": 214,
    "start_time": "2022-03-30T20:04:45.129Z"
   },
   {
    "duration": 7,
    "start_time": "2022-03-30T20:04:45.345Z"
   },
   {
    "duration": 8,
    "start_time": "2022-03-30T20:06:38.169Z"
   },
   {
    "duration": 7,
    "start_time": "2022-03-30T20:08:42.315Z"
   },
   {
    "duration": 116,
    "start_time": "2022-03-30T20:08:42.325Z"
   },
   {
    "duration": 25,
    "start_time": "2022-03-30T20:08:42.443Z"
   },
   {
    "duration": 7,
    "start_time": "2022-03-30T20:08:42.470Z"
   },
   {
    "duration": 20,
    "start_time": "2022-03-30T20:08:42.480Z"
   },
   {
    "duration": 12,
    "start_time": "2022-03-30T20:08:42.502Z"
   },
   {
    "duration": 11,
    "start_time": "2022-03-30T20:08:42.516Z"
   },
   {
    "duration": 12,
    "start_time": "2022-03-30T20:08:42.529Z"
   },
   {
    "duration": 13,
    "start_time": "2022-03-30T20:08:42.543Z"
   },
   {
    "duration": 5,
    "start_time": "2022-03-30T20:08:42.558Z"
   },
   {
    "duration": 69,
    "start_time": "2022-03-30T20:08:42.566Z"
   },
   {
    "duration": 7,
    "start_time": "2022-03-30T20:08:42.638Z"
   },
   {
    "duration": 136,
    "start_time": "2022-03-30T20:08:42.647Z"
   },
   {
    "duration": 133,
    "start_time": "2022-03-30T20:08:42.801Z"
   },
   {
    "duration": 23669,
    "start_time": "2022-03-30T20:08:42.936Z"
   },
   {
    "duration": 180,
    "start_time": "2022-03-30T20:09:06.608Z"
   },
   {
    "duration": 19,
    "start_time": "2022-03-30T20:09:06.791Z"
   },
   {
    "duration": 82,
    "start_time": "2022-03-30T20:09:06.812Z"
   },
   {
    "duration": 123,
    "start_time": "2022-03-30T20:09:06.901Z"
   },
   {
    "duration": 22561,
    "start_time": "2022-03-30T20:09:07.026Z"
   },
   {
    "duration": 885,
    "start_time": "2022-03-30T20:09:29.593Z"
   },
   {
    "duration": 66,
    "start_time": "2022-03-30T20:09:30.484Z"
   },
   {
    "duration": 6,
    "start_time": "2022-03-30T20:09:30.552Z"
   },
   {
    "duration": 59,
    "start_time": "2022-03-30T20:09:30.560Z"
   },
   {
    "duration": 168,
    "start_time": "2022-03-30T20:09:30.622Z"
   },
   {
    "duration": 108,
    "start_time": "2022-03-30T20:09:30.796Z"
   },
   {
    "duration": 5,
    "start_time": "2022-03-30T20:10:21.712Z"
   },
   {
    "duration": 112,
    "start_time": "2022-03-30T20:10:21.719Z"
   },
   {
    "duration": 25,
    "start_time": "2022-03-30T20:10:21.833Z"
   },
   {
    "duration": 7,
    "start_time": "2022-03-30T20:10:21.860Z"
   },
   {
    "duration": 16,
    "start_time": "2022-03-30T20:10:21.869Z"
   },
   {
    "duration": 15,
    "start_time": "2022-03-30T20:10:21.888Z"
   },
   {
    "duration": 10,
    "start_time": "2022-03-30T20:10:21.905Z"
   },
   {
    "duration": 11,
    "start_time": "2022-03-30T20:10:21.918Z"
   },
   {
    "duration": 13,
    "start_time": "2022-03-30T20:10:21.931Z"
   },
   {
    "duration": 6,
    "start_time": "2022-03-30T20:10:21.946Z"
   },
   {
    "duration": 57,
    "start_time": "2022-03-30T20:10:21.985Z"
   },
   {
    "duration": 7,
    "start_time": "2022-03-30T20:10:22.045Z"
   },
   {
    "duration": 67,
    "start_time": "2022-03-30T20:10:22.054Z"
   },
   {
    "duration": 135,
    "start_time": "2022-03-30T20:10:22.197Z"
   },
   {
    "duration": 22594,
    "start_time": "2022-03-30T20:10:22.334Z"
   },
   {
    "duration": 474,
    "start_time": "2022-03-30T20:10:44.931Z"
   },
   {
    "duration": 37,
    "start_time": "2022-03-30T20:10:45.408Z"
   },
   {
    "duration": 137,
    "start_time": "2022-03-30T20:10:45.447Z"
   },
   {
    "duration": 136,
    "start_time": "2022-03-30T20:10:45.586Z"
   },
   {
    "duration": 22188,
    "start_time": "2022-03-30T20:10:45.725Z"
   },
   {
    "duration": 815,
    "start_time": "2022-03-30T20:11:07.915Z"
   },
   {
    "duration": 66,
    "start_time": "2022-03-30T20:11:08.732Z"
   },
   {
    "duration": 6,
    "start_time": "2022-03-30T20:11:08.800Z"
   },
   {
    "duration": 22,
    "start_time": "2022-03-30T20:11:08.808Z"
   },
   {
    "duration": 72,
    "start_time": "2022-03-30T20:11:08.832Z"
   },
   {
    "duration": 150,
    "start_time": "2022-03-30T20:11:08.983Z"
   },
   {
    "duration": 31903,
    "start_time": "2022-03-30T20:11:09.136Z"
   },
   {
    "duration": 1105,
    "start_time": "2022-03-30T20:11:41.041Z"
   },
   {
    "duration": 60,
    "start_time": "2022-03-30T20:11:42.148Z"
   },
   {
    "duration": 20,
    "start_time": "2022-03-30T20:11:42.211Z"
   },
   {
    "duration": 69,
    "start_time": "2022-03-30T20:11:42.233Z"
   },
   {
    "duration": 38,
    "start_time": "2022-03-30T20:11:42.385Z"
   },
   {
    "duration": 13066,
    "start_time": "2022-03-30T20:11:42.425Z"
   },
   {
    "duration": 283,
    "start_time": "2022-03-30T20:11:55.492Z"
   },
   {
    "duration": 37,
    "start_time": "2022-03-30T20:11:55.777Z"
   },
   {
    "duration": 864,
    "start_time": "2022-03-30T20:11:55.817Z"
   },
   {
    "duration": 42,
    "start_time": "2022-03-30T20:11:56.684Z"
   },
   {
    "duration": 216,
    "start_time": "2022-03-30T20:11:56.728Z"
   },
   {
    "duration": 8,
    "start_time": "2022-03-30T20:11:56.946Z"
   },
   {
    "duration": 570,
    "start_time": "2022-03-30T20:12:13.630Z"
   },
   {
    "duration": 33,
    "start_time": "2022-03-30T20:12:18.697Z"
   },
   {
    "duration": 570,
    "start_time": "2022-03-30T20:13:16.026Z"
   },
   {
    "duration": 29,
    "start_time": "2022-03-30T20:13:20.641Z"
   },
   {
    "duration": 205,
    "start_time": "2022-03-30T20:13:20.781Z"
   },
   {
    "duration": 7,
    "start_time": "2022-03-30T20:13:21.364Z"
   },
   {
    "duration": 5,
    "start_time": "2022-03-30T20:13:54.302Z"
   },
   {
    "duration": 87,
    "start_time": "2022-03-30T20:13:54.310Z"
   },
   {
    "duration": 25,
    "start_time": "2022-03-30T20:13:54.400Z"
   },
   {
    "duration": 7,
    "start_time": "2022-03-30T20:13:54.428Z"
   },
   {
    "duration": 4,
    "start_time": "2022-03-30T20:13:54.438Z"
   },
   {
    "duration": 40,
    "start_time": "2022-03-30T20:13:54.444Z"
   },
   {
    "duration": 23,
    "start_time": "2022-03-30T20:13:54.488Z"
   },
   {
    "duration": 14,
    "start_time": "2022-03-30T20:13:54.513Z"
   },
   {
    "duration": 13,
    "start_time": "2022-03-30T20:13:54.529Z"
   },
   {
    "duration": 5,
    "start_time": "2022-03-30T20:13:54.544Z"
   },
   {
    "duration": 75,
    "start_time": "2022-03-30T20:13:54.551Z"
   },
   {
    "duration": 9,
    "start_time": "2022-03-30T20:13:54.628Z"
   },
   {
    "duration": 54,
    "start_time": "2022-03-30T20:13:54.639Z"
   },
   {
    "duration": 223,
    "start_time": "2022-03-30T20:13:54.700Z"
   },
   {
    "duration": 22278,
    "start_time": "2022-03-30T20:13:54.926Z"
   },
   {
    "duration": 468,
    "start_time": "2022-03-30T20:14:17.207Z"
   },
   {
    "duration": 44,
    "start_time": "2022-03-30T20:14:17.677Z"
   },
   {
    "duration": 68,
    "start_time": "2022-03-30T20:14:17.723Z"
   },
   {
    "duration": 136,
    "start_time": "2022-03-30T20:14:17.794Z"
   },
   {
    "duration": 22931,
    "start_time": "2022-03-30T20:14:17.933Z"
   },
   {
    "duration": 811,
    "start_time": "2022-03-30T20:14:40.866Z"
   },
   {
    "duration": 54,
    "start_time": "2022-03-30T20:14:41.684Z"
   },
   {
    "duration": 5,
    "start_time": "2022-03-30T20:14:41.741Z"
   },
   {
    "duration": 55,
    "start_time": "2022-03-30T20:14:41.748Z"
   },
   {
    "duration": 80,
    "start_time": "2022-03-30T20:14:41.807Z"
   },
   {
    "duration": 145,
    "start_time": "2022-03-30T20:14:41.892Z"
   },
   {
    "duration": 31259,
    "start_time": "2022-03-30T20:14:42.040Z"
   },
   {
    "duration": 594,
    "start_time": "2022-03-30T20:15:13.301Z"
   },
   {
    "duration": 33,
    "start_time": "2022-03-30T20:15:13.897Z"
   },
   {
    "duration": 19,
    "start_time": "2022-03-30T20:15:13.932Z"
   },
   {
    "duration": 144,
    "start_time": "2022-03-30T20:15:13.954Z"
   },
   {
    "duration": 106,
    "start_time": "2022-03-30T20:15:14.101Z"
   },
   {
    "duration": 12742,
    "start_time": "2022-03-30T20:15:14.210Z"
   },
   {
    "duration": 261,
    "start_time": "2022-03-30T20:15:26.954Z"
   },
   {
    "duration": 36,
    "start_time": "2022-03-30T20:15:27.217Z"
   },
   {
    "duration": 580,
    "start_time": "2022-03-30T20:15:27.255Z"
   },
   {
    "duration": 53,
    "start_time": "2022-03-30T20:15:27.838Z"
   },
   {
    "duration": 194,
    "start_time": "2022-03-30T20:15:27.894Z"
   },
   {
    "duration": 13,
    "start_time": "2022-03-30T20:15:28.090Z"
   },
   {
    "duration": 81,
    "start_time": "2022-03-31T14:55:29.705Z"
   },
   {
    "duration": 2305,
    "start_time": "2022-03-31T14:55:39.478Z"
   },
   {
    "duration": 100,
    "start_time": "2022-03-31T14:55:41.786Z"
   },
   {
    "duration": 33,
    "start_time": "2022-03-31T14:55:41.888Z"
   },
   {
    "duration": 6,
    "start_time": "2022-03-31T14:55:41.924Z"
   },
   {
    "duration": 6,
    "start_time": "2022-03-31T14:55:41.933Z"
   },
   {
    "duration": 46,
    "start_time": "2022-03-31T14:55:41.941Z"
   },
   {
    "duration": 13,
    "start_time": "2022-03-31T14:55:41.990Z"
   },
   {
    "duration": 11,
    "start_time": "2022-03-31T14:55:42.005Z"
   },
   {
    "duration": 13,
    "start_time": "2022-03-31T14:55:42.019Z"
   },
   {
    "duration": 50,
    "start_time": "2022-03-31T14:55:42.034Z"
   },
   {
    "duration": 49,
    "start_time": "2022-03-31T14:55:42.086Z"
   },
   {
    "duration": 9,
    "start_time": "2022-03-31T14:55:42.137Z"
   },
   {
    "duration": 141,
    "start_time": "2022-03-31T14:55:42.148Z"
   },
   {
    "duration": 136,
    "start_time": "2022-03-31T14:55:42.297Z"
   },
   {
    "duration": 20914,
    "start_time": "2022-03-31T14:55:42.435Z"
   },
   {
    "duration": 456,
    "start_time": "2022-03-31T14:56:03.351Z"
   },
   {
    "duration": 34,
    "start_time": "2022-03-31T14:56:03.810Z"
   },
   {
    "duration": 57,
    "start_time": "2022-03-31T14:56:03.847Z"
   },
   {
    "duration": 140,
    "start_time": "2022-03-31T14:56:03.983Z"
   },
   {
    "duration": 21011,
    "start_time": "2022-03-31T14:56:04.125Z"
   },
   {
    "duration": 762,
    "start_time": "2022-03-31T14:56:25.138Z"
   },
   {
    "duration": 51,
    "start_time": "2022-03-31T14:56:25.902Z"
   },
   {
    "duration": 29,
    "start_time": "2022-03-31T14:56:25.956Z"
   },
   {
    "duration": 36,
    "start_time": "2022-03-31T14:56:25.988Z"
   },
   {
    "duration": 64,
    "start_time": "2022-03-31T14:56:26.026Z"
   },
   {
    "duration": 154,
    "start_time": "2022-03-31T14:56:26.185Z"
   },
   {
    "duration": 30314,
    "start_time": "2022-03-31T14:56:26.341Z"
   },
   {
    "duration": 571,
    "start_time": "2022-03-31T14:56:56.657Z"
   },
   {
    "duration": 53,
    "start_time": "2022-03-31T14:56:57.231Z"
   },
   {
    "duration": 18,
    "start_time": "2022-03-31T14:56:57.287Z"
   },
   {
    "duration": 78,
    "start_time": "2022-03-31T14:56:57.308Z"
   },
   {
    "duration": 119,
    "start_time": "2022-03-31T14:56:57.390Z"
   },
   {
    "duration": 12505,
    "start_time": "2022-03-31T14:56:57.512Z"
   },
   {
    "duration": 256,
    "start_time": "2022-03-31T14:57:10.019Z"
   },
   {
    "duration": 33,
    "start_time": "2022-03-31T14:57:10.278Z"
   },
   {
    "duration": 564,
    "start_time": "2022-03-31T14:57:10.313Z"
   },
   {
    "duration": 28,
    "start_time": "2022-03-31T14:57:10.879Z"
   },
   {
    "duration": 220,
    "start_time": "2022-03-31T14:57:10.909Z"
   },
   {
    "duration": 8,
    "start_time": "2022-03-31T14:57:11.131Z"
   },
   {
    "duration": 145,
    "start_time": "2022-03-31T14:57:11.141Z"
   },
   {
    "duration": 13,
    "start_time": "2022-03-31T15:02:01.779Z"
   },
   {
    "duration": 6,
    "start_time": "2022-03-31T15:02:22.488Z"
   },
   {
    "duration": 192,
    "start_time": "2022-03-31T15:02:28.844Z"
   },
   {
    "duration": 12,
    "start_time": "2022-03-31T15:45:46.119Z"
   },
   {
    "duration": 6,
    "start_time": "2022-03-31T15:46:18.867Z"
   },
   {
    "duration": 13,
    "start_time": "2022-03-31T15:46:24.265Z"
   },
   {
    "duration": 15,
    "start_time": "2022-03-31T15:46:34.637Z"
   },
   {
    "duration": 254,
    "start_time": "2022-03-31T15:47:45.255Z"
   },
   {
    "duration": 222,
    "start_time": "2022-03-31T15:48:46.592Z"
   },
   {
    "duration": 322,
    "start_time": "2022-03-31T15:49:02.020Z"
   },
   {
    "duration": 6,
    "start_time": "2022-03-31T15:51:50.850Z"
   },
   {
    "duration": 231,
    "start_time": "2022-03-31T15:51:54.934Z"
   },
   {
    "duration": 543,
    "start_time": "2022-03-31T15:52:02.994Z"
   },
   {
    "duration": 232,
    "start_time": "2022-03-31T15:52:09.860Z"
   },
   {
    "duration": 3,
    "start_time": "2022-03-31T15:52:28.787Z"
   },
   {
    "duration": 6,
    "start_time": "2022-03-31T15:52:32.795Z"
   },
   {
    "duration": 152,
    "start_time": "2022-03-31T15:52:32.803Z"
   },
   {
    "duration": 27,
    "start_time": "2022-03-31T15:52:32.958Z"
   },
   {
    "duration": 3,
    "start_time": "2022-03-31T15:52:32.988Z"
   },
   {
    "duration": 25,
    "start_time": "2022-03-31T15:52:32.995Z"
   },
   {
    "duration": 25,
    "start_time": "2022-03-31T15:52:33.023Z"
   },
   {
    "duration": 13,
    "start_time": "2022-03-31T15:52:33.051Z"
   },
   {
    "duration": 10,
    "start_time": "2022-03-31T15:52:33.067Z"
   },
   {
    "duration": 13,
    "start_time": "2022-03-31T15:52:33.080Z"
   },
   {
    "duration": 9,
    "start_time": "2022-03-31T15:52:33.095Z"
   },
   {
    "duration": 47,
    "start_time": "2022-03-31T15:52:33.106Z"
   },
   {
    "duration": 29,
    "start_time": "2022-03-31T15:52:33.156Z"
   },
   {
    "duration": 96,
    "start_time": "2022-03-31T15:52:33.188Z"
   },
   {
    "duration": 139,
    "start_time": "2022-03-31T15:52:33.292Z"
   },
   {
    "duration": 21176,
    "start_time": "2022-03-31T15:52:33.434Z"
   },
   {
    "duration": 435,
    "start_time": "2022-03-31T15:52:54.612Z"
   },
   {
    "duration": 46,
    "start_time": "2022-03-31T15:52:55.049Z"
   },
   {
    "duration": 32,
    "start_time": "2022-03-31T15:52:55.097Z"
   },
   {
    "duration": 141,
    "start_time": "2022-03-31T15:52:55.187Z"
   },
   {
    "duration": 22700,
    "start_time": "2022-03-31T15:52:55.330Z"
   },
   {
    "duration": 855,
    "start_time": "2022-03-31T15:53:18.032Z"
   },
   {
    "duration": 51,
    "start_time": "2022-03-31T15:53:18.890Z"
   },
   {
    "duration": 6,
    "start_time": "2022-03-31T15:53:18.944Z"
   },
   {
    "duration": 44,
    "start_time": "2022-03-31T15:53:18.952Z"
   },
   {
    "duration": 94,
    "start_time": "2022-03-31T15:53:18.999Z"
   },
   {
    "duration": 113,
    "start_time": "2022-03-31T15:53:19.185Z"
   },
   {
    "duration": 29915,
    "start_time": "2022-03-31T15:53:19.301Z"
   },
   {
    "duration": 573,
    "start_time": "2022-03-31T15:53:49.218Z"
   },
   {
    "duration": 32,
    "start_time": "2022-03-31T15:53:49.794Z"
   },
   {
    "duration": 18,
    "start_time": "2022-03-31T15:53:49.828Z"
   },
   {
    "duration": 57,
    "start_time": "2022-03-31T15:53:49.848Z"
   },
   {
    "duration": 190,
    "start_time": "2022-03-31T15:53:49.907Z"
   },
   {
    "duration": 12601,
    "start_time": "2022-03-31T15:53:50.100Z"
   },
   {
    "duration": 250,
    "start_time": "2022-03-31T15:54:02.704Z"
   },
   {
    "duration": 46,
    "start_time": "2022-03-31T15:54:02.956Z"
   },
   {
    "duration": 567,
    "start_time": "2022-03-31T15:54:03.004Z"
   },
   {
    "duration": 34,
    "start_time": "2022-03-31T15:54:03.574Z"
   },
   {
    "duration": 205,
    "start_time": "2022-03-31T15:54:03.610Z"
   },
   {
    "duration": 10,
    "start_time": "2022-03-31T15:54:03.818Z"
   },
   {
    "duration": 333,
    "start_time": "2022-03-31T15:54:03.830Z"
   },
   {
    "duration": 104,
    "start_time": "2022-03-31T15:54:04.170Z"
   },
   {
    "duration": 4,
    "start_time": "2022-03-31T16:00:29.634Z"
   },
   {
    "duration": 6,
    "start_time": "2022-03-31T16:00:34.252Z"
   },
   {
    "duration": 152,
    "start_time": "2022-03-31T16:00:34.269Z"
   },
   {
    "duration": 26,
    "start_time": "2022-03-31T16:00:34.424Z"
   },
   {
    "duration": 19,
    "start_time": "2022-03-31T16:00:34.452Z"
   },
   {
    "duration": 12,
    "start_time": "2022-03-31T16:00:34.484Z"
   },
   {
    "duration": 26,
    "start_time": "2022-03-31T16:00:34.500Z"
   },
   {
    "duration": 41,
    "start_time": "2022-03-31T16:00:34.529Z"
   },
   {
    "duration": 31,
    "start_time": "2022-03-31T16:00:34.572Z"
   },
   {
    "duration": 23,
    "start_time": "2022-03-31T16:00:34.606Z"
   },
   {
    "duration": 29,
    "start_time": "2022-03-31T16:00:34.631Z"
   },
   {
    "duration": 75,
    "start_time": "2022-03-31T16:00:34.663Z"
   },
   {
    "duration": 9,
    "start_time": "2022-03-31T16:00:34.740Z"
   },
   {
    "duration": 57,
    "start_time": "2022-03-31T16:00:34.751Z"
   },
   {
    "duration": 140,
    "start_time": "2022-03-31T16:00:34.887Z"
   },
   {
    "duration": 21147,
    "start_time": "2022-03-31T16:00:35.031Z"
   },
   {
    "duration": 439,
    "start_time": "2022-03-31T16:00:56.184Z"
   },
   {
    "duration": 34,
    "start_time": "2022-03-31T16:00:56.625Z"
   },
   {
    "duration": 126,
    "start_time": "2022-03-31T16:00:56.661Z"
   },
   {
    "duration": 136,
    "start_time": "2022-03-31T16:00:56.793Z"
   },
   {
    "duration": 21192,
    "start_time": "2022-03-31T16:00:56.931Z"
   },
   {
    "duration": 753,
    "start_time": "2022-03-31T16:01:18.126Z"
   },
   {
    "duration": 50,
    "start_time": "2022-03-31T16:01:18.884Z"
   },
   {
    "duration": 5,
    "start_time": "2022-03-31T16:01:18.937Z"
   },
   {
    "duration": 42,
    "start_time": "2022-03-31T16:01:18.944Z"
   },
   {
    "duration": 98,
    "start_time": "2022-03-31T16:01:18.989Z"
   },
   {
    "duration": 151,
    "start_time": "2022-03-31T16:01:19.090Z"
   },
   {
    "duration": 29588,
    "start_time": "2022-03-31T16:01:19.243Z"
   },
   {
    "duration": 544,
    "start_time": "2022-03-31T16:01:48.834Z"
   },
   {
    "duration": 31,
    "start_time": "2022-03-31T16:01:49.380Z"
   },
   {
    "duration": 25,
    "start_time": "2022-03-31T16:01:49.414Z"
   },
   {
    "duration": 49,
    "start_time": "2022-03-31T16:01:49.441Z"
   },
   {
    "duration": 206,
    "start_time": "2022-03-31T16:01:49.494Z"
   },
   {
    "duration": 11704,
    "start_time": "2022-03-31T16:01:49.703Z"
   },
   {
    "duration": 251,
    "start_time": "2022-03-31T16:02:01.409Z"
   },
   {
    "duration": 37,
    "start_time": "2022-03-31T16:02:01.662Z"
   },
   {
    "duration": 565,
    "start_time": "2022-03-31T16:02:01.702Z"
   },
   {
    "duration": 32,
    "start_time": "2022-03-31T16:02:02.269Z"
   },
   {
    "duration": 197,
    "start_time": "2022-03-31T16:02:02.304Z"
   },
   {
    "duration": 8,
    "start_time": "2022-03-31T16:02:02.503Z"
   },
   {
    "duration": 252,
    "start_time": "2022-03-31T16:02:02.513Z"
   }
  ],
  "kernelspec": {
   "display_name": "Python 3",
   "language": "python",
   "name": "python3"
  },
  "language_info": {
   "codemirror_mode": {
    "name": "ipython",
    "version": 3
   },
   "file_extension": ".py",
   "mimetype": "text/x-python",
   "name": "python",
   "nbconvert_exporter": "python",
   "pygments_lexer": "ipython3",
   "version": "3.8.3"
  },
  "toc": {
   "base_numbering": 1,
   "nav_menu": {},
   "number_sections": true,
   "sideBar": true,
   "skip_h1_title": true,
   "title_cell": "Contents",
   "title_sidebar": "Contents",
   "toc_cell": true,
   "toc_position": {},
   "toc_section_display": true,
   "toc_window_display": true
  }
 },
 "nbformat": 4,
 "nbformat_minor": 2
}
